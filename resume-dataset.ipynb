{
 "cells": [
  {
   "cell_type": "code",
   "execution_count": 1,
   "id": "258b8c2a",
   "metadata": {
    "_cell_guid": "b1076dfc-b9ad-4769-8c92-a6c4dae69d19",
    "_uuid": "8f2839f25d086af736a60e9eeb907d3b93b6e0e5",
    "execution": {
     "iopub.execute_input": "2025-02-14T13:30:55.370318Z",
     "iopub.status.busy": "2025-02-14T13:30:55.369816Z",
     "iopub.status.idle": "2025-02-14T13:30:58.148638Z",
     "shell.execute_reply": "2025-02-14T13:30:58.147295Z"
    },
    "papermill": {
     "duration": 2.785621,
     "end_time": "2025-02-14T13:30:58.150705",
     "exception": false,
     "start_time": "2025-02-14T13:30:55.365084",
     "status": "completed"
    },
    "tags": []
   },
   "outputs": [
    {
     "name": "stdout",
     "output_type": "stream",
     "text": [
      "/kaggle/input/resume-dataset/resume_data.csv\n"
     ]
    }
   ],
   "source": [
    "import numpy as np\n",
    "import pandas as pd\n",
    "import seaborn as sns\n",
    "import matplotlib.pyplot as plt\n",
    "\n",
    "import os\n",
    "for dirname, _, filenames in os.walk('/kaggle/input'):\n",
    "    for filename in filenames:\n",
    "        print(os.path.join(dirname, filename))"
   ]
  },
  {
   "cell_type": "code",
   "execution_count": 2,
   "id": "d66117eb",
   "metadata": {
    "execution": {
     "iopub.execute_input": "2025-02-14T13:30:58.158932Z",
     "iopub.status.busy": "2025-02-14T13:30:58.158395Z",
     "iopub.status.idle": "2025-02-14T13:30:58.584959Z",
     "shell.execute_reply": "2025-02-14T13:30:58.583771Z"
    },
    "papermill": {
     "duration": 0.43282,
     "end_time": "2025-02-14T13:30:58.587082",
     "exception": false,
     "start_time": "2025-02-14T13:30:58.154262",
     "status": "completed"
    },
    "tags": []
   },
   "outputs": [],
   "source": [
    "df = pd.read_csv(\"/kaggle/input/resume-dataset/resume_data.csv\")"
   ]
  },
  {
   "cell_type": "code",
   "execution_count": 3,
   "id": "75fecc8f",
   "metadata": {
    "execution": {
     "iopub.execute_input": "2025-02-14T13:30:58.594863Z",
     "iopub.status.busy": "2025-02-14T13:30:58.594468Z",
     "iopub.status.idle": "2025-02-14T13:30:58.635040Z",
     "shell.execute_reply": "2025-02-14T13:30:58.633823Z"
    },
    "papermill": {
     "duration": 0.0466,
     "end_time": "2025-02-14T13:30:58.636968",
     "exception": false,
     "start_time": "2025-02-14T13:30:58.590368",
     "status": "completed"
    },
    "tags": []
   },
   "outputs": [
    {
     "data": {
      "text/html": [
       "<div>\n",
       "<style scoped>\n",
       "    .dataframe tbody tr th:only-of-type {\n",
       "        vertical-align: middle;\n",
       "    }\n",
       "\n",
       "    .dataframe tbody tr th {\n",
       "        vertical-align: top;\n",
       "    }\n",
       "\n",
       "    .dataframe thead th {\n",
       "        text-align: right;\n",
       "    }\n",
       "</style>\n",
       "<table border=\"1\" class=\"dataframe\">\n",
       "  <thead>\n",
       "    <tr style=\"text-align: right;\">\n",
       "      <th></th>\n",
       "      <th>address</th>\n",
       "      <th>career_objective</th>\n",
       "      <th>skills</th>\n",
       "      <th>educational_institution_name</th>\n",
       "      <th>degree_names</th>\n",
       "      <th>passing_years</th>\n",
       "      <th>educational_results</th>\n",
       "      <th>result_types</th>\n",
       "      <th>major_field_of_studies</th>\n",
       "      <th>professional_company_names</th>\n",
       "      <th>...</th>\n",
       "      <th>online_links</th>\n",
       "      <th>issue_dates</th>\n",
       "      <th>expiry_dates</th>\n",
       "      <th>﻿job_position_name</th>\n",
       "      <th>educationaL_requirements</th>\n",
       "      <th>experiencere_requirement</th>\n",
       "      <th>age_requirement</th>\n",
       "      <th>responsibilities.1</th>\n",
       "      <th>skills_required</th>\n",
       "      <th>matched_score</th>\n",
       "    </tr>\n",
       "  </thead>\n",
       "  <tbody>\n",
       "    <tr>\n",
       "      <th>0</th>\n",
       "      <td>NaN</td>\n",
       "      <td>Big data analytics working and database wareho...</td>\n",
       "      <td>['Big Data', 'Hadoop', 'Hive', 'Python', 'Mapr...</td>\n",
       "      <td>['The Amity School of Engineering &amp; Technology...</td>\n",
       "      <td>['B.Tech']</td>\n",
       "      <td>['2019']</td>\n",
       "      <td>['N/A']</td>\n",
       "      <td>[None]</td>\n",
       "      <td>['Electronics']</td>\n",
       "      <td>['Coca-COla']</td>\n",
       "      <td>...</td>\n",
       "      <td>NaN</td>\n",
       "      <td>NaN</td>\n",
       "      <td>NaN</td>\n",
       "      <td>Senior Software Engineer</td>\n",
       "      <td>B.Sc in Computer Science &amp; Engineering from a ...</td>\n",
       "      <td>At least 1 year</td>\n",
       "      <td>NaN</td>\n",
       "      <td>Technical Support\\nTroubleshooting\\nCollaborat...</td>\n",
       "      <td>NaN</td>\n",
       "      <td>0.850000</td>\n",
       "    </tr>\n",
       "    <tr>\n",
       "      <th>1</th>\n",
       "      <td>NaN</td>\n",
       "      <td>Fresher looking to join as a data analyst and ...</td>\n",
       "      <td>['Data Analysis', 'Data Analytics', 'Business ...</td>\n",
       "      <td>['Delhi University - Hansraj College', 'Delhi ...</td>\n",
       "      <td>['B.Sc (Maths)', 'M.Sc (Science) (Statistics)']</td>\n",
       "      <td>['2015', '2018']</td>\n",
       "      <td>['N/A', 'N/A']</td>\n",
       "      <td>['N/A', 'N/A']</td>\n",
       "      <td>['Mathematics', 'Statistics']</td>\n",
       "      <td>['BIB Consultancy']</td>\n",
       "      <td>...</td>\n",
       "      <td>NaN</td>\n",
       "      <td>NaN</td>\n",
       "      <td>NaN</td>\n",
       "      <td>Machine Learning (ML) Engineer</td>\n",
       "      <td>M.Sc in Computer Science &amp; Engineering or in a...</td>\n",
       "      <td>At least 5 year(s)</td>\n",
       "      <td>NaN</td>\n",
       "      <td>Machine Learning Leadership\\nCross-Functional ...</td>\n",
       "      <td>NaN</td>\n",
       "      <td>0.750000</td>\n",
       "    </tr>\n",
       "    <tr>\n",
       "      <th>2</th>\n",
       "      <td>NaN</td>\n",
       "      <td>NaN</td>\n",
       "      <td>['Software Development', 'Machine Learning', '...</td>\n",
       "      <td>['Birla Institute of Technology (BIT), Ranchi']</td>\n",
       "      <td>['B.Tech']</td>\n",
       "      <td>['2018']</td>\n",
       "      <td>['N/A']</td>\n",
       "      <td>['N/A']</td>\n",
       "      <td>['Electronics/Telecommunication']</td>\n",
       "      <td>['Axis Bank Limited']</td>\n",
       "      <td>...</td>\n",
       "      <td>NaN</td>\n",
       "      <td>NaN</td>\n",
       "      <td>NaN</td>\n",
       "      <td>Executive/ Senior Executive- Trade Marketing, ...</td>\n",
       "      <td>Master of Business Administration (MBA)</td>\n",
       "      <td>At least 3 years</td>\n",
       "      <td>NaN</td>\n",
       "      <td>Trade Marketing Executive\\nBrand Visibility, S...</td>\n",
       "      <td>Brand Promotion\\nCampaign Management\\nField Su...</td>\n",
       "      <td>0.416667</td>\n",
       "    </tr>\n",
       "    <tr>\n",
       "      <th>3</th>\n",
       "      <td>NaN</td>\n",
       "      <td>To obtain a position in a fast-paced business ...</td>\n",
       "      <td>['accounts payables', 'accounts receivables', ...</td>\n",
       "      <td>['Martinez Adult Education, Business Training ...</td>\n",
       "      <td>['Computer Applications Specialist Certificate...</td>\n",
       "      <td>['2008']</td>\n",
       "      <td>[None]</td>\n",
       "      <td>[None]</td>\n",
       "      <td>['Computer Applications']</td>\n",
       "      <td>['Company Name ï¼ City , State', 'Company Name...</td>\n",
       "      <td>...</td>\n",
       "      <td>NaN</td>\n",
       "      <td>NaN</td>\n",
       "      <td>NaN</td>\n",
       "      <td>Business Development Executive</td>\n",
       "      <td>Bachelor/Honors</td>\n",
       "      <td>1 to 3 years</td>\n",
       "      <td>Age 22 to 30 years</td>\n",
       "      <td>Apparel Sourcing\\nQuality Garment Sourcing\\nRe...</td>\n",
       "      <td>Fast typing skill\\nIELTSInternet browsing &amp; on...</td>\n",
       "      <td>0.760000</td>\n",
       "    </tr>\n",
       "    <tr>\n",
       "      <th>4</th>\n",
       "      <td>NaN</td>\n",
       "      <td>Professional accountant with an outstanding wo...</td>\n",
       "      <td>['Analytical reasoning', 'Compliance testing k...</td>\n",
       "      <td>['Kent State University']</td>\n",
       "      <td>['Bachelor of Business Administration']</td>\n",
       "      <td>[None]</td>\n",
       "      <td>['3.84']</td>\n",
       "      <td>[None]</td>\n",
       "      <td>['Accounting']</td>\n",
       "      <td>['Company Name', 'Company Name', 'Company Name...</td>\n",
       "      <td>...</td>\n",
       "      <td>[None]</td>\n",
       "      <td>[None]</td>\n",
       "      <td>['February 15, 2021']</td>\n",
       "      <td>Senior iOS Engineer</td>\n",
       "      <td>Bachelor of Science (BSc) in Computer Science</td>\n",
       "      <td>At least 4 years</td>\n",
       "      <td>NaN</td>\n",
       "      <td>iOS Lifecycle\\nRequirement Analysis\\nNative Fr...</td>\n",
       "      <td>iOS\\niOS App Developer\\niOS Application Develo...</td>\n",
       "      <td>0.650000</td>\n",
       "    </tr>\n",
       "  </tbody>\n",
       "</table>\n",
       "<p>5 rows × 35 columns</p>\n",
       "</div>"
      ],
      "text/plain": [
       "  address                                   career_objective  \\\n",
       "0     NaN  Big data analytics working and database wareho...   \n",
       "1     NaN  Fresher looking to join as a data analyst and ...   \n",
       "2     NaN                                                NaN   \n",
       "3     NaN  To obtain a position in a fast-paced business ...   \n",
       "4     NaN  Professional accountant with an outstanding wo...   \n",
       "\n",
       "                                              skills  \\\n",
       "0  ['Big Data', 'Hadoop', 'Hive', 'Python', 'Mapr...   \n",
       "1  ['Data Analysis', 'Data Analytics', 'Business ...   \n",
       "2  ['Software Development', 'Machine Learning', '...   \n",
       "3  ['accounts payables', 'accounts receivables', ...   \n",
       "4  ['Analytical reasoning', 'Compliance testing k...   \n",
       "\n",
       "                        educational_institution_name  \\\n",
       "0  ['The Amity School of Engineering & Technology...   \n",
       "1  ['Delhi University - Hansraj College', 'Delhi ...   \n",
       "2    ['Birla Institute of Technology (BIT), Ranchi']   \n",
       "3  ['Martinez Adult Education, Business Training ...   \n",
       "4                          ['Kent State University']   \n",
       "\n",
       "                                        degree_names     passing_years  \\\n",
       "0                                         ['B.Tech']          ['2019']   \n",
       "1    ['B.Sc (Maths)', 'M.Sc (Science) (Statistics)']  ['2015', '2018']   \n",
       "2                                         ['B.Tech']          ['2018']   \n",
       "3  ['Computer Applications Specialist Certificate...          ['2008']   \n",
       "4            ['Bachelor of Business Administration']            [None]   \n",
       "\n",
       "  educational_results    result_types             major_field_of_studies  \\\n",
       "0             ['N/A']          [None]                    ['Electronics']   \n",
       "1      ['N/A', 'N/A']  ['N/A', 'N/A']      ['Mathematics', 'Statistics']   \n",
       "2             ['N/A']         ['N/A']  ['Electronics/Telecommunication']   \n",
       "3              [None]          [None]          ['Computer Applications']   \n",
       "4            ['3.84']          [None]                     ['Accounting']   \n",
       "\n",
       "                          professional_company_names  ... online_links  \\\n",
       "0                                      ['Coca-COla']  ...          NaN   \n",
       "1                                ['BIB Consultancy']  ...          NaN   \n",
       "2                              ['Axis Bank Limited']  ...          NaN   \n",
       "3  ['Company Name ï¼ City , State', 'Company Name...  ...          NaN   \n",
       "4  ['Company Name', 'Company Name', 'Company Name...  ...       [None]   \n",
       "\n",
       "  issue_dates           expiry_dates  \\\n",
       "0         NaN                    NaN   \n",
       "1         NaN                    NaN   \n",
       "2         NaN                    NaN   \n",
       "3         NaN                    NaN   \n",
       "4      [None]  ['February 15, 2021']   \n",
       "\n",
       "                                  ﻿job_position_name  \\\n",
       "0                           Senior Software Engineer   \n",
       "1                     Machine Learning (ML) Engineer   \n",
       "2  Executive/ Senior Executive- Trade Marketing, ...   \n",
       "3                     Business Development Executive   \n",
       "4                                Senior iOS Engineer   \n",
       "\n",
       "                            educationaL_requirements experiencere_requirement  \\\n",
       "0  B.Sc in Computer Science & Engineering from a ...          At least 1 year   \n",
       "1  M.Sc in Computer Science & Engineering or in a...       At least 5 year(s)   \n",
       "2            Master of Business Administration (MBA)         At least 3 years   \n",
       "3                                    Bachelor/Honors             1 to 3 years   \n",
       "4      Bachelor of Science (BSc) in Computer Science         At least 4 years   \n",
       "\n",
       "      age_requirement                                 responsibilities.1  \\\n",
       "0                 NaN  Technical Support\\nTroubleshooting\\nCollaborat...   \n",
       "1                 NaN  Machine Learning Leadership\\nCross-Functional ...   \n",
       "2                 NaN  Trade Marketing Executive\\nBrand Visibility, S...   \n",
       "3  Age 22 to 30 years  Apparel Sourcing\\nQuality Garment Sourcing\\nRe...   \n",
       "4                 NaN  iOS Lifecycle\\nRequirement Analysis\\nNative Fr...   \n",
       "\n",
       "                                     skills_required matched_score  \n",
       "0                                                NaN      0.850000  \n",
       "1                                                NaN      0.750000  \n",
       "2  Brand Promotion\\nCampaign Management\\nField Su...      0.416667  \n",
       "3  Fast typing skill\\nIELTSInternet browsing & on...      0.760000  \n",
       "4  iOS\\niOS App Developer\\niOS Application Develo...      0.650000  \n",
       "\n",
       "[5 rows x 35 columns]"
      ]
     },
     "execution_count": 3,
     "metadata": {},
     "output_type": "execute_result"
    }
   ],
   "source": [
    "df.head()"
   ]
  },
  {
   "cell_type": "code",
   "execution_count": 4,
   "id": "e551393c",
   "metadata": {
    "execution": {
     "iopub.execute_input": "2025-02-14T13:30:58.645728Z",
     "iopub.status.busy": "2025-02-14T13:30:58.645340Z",
     "iopub.status.idle": "2025-02-14T13:30:58.691931Z",
     "shell.execute_reply": "2025-02-14T13:30:58.690517Z"
    },
    "papermill": {
     "duration": 0.053175,
     "end_time": "2025-02-14T13:30:58.693986",
     "exception": false,
     "start_time": "2025-02-14T13:30:58.640811",
     "status": "completed"
    },
    "tags": []
   },
   "outputs": [
    {
     "name": "stdout",
     "output_type": "stream",
     "text": [
      "<class 'pandas.core.frame.DataFrame'>\n",
      "RangeIndex: 9544 entries, 0 to 9543\n",
      "Data columns (total 35 columns):\n",
      " #   Column                               Non-Null Count  Dtype  \n",
      "---  ------                               --------------  -----  \n",
      " 0   address                              784 non-null    object \n",
      " 1   career_objective                     4740 non-null   object \n",
      " 2   skills                               9488 non-null   object \n",
      " 3   educational_institution_name         9460 non-null   object \n",
      " 4   degree_names                         9460 non-null   object \n",
      " 5   passing_years                        9460 non-null   object \n",
      " 6   educational_results                  9460 non-null   object \n",
      " 7   result_types                         9460 non-null   object \n",
      " 8   major_field_of_studies               9460 non-null   object \n",
      " 9   professional_company_names           9460 non-null   object \n",
      " 10  company_urls                         9460 non-null   object \n",
      " 11  start_dates                          9460 non-null   object \n",
      " 12  end_dates                            9460 non-null   object \n",
      " 13  related_skils_in_job                 9460 non-null   object \n",
      " 14  positions                            9460 non-null   object \n",
      " 15  locations                            9460 non-null   object \n",
      " 16  responsibilities                     9544 non-null   object \n",
      " 17  extra_curricular_activity_types      3426 non-null   object \n",
      " 18  extra_curricular_organization_names  3426 non-null   object \n",
      " 19  extra_curricular_organization_links  3426 non-null   object \n",
      " 20  role_positions                       3426 non-null   object \n",
      " 21  languages                            700 non-null    object \n",
      " 22  proficiency_levels                   700 non-null    object \n",
      " 23  certification_providers              2008 non-null   object \n",
      " 24  certification_skills                 2008 non-null   object \n",
      " 25  online_links                         2008 non-null   object \n",
      " 26  issue_dates                          2008 non-null   object \n",
      " 27  expiry_dates                         2008 non-null   object \n",
      " 28  ﻿job_position_name                   9544 non-null   object \n",
      " 29  educationaL_requirements             9544 non-null   object \n",
      " 30  experiencere_requirement             8180 non-null   object \n",
      " 31  age_requirement                      5457 non-null   object \n",
      " 32  responsibilities.1                   9544 non-null   object \n",
      " 33  skills_required                      7843 non-null   object \n",
      " 34  matched_score                        9544 non-null   float64\n",
      "dtypes: float64(1), object(34)\n",
      "memory usage: 2.5+ MB\n"
     ]
    }
   ],
   "source": [
    "df.info()"
   ]
  },
  {
   "cell_type": "code",
   "execution_count": 5,
   "id": "aa7dda77",
   "metadata": {
    "execution": {
     "iopub.execute_input": "2025-02-14T13:30:58.703148Z",
     "iopub.status.busy": "2025-02-14T13:30:58.702791Z",
     "iopub.status.idle": "2025-02-14T13:30:58.728021Z",
     "shell.execute_reply": "2025-02-14T13:30:58.727038Z"
    },
    "papermill": {
     "duration": 0.031943,
     "end_time": "2025-02-14T13:30:58.729915",
     "exception": false,
     "start_time": "2025-02-14T13:30:58.697972",
     "status": "completed"
    },
    "tags": []
   },
   "outputs": [
    {
     "data": {
      "text/plain": [
       "address                                8760\n",
       "career_objective                       4804\n",
       "skills                                   56\n",
       "educational_institution_name             84\n",
       "degree_names                             84\n",
       "passing_years                            84\n",
       "educational_results                      84\n",
       "result_types                             84\n",
       "major_field_of_studies                   84\n",
       "professional_company_names               84\n",
       "company_urls                             84\n",
       "start_dates                              84\n",
       "end_dates                                84\n",
       "related_skils_in_job                     84\n",
       "positions                                84\n",
       "locations                                84\n",
       "responsibilities                          0\n",
       "extra_curricular_activity_types        6118\n",
       "extra_curricular_organization_names    6118\n",
       "extra_curricular_organization_links    6118\n",
       "role_positions                         6118\n",
       "languages                              8844\n",
       "proficiency_levels                     8844\n",
       "certification_providers                7536\n",
       "certification_skills                   7536\n",
       "online_links                           7536\n",
       "issue_dates                            7536\n",
       "expiry_dates                           7536\n",
       "﻿job_position_name                        0\n",
       "educationaL_requirements                  0\n",
       "experiencere_requirement               1364\n",
       "age_requirement                        4087\n",
       "responsibilities.1                        0\n",
       "skills_required                        1701\n",
       "matched_score                             0\n",
       "dtype: int64"
      ]
     },
     "execution_count": 5,
     "metadata": {},
     "output_type": "execute_result"
    }
   ],
   "source": [
    "df.isnull().sum()"
   ]
  },
  {
   "cell_type": "code",
   "execution_count": 6,
   "id": "c8137f63",
   "metadata": {
    "execution": {
     "iopub.execute_input": "2025-02-14T13:30:58.740092Z",
     "iopub.status.busy": "2025-02-14T13:30:58.739633Z",
     "iopub.status.idle": "2025-02-14T13:30:58.767527Z",
     "shell.execute_reply": "2025-02-14T13:30:58.766257Z"
    },
    "papermill": {
     "duration": 0.035573,
     "end_time": "2025-02-14T13:30:58.769596",
     "exception": false,
     "start_time": "2025-02-14T13:30:58.734023",
     "status": "completed"
    },
    "tags": []
   },
   "outputs": [
    {
     "name": "stdout",
     "output_type": "stream",
     "text": [
      "                                     Total missing  Percentage missing\n",
      "address                                       8760           91.785415\n",
      "career_objective                              4804           50.335289\n",
      "extra_curricular_activity_types               6118           64.103101\n",
      "extra_curricular_organization_names           6118           64.103101\n",
      "extra_curricular_organization_links           6118           64.103101\n",
      "role_positions                                6118           64.103101\n",
      "languages                                     8844           92.665549\n",
      "proficiency_levels                            8844           92.665549\n",
      "certification_providers                       7536           78.960604\n",
      "certification_skills                          7536           78.960604\n",
      "online_links                                  7536           78.960604\n",
      "issue_dates                                   7536           78.960604\n",
      "expiry_dates                                  7536           78.960604\n",
      "experiencere_requirement                      1364           14.291702\n",
      "age_requirement                               4087           42.822716\n",
      "skills_required                               1701           17.822716\n"
     ]
    }
   ],
   "source": [
    "# Verificando a quantidade de valores ausentes em cada coluna\n",
    "missing_values = df.isnull().sum()\n",
    "missing_percentage = (missing_values / len(df)) * 100\n",
    "\n",
    "# Exibindo as colunas com valores ausentes\n",
    "missing_data = pd.DataFrame({\n",
    "    'Total missing': missing_values,\n",
    "    'Percentage missing': missing_percentage\n",
    "})\n",
    "\n",
    "# Exibindo as colunas com mais de 10% de valores ausentes\n",
    "print(missing_data[missing_data['Percentage missing'] > 10])\n"
   ]
  },
  {
   "cell_type": "code",
   "execution_count": 7,
   "id": "7567d477",
   "metadata": {
    "execution": {
     "iopub.execute_input": "2025-02-14T13:30:58.779085Z",
     "iopub.status.busy": "2025-02-14T13:30:58.778450Z",
     "iopub.status.idle": "2025-02-14T13:30:58.815439Z",
     "shell.execute_reply": "2025-02-14T13:30:58.813878Z"
    },
    "papermill": {
     "duration": 0.043895,
     "end_time": "2025-02-14T13:30:58.817497",
     "exception": false,
     "start_time": "2025-02-14T13:30:58.773602",
     "status": "completed"
    },
    "tags": []
   },
   "outputs": [
    {
     "name": "stdout",
     "output_type": "stream",
     "text": [
      "skills                          56\n",
      "educational_institution_name    84\n",
      "degree_names                    84\n",
      "passing_years                   84\n",
      "educational_results             84\n",
      "result_types                    84\n",
      "major_field_of_studies          84\n",
      "professional_company_names      84\n",
      "company_urls                    84\n",
      "start_dates                     84\n",
      "end_dates                       84\n",
      "related_skils_in_job            84\n",
      "positions                       84\n",
      "locations                       84\n",
      "responsibilities                 0\n",
      "﻿job_position_name               0\n",
      "educationaL_requirements         0\n",
      "responsibilities.1               0\n",
      "matched_score                    0\n",
      "dtype: int64\n"
     ]
    }
   ],
   "source": [
    "# Remover colunas com mais de 10% de valores ausentes\n",
    "df_cleaned = df.dropna(thresh=len(df) * 0.9, axis=1)\n",
    "\n",
    "# Verificando se as colunas com muitos nulos foram removidas\n",
    "print(df_cleaned.isnull().sum())"
   ]
  },
  {
   "cell_type": "code",
   "execution_count": 8,
   "id": "24c4164a",
   "metadata": {
    "execution": {
     "iopub.execute_input": "2025-02-14T13:30:58.827063Z",
     "iopub.status.busy": "2025-02-14T13:30:58.826614Z",
     "iopub.status.idle": "2025-02-14T13:30:58.838989Z",
     "shell.execute_reply": "2025-02-14T13:30:58.837844Z"
    },
    "papermill": {
     "duration": 0.019062,
     "end_time": "2025-02-14T13:30:58.840787",
     "exception": false,
     "start_time": "2025-02-14T13:30:58.821725",
     "status": "completed"
    },
    "tags": []
   },
   "outputs": [
    {
     "name": "stdout",
     "output_type": "stream",
     "text": [
      "Frequência da coluna matched_score\n",
      "     matched_score  Frequência\n",
      "0         0.850000        1470\n",
      "1         0.650000        1321\n",
      "2         0.716667         516\n",
      "3         0.683333         483\n",
      "4         0.750000         452\n",
      "..             ...         ...\n",
      "340       0.166667           1\n",
      "341       0.903333           1\n",
      "342       0.100000           1\n",
      "343       0.616666           1\n",
      "344       0.050000           1\n",
      "\n",
      "[345 rows x 2 columns]\n"
     ]
    }
   ],
   "source": [
    "# Conta a frequência dos valores na coluna\n",
    "qtd = df['matched_score'].value_counts().reset_index(name='Frequência').rename(columns={'index': 'matched_score'})\n",
    "# Imprime as frequências\n",
    "print('Frequência da coluna matched_score')\n",
    "print(qtd)"
   ]
  },
  {
   "cell_type": "code",
   "execution_count": 9,
   "id": "881f482a",
   "metadata": {
    "execution": {
     "iopub.execute_input": "2025-02-14T13:30:58.850375Z",
     "iopub.status.busy": "2025-02-14T13:30:58.849970Z",
     "iopub.status.idle": "2025-02-14T13:30:59.449415Z",
     "shell.execute_reply": "2025-02-14T13:30:59.448188Z"
    },
    "papermill": {
     "duration": 0.606482,
     "end_time": "2025-02-14T13:30:59.451485",
     "exception": false,
     "start_time": "2025-02-14T13:30:58.845003",
     "status": "completed"
    },
    "tags": []
   },
   "outputs": [
    {
     "name": "stdout",
     "output_type": "stream",
     "text": [
      "            Word  Frequency\n",
      "553         data       8540\n",
      "1256  management       6146\n",
      "1178    learning       5404\n",
      "123     analysis       5320\n",
      "1335   microsoft       3976\n",
      "1731      python       3892\n",
      "1237     machine       3668\n",
      "1459      office       3320\n",
      "820    financial       2908\n",
      "314     business       2904\n"
     ]
    }
   ],
   "source": [
    "from sklearn.feature_extraction.text import CountVectorizer\n",
    "\n",
    "# Criando uma instância de CountVectorizer\n",
    "vectorizer = CountVectorizer(stop_words='english')\n",
    "\n",
    "# Transformando o texto da coluna 'skills' em uma matriz de frequências de palavras\n",
    "X = vectorizer.fit_transform(df['skills'].dropna())\n",
    "\n",
    "# Calculando a frequência de palavras\n",
    "word_freq = X.sum(axis=0).A1\n",
    "words = vectorizer.get_feature_names_out()\n",
    "\n",
    "# Criando um dataframe para visualizar as palavras e suas frequências\n",
    "word_freq_df = pd.DataFrame(list(zip(words, word_freq)), columns=['Word', 'Frequency'])\n",
    "word_freq_df = word_freq_df.sort_values(by='Frequency', ascending=False)\n",
    "\n",
    "print(word_freq_df.head(10))\n"
   ]
  },
  {
   "cell_type": "code",
   "execution_count": 10,
   "id": "c09b9a11",
   "metadata": {
    "execution": {
     "iopub.execute_input": "2025-02-14T13:30:59.461280Z",
     "iopub.status.busy": "2025-02-14T13:30:59.460883Z",
     "iopub.status.idle": "2025-02-14T13:31:09.045271Z",
     "shell.execute_reply": "2025-02-14T13:31:09.043686Z"
    },
    "papermill": {
     "duration": 9.591459,
     "end_time": "2025-02-14T13:31:09.047250",
     "exception": false,
     "start_time": "2025-02-14T13:30:59.455791",
     "status": "completed"
    },
    "tags": []
   },
   "outputs": [
    {
     "name": "stdout",
     "output_type": "stream",
     "text": [
      "Topic 1:\n",
      "django, backup, trends, industry, mentorship, troubleshooting, sql, server, management, database\n",
      "\n",
      "Topic 2:\n",
      "coordination, troubleshooting, documentation, performance, design, management, sourcing, software, vat, support\n",
      "\n",
      "Topic 3:\n",
      "log, machinery, supervision, report, safety, development, review, maintenance, preparation, policy\n",
      "\n",
      "Topic 4:\n",
      "design, innovation, collaboration, based, integration, ai, audit, learning, model, data\n",
      "\n",
      "Topic 5:\n",
      "compliance, cost, strategy, voucher, data, analysis, ml, brand, marketing, verification\n",
      "\n"
     ]
    }
   ],
   "source": [
    "from sklearn.decomposition import LatentDirichletAllocation\n",
    "from sklearn.feature_extraction.text import TfidfVectorizer\n",
    "\n",
    "# Vetorizando o texto usando TF-IDF\n",
    "vectorizer = TfidfVectorizer(stop_words='english', max_df=0.85)\n",
    "X = vectorizer.fit_transform(df['responsibilities'].dropna())\n",
    "\n",
    "# Aplicando LDA para encontrar tópicos\n",
    "lda = LatentDirichletAllocation(n_components=5, random_state=42)\n",
    "lda.fit(X)\n",
    "\n",
    "# Exibindo os tópicos\n",
    "for i, topic in enumerate(lda.components_):\n",
    "    print(f\"Topic {i + 1}:\")\n",
    "    words = [vectorizer.get_feature_names_out()[index] for index in topic.argsort()[-10:]]\n",
    "    print(\", \".join(words))\n",
    "    print()\n"
   ]
  }
 ],
 "metadata": {
  "kaggle": {
   "accelerator": "none",
   "dataSources": [
    {
     "datasetId": 6382487,
     "sourceId": 10310349,
     "sourceType": "datasetVersion"
    }
   ],
   "dockerImageVersionId": 30886,
   "isGpuEnabled": false,
   "isInternetEnabled": true,
   "language": "python",
   "sourceType": "notebook"
  },
  "kernelspec": {
   "display_name": "Python 3",
   "language": "python",
   "name": "python3"
  },
  "language_info": {
   "codemirror_mode": {
    "name": "ipython",
    "version": 3
   },
   "file_extension": ".py",
   "mimetype": "text/x-python",
   "name": "python",
   "nbconvert_exporter": "python",
   "pygments_lexer": "ipython3",
   "version": "3.10.12"
  },
  "papermill": {
   "default_parameters": {},
   "duration": 17.264756,
   "end_time": "2025-02-14T13:31:09.772995",
   "environment_variables": {},
   "exception": null,
   "input_path": "__notebook__.ipynb",
   "output_path": "__notebook__.ipynb",
   "parameters": {},
   "start_time": "2025-02-14T13:30:52.508239",
   "version": "2.6.0"
  }
 },
 "nbformat": 4,
 "nbformat_minor": 5
}
