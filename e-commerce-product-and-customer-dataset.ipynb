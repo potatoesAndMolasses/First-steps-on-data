{
 "cells": [
  {
   "cell_type": "code",
   "execution_count": 1,
   "id": "021d811f",
   "metadata": {
    "_cell_guid": "b1076dfc-b9ad-4769-8c92-a6c4dae69d19",
    "_uuid": "8f2839f25d086af736a60e9eeb907d3b93b6e0e5",
    "execution": {
     "iopub.execute_input": "2025-02-07T03:31:25.838614Z",
     "iopub.status.busy": "2025-02-07T03:31:25.838240Z",
     "iopub.status.idle": "2025-02-07T03:31:28.736745Z",
     "shell.execute_reply": "2025-02-07T03:31:28.735187Z"
    },
    "papermill": {
     "duration": 2.907354,
     "end_time": "2025-02-07T03:31:28.738949",
     "exception": false,
     "start_time": "2025-02-07T03:31:25.831595",
     "status": "completed"
    },
    "tags": []
   },
   "outputs": [
    {
     "name": "stdout",
     "output_type": "stream",
     "text": [
      "/kaggle/input/e-commerce-product-and-customer-dataset/refined_ecommerce_product_data.csv\n"
     ]
    }
   ],
   "source": [
    "# This Python 3 environment comes with many helpful analytics libraries installed\n",
    "# It is defined by the kaggle/python Docker image: https://github.com/kaggle/docker-python\n",
    "# For example, here's several helpful packages to load\n",
    "\n",
    "import numpy as np\n",
    "import pandas as pd\n",
    "import seaborn as sns\n",
    "import matplotlib.pyplot as plt\n",
    "\n",
    "\n",
    "# Input data files are available in the read-only \"../input/\" directory\n",
    "# For example, running this (by clicking run or pressing Shift+Enter) will list all files under the input directory\n",
    "\n",
    "import os\n",
    "for dirname, _, filenames in os.walk('/kaggle/input'):\n",
    "    for filename in filenames:\n",
    "        print(os.path.join(dirname, filename))\n",
    "\n",
    "# You can write up to 20GB to the current directory (/kaggle/working/) that gets preserved as output when you create a version using \"Save & Run All\" \n",
    "# You can also write temporary files to /kaggle/temp/, but they won't be saved outside of the current session"
   ]
  },
  {
   "cell_type": "code",
   "execution_count": 2,
   "id": "2fe91b15",
   "metadata": {
    "execution": {
     "iopub.execute_input": "2025-02-07T03:31:28.750871Z",
     "iopub.status.busy": "2025-02-07T03:31:28.750376Z",
     "iopub.status.idle": "2025-02-07T03:31:28.789325Z",
     "shell.execute_reply": "2025-02-07T03:31:28.788180Z"
    },
    "papermill": {
     "duration": 0.046973,
     "end_time": "2025-02-07T03:31:28.791321",
     "exception": false,
     "start_time": "2025-02-07T03:31:28.744348",
     "status": "completed"
    },
    "tags": []
   },
   "outputs": [],
   "source": [
    "df = pd.read_csv(\"/kaggle/input/e-commerce-product-and-customer-dataset/refined_ecommerce_product_data.csv\")"
   ]
  },
  {
   "cell_type": "code",
   "execution_count": 3,
   "id": "141ae030",
   "metadata": {
    "execution": {
     "iopub.execute_input": "2025-02-07T03:31:28.802328Z",
     "iopub.status.busy": "2025-02-07T03:31:28.801934Z",
     "iopub.status.idle": "2025-02-07T03:31:28.831615Z",
     "shell.execute_reply": "2025-02-07T03:31:28.830465Z"
    },
    "papermill": {
     "duration": 0.037013,
     "end_time": "2025-02-07T03:31:28.833264",
     "exception": false,
     "start_time": "2025-02-07T03:31:28.796251",
     "status": "completed"
    },
    "tags": []
   },
   "outputs": [
    {
     "data": {
      "text/html": [
       "<div>\n",
       "<style scoped>\n",
       "    .dataframe tbody tr th:only-of-type {\n",
       "        vertical-align: middle;\n",
       "    }\n",
       "\n",
       "    .dataframe tbody tr th {\n",
       "        vertical-align: top;\n",
       "    }\n",
       "\n",
       "    .dataframe thead th {\n",
       "        text-align: right;\n",
       "    }\n",
       "</style>\n",
       "<table border=\"1\" class=\"dataframe\">\n",
       "  <thead>\n",
       "    <tr style=\"text-align: right;\">\n",
       "      <th></th>\n",
       "      <th>Product_ID</th>\n",
       "      <th>Product_Name</th>\n",
       "      <th>Category</th>\n",
       "      <th>Sub_Category</th>\n",
       "      <th>Price</th>\n",
       "      <th>Customer_Age</th>\n",
       "      <th>Customer_Gender</th>\n",
       "      <th>Purchase_History</th>\n",
       "      <th>Review_Rating</th>\n",
       "      <th>Review_Sentiment</th>\n",
       "    </tr>\n",
       "  </thead>\n",
       "  <tbody>\n",
       "    <tr>\n",
       "      <th>0</th>\n",
       "      <td>P0001</td>\n",
       "      <td>Sweater</td>\n",
       "      <td>Clothing</td>\n",
       "      <td>Pants</td>\n",
       "      <td>38.44</td>\n",
       "      <td>58</td>\n",
       "      <td>Male</td>\n",
       "      <td>16</td>\n",
       "      <td>2</td>\n",
       "      <td>Negative</td>\n",
       "    </tr>\n",
       "    <tr>\n",
       "      <th>1</th>\n",
       "      <td>P0002</td>\n",
       "      <td>Dining Table</td>\n",
       "      <td>Furniture</td>\n",
       "      <td>Chair</td>\n",
       "      <td>408.46</td>\n",
       "      <td>53</td>\n",
       "      <td>Female</td>\n",
       "      <td>4</td>\n",
       "      <td>5</td>\n",
       "      <td>Very Positive</td>\n",
       "    </tr>\n",
       "    <tr>\n",
       "      <th>2</th>\n",
       "      <td>P0003</td>\n",
       "      <td>Skincare Cream</td>\n",
       "      <td>Beauty</td>\n",
       "      <td>Hair Care</td>\n",
       "      <td>22.04</td>\n",
       "      <td>54</td>\n",
       "      <td>Male</td>\n",
       "      <td>7</td>\n",
       "      <td>2</td>\n",
       "      <td>Negative</td>\n",
       "    </tr>\n",
       "    <tr>\n",
       "      <th>3</th>\n",
       "      <td>P0004</td>\n",
       "      <td>Skincare Cream</td>\n",
       "      <td>Beauty</td>\n",
       "      <td>Makeup</td>\n",
       "      <td>145.24</td>\n",
       "      <td>27</td>\n",
       "      <td>Female</td>\n",
       "      <td>21</td>\n",
       "      <td>4</td>\n",
       "      <td>Neutral</td>\n",
       "    </tr>\n",
       "    <tr>\n",
       "      <th>4</th>\n",
       "      <td>P0005</td>\n",
       "      <td>Bluetooth Speaker</td>\n",
       "      <td>Electronics</td>\n",
       "      <td>Headphones</td>\n",
       "      <td>862.61</td>\n",
       "      <td>44</td>\n",
       "      <td>Female</td>\n",
       "      <td>27</td>\n",
       "      <td>5</td>\n",
       "      <td>Very Positive</td>\n",
       "    </tr>\n",
       "  </tbody>\n",
       "</table>\n",
       "</div>"
      ],
      "text/plain": [
       "  Product_ID       Product_Name     Category Sub_Category   Price  \\\n",
       "0      P0001            Sweater     Clothing        Pants   38.44   \n",
       "1      P0002       Dining Table    Furniture        Chair  408.46   \n",
       "2      P0003     Skincare Cream       Beauty    Hair Care   22.04   \n",
       "3      P0004     Skincare Cream       Beauty       Makeup  145.24   \n",
       "4      P0005  Bluetooth Speaker  Electronics   Headphones  862.61   \n",
       "\n",
       "   Customer_Age Customer_Gender  Purchase_History  Review_Rating  \\\n",
       "0            58            Male                16              2   \n",
       "1            53          Female                 4              5   \n",
       "2            54            Male                 7              2   \n",
       "3            27          Female                21              4   \n",
       "4            44          Female                27              5   \n",
       "\n",
       "  Review_Sentiment  \n",
       "0         Negative  \n",
       "1    Very Positive  \n",
       "2         Negative  \n",
       "3          Neutral  \n",
       "4    Very Positive  "
      ]
     },
     "execution_count": 3,
     "metadata": {},
     "output_type": "execute_result"
    }
   ],
   "source": [
    "df. head()"
   ]
  },
  {
   "cell_type": "code",
   "execution_count": 4,
   "id": "1685192c",
   "metadata": {
    "execution": {
     "iopub.execute_input": "2025-02-07T03:31:28.844851Z",
     "iopub.status.busy": "2025-02-07T03:31:28.844510Z",
     "iopub.status.idle": "2025-02-07T03:31:28.876966Z",
     "shell.execute_reply": "2025-02-07T03:31:28.875702Z"
    },
    "papermill": {
     "duration": 0.040384,
     "end_time": "2025-02-07T03:31:28.878934",
     "exception": false,
     "start_time": "2025-02-07T03:31:28.838550",
     "status": "completed"
    },
    "tags": []
   },
   "outputs": [
    {
     "name": "stdout",
     "output_type": "stream",
     "text": [
      "<class 'pandas.core.frame.DataFrame'>\n",
      "RangeIndex: 8000 entries, 0 to 7999\n",
      "Data columns (total 10 columns):\n",
      " #   Column            Non-Null Count  Dtype  \n",
      "---  ------            --------------  -----  \n",
      " 0   Product_ID        8000 non-null   object \n",
      " 1   Product_Name      8000 non-null   object \n",
      " 2   Category          8000 non-null   object \n",
      " 3   Sub_Category      8000 non-null   object \n",
      " 4   Price             8000 non-null   float64\n",
      " 5   Customer_Age      8000 non-null   int64  \n",
      " 6   Customer_Gender   8000 non-null   object \n",
      " 7   Purchase_History  8000 non-null   int64  \n",
      " 8   Review_Rating     8000 non-null   int64  \n",
      " 9   Review_Sentiment  8000 non-null   object \n",
      "dtypes: float64(1), int64(3), object(6)\n",
      "memory usage: 625.1+ KB\n"
     ]
    }
   ],
   "source": [
    "df.info()"
   ]
  },
  {
   "cell_type": "code",
   "execution_count": 5,
   "id": "fa192659",
   "metadata": {
    "execution": {
     "iopub.execute_input": "2025-02-07T03:31:28.890858Z",
     "iopub.status.busy": "2025-02-07T03:31:28.890499Z",
     "iopub.status.idle": "2025-02-07T03:31:28.917220Z",
     "shell.execute_reply": "2025-02-07T03:31:28.915913Z"
    },
    "papermill": {
     "duration": 0.035063,
     "end_time": "2025-02-07T03:31:28.919392",
     "exception": false,
     "start_time": "2025-02-07T03:31:28.884329",
     "status": "completed"
    },
    "tags": []
   },
   "outputs": [
    {
     "name": "stdout",
     "output_type": "stream",
     "text": [
      "\n",
      "Estatísticas:\n",
      "             Price  Customer_Age  Purchase_History  Review_Rating\n",
      "count  8000.000000   8000.000000        8000.00000    8000.000000\n",
      "mean    456.826230     41.614125          18.47525       4.139875\n",
      "std     398.171055     13.958853          10.86197       0.936306\n",
      "min       5.120000     18.000000           0.00000       1.000000\n",
      "25%     126.877500     29.000000          11.00000       4.000000\n",
      "50%     325.460000     42.000000          17.00000       4.000000\n",
      "75%     721.077500     54.000000          25.00000       5.000000\n",
      "max    1499.720000     65.000000          50.00000       5.000000\n",
      "\n",
      "Valores nulos por coluna:\n",
      "Product_ID          0\n",
      "Product_Name        0\n",
      "Category            0\n",
      "Sub_Category        0\n",
      "Price               0\n",
      "Customer_Age        0\n",
      "Customer_Gender     0\n",
      "Purchase_History    0\n",
      "Review_Rating       0\n",
      "Review_Sentiment    0\n",
      "dtype: int64\n"
     ]
    }
   ],
   "source": [
    "print(\"\\nEstatísticas:\")\n",
    "print(df.describe())\n",
    "\n",
    "print(\"\\nValores nulos por coluna:\")\n",
    "print(df.isnull().sum())"
   ]
  },
  {
   "cell_type": "code",
   "execution_count": 6,
   "id": "5db5d527",
   "metadata": {
    "execution": {
     "iopub.execute_input": "2025-02-07T03:31:28.931295Z",
     "iopub.status.busy": "2025-02-07T03:31:28.930879Z",
     "iopub.status.idle": "2025-02-07T03:31:28.935944Z",
     "shell.execute_reply": "2025-02-07T03:31:28.934795Z"
    },
    "papermill": {
     "duration": 0.013092,
     "end_time": "2025-02-07T03:31:28.937875",
     "exception": false,
     "start_time": "2025-02-07T03:31:28.924783",
     "status": "completed"
    },
    "tags": []
   },
   "outputs": [],
   "source": [
    "sns.set_style(\"whitegrid\")"
   ]
  },
  {
   "cell_type": "code",
   "execution_count": 7,
   "id": "52823ccc",
   "metadata": {
    "execution": {
     "iopub.execute_input": "2025-02-07T03:31:28.950375Z",
     "iopub.status.busy": "2025-02-07T03:31:28.949960Z",
     "iopub.status.idle": "2025-02-07T03:31:29.406678Z",
     "shell.execute_reply": "2025-02-07T03:31:29.405538Z"
    },
    "papermill": {
     "duration": 0.465039,
     "end_time": "2025-02-07T03:31:29.408407",
     "exception": false,
     "start_time": "2025-02-07T03:31:28.943368",
     "status": "completed"
    },
    "tags": []
   },
   "outputs": [
    {
     "data": {
      "image/png": "[encoded data removed]",
      "text/plain": [
       "<Figure size 2000x1000 with 1 Axes>"
      ]
     },
     "metadata": {},
     "output_type": "display_data"
    }
   ],
   "source": [
    "plt.figure(figsize=(20,10))\n",
    "sns.boxplot(x=df['Category'], y=df['Price'])\n",
    "plt.xticks(rotation=45)\n",
    "plt.title('Distribuição do preço por categoria')\n",
    "plt.grid(axis='y', color='black')\n",
    "plt.show()"
   ]
  },
  {
   "cell_type": "code",
   "execution_count": 8,
   "id": "6458a5dd",
   "metadata": {
    "execution": {
     "iopub.execute_input": "2025-02-07T03:31:29.422355Z",
     "iopub.status.busy": "2025-02-07T03:31:29.421957Z",
     "iopub.status.idle": "2025-02-07T03:31:29.433476Z",
     "shell.execute_reply": "2025-02-07T03:31:29.432409Z"
    },
    "papermill": {
     "duration": 0.020479,
     "end_time": "2025-02-07T03:31:29.435229",
     "exception": false,
     "start_time": "2025-02-07T03:31:29.414750",
     "status": "completed"
    },
    "tags": []
   },
   "outputs": [
    {
     "data": {
      "text/html": [
       "<div>\n",
       "<style scoped>\n",
       "    .dataframe tbody tr th:only-of-type {\n",
       "        vertical-align: middle;\n",
       "    }\n",
       "\n",
       "    .dataframe tbody tr th {\n",
       "        vertical-align: top;\n",
       "    }\n",
       "\n",
       "    .dataframe thead th {\n",
       "        text-align: right;\n",
       "    }\n",
       "</style>\n",
       "<table border=\"1\" class=\"dataframe\">\n",
       "  <thead>\n",
       "    <tr style=\"text-align: right;\">\n",
       "      <th></th>\n",
       "      <th>Category</th>\n",
       "      <th>Frequencia</th>\n",
       "    </tr>\n",
       "  </thead>\n",
       "  <tbody>\n",
       "    <tr>\n",
       "      <th>0</th>\n",
       "      <td>Home Appliances</td>\n",
       "      <td>1362</td>\n",
       "    </tr>\n",
       "    <tr>\n",
       "      <th>1</th>\n",
       "      <td>Electronics</td>\n",
       "      <td>1357</td>\n",
       "    </tr>\n",
       "    <tr>\n",
       "      <th>2</th>\n",
       "      <td>Sports</td>\n",
       "      <td>1356</td>\n",
       "    </tr>\n",
       "    <tr>\n",
       "      <th>3</th>\n",
       "      <td>Clothing</td>\n",
       "      <td>1354</td>\n",
       "    </tr>\n",
       "    <tr>\n",
       "      <th>4</th>\n",
       "      <td>Furniture</td>\n",
       "      <td>1310</td>\n",
       "    </tr>\n",
       "    <tr>\n",
       "      <th>5</th>\n",
       "      <td>Beauty</td>\n",
       "      <td>1261</td>\n",
       "    </tr>\n",
       "  </tbody>\n",
       "</table>\n",
       "</div>"
      ],
      "text/plain": [
       "          Category  Frequencia\n",
       "0  Home Appliances        1362\n",
       "1      Electronics        1357\n",
       "2           Sports        1356\n",
       "3         Clothing        1354\n",
       "4        Furniture        1310\n",
       "5           Beauty        1261"
      ]
     },
     "execution_count": 8,
     "metadata": {},
     "output_type": "execute_result"
    }
   ],
   "source": [
    "qtd = df['Category'].value_counts().reset_index(name='Frequencia')\n",
    "qtd.columns = ['Category', 'Frequencia']\n",
    "qtd"
   ]
  },
  {
   "cell_type": "code",
   "execution_count": 9,
   "id": "0e55df6e",
   "metadata": {
    "execution": {
     "iopub.execute_input": "2025-02-07T03:31:29.449184Z",
     "iopub.status.busy": "2025-02-07T03:31:29.448804Z",
     "iopub.status.idle": "2025-02-07T03:31:29.852852Z",
     "shell.execute_reply": "2025-02-07T03:31:29.851564Z"
    },
    "papermill": {
     "duration": 0.413466,
     "end_time": "2025-02-07T03:31:29.855159",
     "exception": false,
     "start_time": "2025-02-07T03:31:29.441693",
     "status": "completed"
    },
    "tags": []
   },
   "outputs": [
    {
     "name": "stderr",
     "output_type": "stream",
     "text": [
      "/usr/local/lib/python3.10/dist-packages/seaborn/_oldcore.py:1119: FutureWarning: use_inf_as_na option is deprecated and will be removed in a future version. Convert inf values to NaN before operating instead.\n",
      "  with pd.option_context('mode.use_inf_as_na', True):\n"
     ]
    },
    {
     "data": {
      "image/png": "[encoded data removed]",
      "text/plain": [
       "<Figure size 2000x1000 with 1 Axes>"
      ]
     },
     "metadata": {},
     "output_type": "display_data"
    }
   ],
   "source": [
    "plt.figure(figsize=(20, 10))\n",
    "sns.histplot(df['Price'], bins=30, kde=False, color='blue')\n",
    "plt.title('Distribution of Product Prices')\n",
    "plt.grid(axis='y', color='black')\n",
    "plt.show()"
   ]
  },
  {
   "cell_type": "code",
   "execution_count": 10,
   "id": "9b5f8e43",
   "metadata": {
    "execution": {
     "iopub.execute_input": "2025-02-07T03:31:29.871515Z",
     "iopub.status.busy": "2025-02-07T03:31:29.871099Z",
     "iopub.status.idle": "2025-02-07T03:31:29.888717Z",
     "shell.execute_reply": "2025-02-07T03:31:29.887580Z"
    },
    "papermill": {
     "duration": 0.027483,
     "end_time": "2025-02-07T03:31:29.890701",
     "exception": false,
     "start_time": "2025-02-07T03:31:29.863218",
     "status": "completed"
    },
    "tags": []
   },
   "outputs": [
    {
     "data": {
      "text/html": [
       "<div>\n",
       "<style scoped>\n",
       "    .dataframe tbody tr th:only-of-type {\n",
       "        vertical-align: middle;\n",
       "    }\n",
       "\n",
       "    .dataframe tbody tr th {\n",
       "        vertical-align: top;\n",
       "    }\n",
       "\n",
       "    .dataframe thead th {\n",
       "        text-align: right;\n",
       "    }\n",
       "</style>\n",
       "<table border=\"1\" class=\"dataframe\">\n",
       "  <thead>\n",
       "    <tr style=\"text-align: right;\">\n",
       "      <th></th>\n",
       "      <th>Price</th>\n",
       "      <th>Frequencia</th>\n",
       "    </tr>\n",
       "  </thead>\n",
       "  <tbody>\n",
       "    <tr>\n",
       "      <th>0</th>\n",
       "      <td>47.67</td>\n",
       "      <td>4</td>\n",
       "    </tr>\n",
       "    <tr>\n",
       "      <th>1</th>\n",
       "      <td>123.28</td>\n",
       "      <td>4</td>\n",
       "    </tr>\n",
       "    <tr>\n",
       "      <th>2</th>\n",
       "      <td>125.67</td>\n",
       "      <td>4</td>\n",
       "    </tr>\n",
       "    <tr>\n",
       "      <th>3</th>\n",
       "      <td>136.07</td>\n",
       "      <td>3</td>\n",
       "    </tr>\n",
       "    <tr>\n",
       "      <th>4</th>\n",
       "      <td>153.30</td>\n",
       "      <td>3</td>\n",
       "    </tr>\n",
       "    <tr>\n",
       "      <th>...</th>\n",
       "      <td>...</td>\n",
       "      <td>...</td>\n",
       "    </tr>\n",
       "    <tr>\n",
       "      <th>7614</th>\n",
       "      <td>231.62</td>\n",
       "      <td>1</td>\n",
       "    </tr>\n",
       "    <tr>\n",
       "      <th>7615</th>\n",
       "      <td>33.23</td>\n",
       "      <td>1</td>\n",
       "    </tr>\n",
       "    <tr>\n",
       "      <th>7616</th>\n",
       "      <td>30.10</td>\n",
       "      <td>1</td>\n",
       "    </tr>\n",
       "    <tr>\n",
       "      <th>7617</th>\n",
       "      <td>1435.58</td>\n",
       "      <td>1</td>\n",
       "    </tr>\n",
       "    <tr>\n",
       "      <th>7618</th>\n",
       "      <td>27.14</td>\n",
       "      <td>1</td>\n",
       "    </tr>\n",
       "  </tbody>\n",
       "</table>\n",
       "<p>7619 rows × 2 columns</p>\n",
       "</div>"
      ],
      "text/plain": [
       "        Price  Frequencia\n",
       "0       47.67           4\n",
       "1      123.28           4\n",
       "2      125.67           4\n",
       "3      136.07           3\n",
       "4      153.30           3\n",
       "...       ...         ...\n",
       "7614   231.62           1\n",
       "7615    33.23           1\n",
       "7616    30.10           1\n",
       "7617  1435.58           1\n",
       "7618    27.14           1\n",
       "\n",
       "[7619 rows x 2 columns]"
      ]
     },
     "execution_count": 10,
     "metadata": {},
     "output_type": "execute_result"
    }
   ],
   "source": [
    "qtd = df['Price'].value_counts().reset_index(name='Frequencia')\n",
    "qtd.columns = ['Price', 'Frequencia']\n",
    "qtd"
   ]
  },
  {
   "cell_type": "code",
   "execution_count": 11,
   "id": "d7f1e392",
   "metadata": {
    "execution": {
     "iopub.execute_input": "2025-02-07T03:31:29.906445Z",
     "iopub.status.busy": "2025-02-07T03:31:29.906045Z",
     "iopub.status.idle": "2025-02-07T03:31:30.263928Z",
     "shell.execute_reply": "2025-02-07T03:31:30.262737Z"
    },
    "papermill": {
     "duration": 0.367685,
     "end_time": "2025-02-07T03:31:30.265698",
     "exception": false,
     "start_time": "2025-02-07T03:31:29.898013",
     "status": "completed"
    },
    "tags": []
   },
   "outputs": [
    {
     "data": {
      "image/png": "[encoded data removed]",
      "text/plain": [
       "<Figure size 2000x1000 with 1 Axes>"
      ]
     },
     "metadata": {},
     "output_type": "display_data"
    }
   ],
   "source": [
    "plt.figure(figsize=(20, 10))\n",
    "plt.title(\"Frequência das plataformas\")\n",
    "plt.xlabel(\"Review_Sentiment\")\n",
    "plt.ylabel(\"Frequency\")\n",
    "df['Review_Sentiment'].value_counts().plot(kind='bar')\n",
    "plt.grid(axis='y', color='black')\n",
    "plt.xticks(rotation=45)\n",
    "plt.show()"
   ]
  },
  {
   "cell_type": "code",
   "execution_count": 12,
   "id": "11924725",
   "metadata": {
    "execution": {
     "iopub.execute_input": "2025-02-07T03:31:30.283778Z",
     "iopub.status.busy": "2025-02-07T03:31:30.283398Z",
     "iopub.status.idle": "2025-02-07T03:31:30.294693Z",
     "shell.execute_reply": "2025-02-07T03:31:30.293491Z"
    },
    "papermill": {
     "duration": 0.022076,
     "end_time": "2025-02-07T03:31:30.296469",
     "exception": false,
     "start_time": "2025-02-07T03:31:30.274393",
     "status": "completed"
    },
    "tags": []
   },
   "outputs": [
    {
     "data": {
      "text/html": [
       "<div>\n",
       "<style scoped>\n",
       "    .dataframe tbody tr th:only-of-type {\n",
       "        vertical-align: middle;\n",
       "    }\n",
       "\n",
       "    .dataframe tbody tr th {\n",
       "        vertical-align: top;\n",
       "    }\n",
       "\n",
       "    .dataframe thead th {\n",
       "        text-align: right;\n",
       "    }\n",
       "</style>\n",
       "<table border=\"1\" class=\"dataframe\">\n",
       "  <thead>\n",
       "    <tr style=\"text-align: right;\">\n",
       "      <th></th>\n",
       "      <th>Review_Sentiment</th>\n",
       "      <th>Frequencia</th>\n",
       "    </tr>\n",
       "  </thead>\n",
       "  <tbody>\n",
       "    <tr>\n",
       "      <th>0</th>\n",
       "      <td>Positive</td>\n",
       "      <td>3658</td>\n",
       "    </tr>\n",
       "    <tr>\n",
       "      <th>1</th>\n",
       "      <td>Very Positive</td>\n",
       "      <td>2306</td>\n",
       "    </tr>\n",
       "    <tr>\n",
       "      <th>2</th>\n",
       "      <td>Neutral</td>\n",
       "      <td>1712</td>\n",
       "    </tr>\n",
       "    <tr>\n",
       "      <th>3</th>\n",
       "      <td>Negative</td>\n",
       "      <td>324</td>\n",
       "    </tr>\n",
       "  </tbody>\n",
       "</table>\n",
       "</div>"
      ],
      "text/plain": [
       "  Review_Sentiment  Frequencia\n",
       "0         Positive        3658\n",
       "1    Very Positive        2306\n",
       "2          Neutral        1712\n",
       "3         Negative         324"
      ]
     },
     "execution_count": 12,
     "metadata": {},
     "output_type": "execute_result"
    }
   ],
   "source": [
    "qtd = df['Review_Sentiment'].value_counts().reset_index(name='Frequencia')\n",
    "qtd.columns = ['Review_Sentiment', 'Frequencia']\n",
    "qtd"
   ]
  },
  {
   "cell_type": "code",
   "execution_count": 13,
   "id": "b407cec6",
   "metadata": {
    "execution": {
     "iopub.execute_input": "2025-02-07T03:31:30.314292Z",
     "iopub.status.busy": "2025-02-07T03:31:30.313876Z",
     "iopub.status.idle": "2025-02-07T03:31:30.592163Z",
     "shell.execute_reply": "2025-02-07T03:31:30.590968Z"
    },
    "papermill": {
     "duration": 0.289151,
     "end_time": "2025-02-07T03:31:30.593936",
     "exception": false,
     "start_time": "2025-02-07T03:31:30.304785",
     "status": "completed"
    },
    "tags": []
   },
   "outputs": [
    {
     "data": {
      "image/png": "[encoded data removed]",
      "text/plain": [
       "<Figure size 2000x1000 with 1 Axes>"
      ]
     },
     "metadata": {},
     "output_type": "display_data"
    }
   ],
   "source": [
    "plt.figure(figsize=(20, 10))\n",
    "plt.title(\"Frequência das plataformas\")\n",
    "plt.xlabel(\"Customer_Gender\")\n",
    "plt.ylabel(\"Frequency\")\n",
    "df['Customer_Gender'].value_counts().plot(kind='bar')\n",
    "plt.grid(axis='y', color='black')\n",
    "plt.xticks(rotation=45)\n",
    "plt.show()"
   ]
  },
  {
   "cell_type": "code",
   "execution_count": 14,
   "id": "531c23ef",
   "metadata": {
    "execution": {
     "iopub.execute_input": "2025-02-07T03:31:30.613783Z",
     "iopub.status.busy": "2025-02-07T03:31:30.613432Z",
     "iopub.status.idle": "2025-02-07T03:31:30.624544Z",
     "shell.execute_reply": "2025-02-07T03:31:30.623384Z"
    },
    "papermill": {
     "duration": 0.023401,
     "end_time": "2025-02-07T03:31:30.626350",
     "exception": false,
     "start_time": "2025-02-07T03:31:30.602949",
     "status": "completed"
    },
    "tags": []
   },
   "outputs": [
    {
     "data": {
      "text/html": [
       "<div>\n",
       "<style scoped>\n",
       "    .dataframe tbody tr th:only-of-type {\n",
       "        vertical-align: middle;\n",
       "    }\n",
       "\n",
       "    .dataframe tbody tr th {\n",
       "        vertical-align: top;\n",
       "    }\n",
       "\n",
       "    .dataframe thead th {\n",
       "        text-align: right;\n",
       "    }\n",
       "</style>\n",
       "<table border=\"1\" class=\"dataframe\">\n",
       "  <thead>\n",
       "    <tr style=\"text-align: right;\">\n",
       "      <th></th>\n",
       "      <th>Customer_Gender</th>\n",
       "      <th>Frequencia</th>\n",
       "    </tr>\n",
       "  </thead>\n",
       "  <tbody>\n",
       "    <tr>\n",
       "      <th>0</th>\n",
       "      <td>Male</td>\n",
       "      <td>4023</td>\n",
       "    </tr>\n",
       "    <tr>\n",
       "      <th>1</th>\n",
       "      <td>Female</td>\n",
       "      <td>3977</td>\n",
       "    </tr>\n",
       "  </tbody>\n",
       "</table>\n",
       "</div>"
      ],
      "text/plain": [
       "  Customer_Gender  Frequencia\n",
       "0            Male        4023\n",
       "1          Female        3977"
      ]
     },
     "execution_count": 14,
     "metadata": {},
     "output_type": "execute_result"
    }
   ],
   "source": [
    "qtd = df['Customer_Gender'].value_counts().reset_index(name='Frequencia')\n",
    "qtd.columns = ['Customer_Gender', 'Frequencia']\n",
    "qtd"
   ]
  },
  {
   "cell_type": "markdown",
   "id": "5b12fae1",
   "metadata": {
    "papermill": {
     "duration": 0.009216,
     "end_time": "2025-02-07T03:31:30.644824",
     "exception": false,
     "start_time": "2025-02-07T03:31:30.635608",
     "status": "completed"
    },
    "tags": []
   },
   "source": [
    "# ML"
   ]
  },
  {
   "cell_type": "code",
   "execution_count": 15,
   "id": "7eec2ee8",
   "metadata": {
    "execution": {
     "iopub.execute_input": "2025-02-07T03:31:30.664974Z",
     "iopub.status.busy": "2025-02-07T03:31:30.664606Z",
     "iopub.status.idle": "2025-02-07T03:31:31.525548Z",
     "shell.execute_reply": "2025-02-07T03:31:31.524446Z"
    },
    "papermill": {
     "duration": 0.873678,
     "end_time": "2025-02-07T03:31:31.527545",
     "exception": false,
     "start_time": "2025-02-07T03:31:30.653867",
     "status": "completed"
    },
    "tags": []
   },
   "outputs": [],
   "source": [
    "# Importando bibliotecas necessárias\n",
    "from sklearn.model_selection import train_test_split\n",
    "from sklearn.preprocessing import LabelEncoder, StandardScaler\n",
    "from sklearn.model_selection import RandomizedSearchCV\n",
    "from sklearn.linear_model import LinearRegression\n",
    "from sklearn.tree import DecisionTreeRegressor\n",
    "from sklearn.ensemble import RandomForestRegressor\n",
    "from sklearn.metrics import mean_squared_error, accuracy_score\n",
    "from sklearn.model_selection import cross_val_score"
   ]
  },
  {
   "cell_type": "code",
   "execution_count": 16,
   "id": "e1766a0b",
   "metadata": {
    "execution": {
     "iopub.execute_input": "2025-02-07T03:31:31.547811Z",
     "iopub.status.busy": "2025-02-07T03:31:31.547457Z",
     "iopub.status.idle": "2025-02-07T03:31:31.588219Z",
     "shell.execute_reply": "2025-02-07T03:31:31.587248Z"
    },
    "papermill": {
     "duration": 0.053096,
     "end_time": "2025-02-07T03:31:31.590122",
     "exception": false,
     "start_time": "2025-02-07T03:31:31.537026",
     "status": "completed"
    },
    "tags": []
   },
   "outputs": [],
   "source": [
    "# 1. Pré-processamento de Dados\n",
    "\n",
    "# Convertendo variáveis categóricas em numéricas\n",
    "label_encoder = LabelEncoder()\n",
    "df['Customer_Gender'] = label_encoder.fit_transform(df['Customer_Gender'])\n",
    "df['Review_Sentiment'] = label_encoder.fit_transform(df['Review_Sentiment'])\n",
    "df['Category'] = label_encoder.fit_transform(df['Category'])\n",
    "df['Sub_Category'] = label_encoder.fit_transform(df['Sub_Category'])\n",
    "\n",
    "# Separando variáveis independentes (X) e dependentes (y)\n",
    "X = df.drop(columns=['Price', 'Review_Rating', 'Product_ID', 'Product_Name'])  # Remover 'Product_ID' e 'Product_Name' (não numéricas)\n",
    "y_regression = df['Price']  # Para regressão: previsão de preço\n",
    "y_classification = df['Review_Sentiment']  # Para classificação: previsão de sentimento da revisão\n",
    "\n",
    "# Dividindo os dados em treino e teste\n",
    "X_train, X_test, y_train_reg, y_test_reg = train_test_split(X, y_regression, test_size=0.2, random_state=42)\n",
    "X_train_class, X_test_class, y_train_class, y_test_class = train_test_split(X, y_classification, test_size=0.2, random_state=42)\n",
    "\n",
    "# Normalização dos dados (para modelos sensíveis à escala como SVM e Regressão Linear)\n",
    "scaler = StandardScaler()\n",
    "\n",
    "# Ajustando o escalonador apenas nas variáveis numéricas\n",
    "X_train_scaled = scaler.fit_transform(X_train)\n",
    "X_test_scaled = scaler.transform(X_test)"
   ]
  },
  {
   "cell_type": "code",
   "execution_count": 17,
   "id": "0ada723c",
   "metadata": {
    "execution": {
     "iopub.execute_input": "2025-02-07T03:31:31.618096Z",
     "iopub.status.busy": "2025-02-07T03:31:31.617762Z",
     "iopub.status.idle": "2025-02-07T03:31:31.670902Z",
     "shell.execute_reply": "2025-02-07T03:31:31.669550Z"
    },
    "papermill": {
     "duration": 0.069596,
     "end_time": "2025-02-07T03:31:31.672933",
     "exception": false,
     "start_time": "2025-02-07T03:31:31.603337",
     "status": "completed"
    },
    "tags": []
   },
   "outputs": [
    {
     "name": "stdout",
     "output_type": "stream",
     "text": [
      "Mean Squared Error (Regressão Linear): 114434.76107586994\n"
     ]
    }
   ],
   "source": [
    "# 2. Modelos de Regressão\n",
    "\n",
    "# Regressão Linear\n",
    "linear_reg = LinearRegression()\n",
    "linear_reg.fit(X_train_scaled, y_train_reg)\n",
    "y_pred_reg = linear_reg.predict(X_test_scaled)\n",
    "\n",
    "# Avaliando o desempenho do modelo de regressão\n",
    "mse = mean_squared_error(y_test_reg, y_pred_reg)\n",
    "print(f'Mean Squared Error (Regressão Linear): {mse}')"
   ]
  },
  {
   "cell_type": "code",
   "execution_count": 18,
   "id": "a8d03a1a",
   "metadata": {
    "execution": {
     "iopub.execute_input": "2025-02-07T03:31:31.693818Z",
     "iopub.status.busy": "2025-02-07T03:31:31.693340Z",
     "iopub.status.idle": "2025-02-07T03:31:31.727694Z",
     "shell.execute_reply": "2025-02-07T03:31:31.726495Z"
    },
    "papermill": {
     "duration": 0.047641,
     "end_time": "2025-02-07T03:31:31.729722",
     "exception": false,
     "start_time": "2025-02-07T03:31:31.682081",
     "status": "completed"
    },
    "tags": []
   },
   "outputs": [
    {
     "name": "stdout",
     "output_type": "stream",
     "text": [
      "Mean Squared Error (Árvore de Decisão): 133035.9275971875\n"
     ]
    }
   ],
   "source": [
    "# Árvore de Decisão para Regressão\n",
    "tree_reg = DecisionTreeRegressor(random_state=42)\n",
    "tree_reg.fit(X_train, y_train_reg)\n",
    "y_pred_tree_reg = tree_reg.predict(X_test)\n",
    "\n",
    "# Avaliando o desempenho da Árvore de Decisão\n",
    "mse_tree = mean_squared_error(y_test_reg, y_pred_tree_reg)\n",
    "print(f'Mean Squared Error (Árvore de Decisão): {mse_tree}')"
   ]
  },
  {
   "cell_type": "code",
   "execution_count": 19,
   "id": "4237bbe6",
   "metadata": {
    "execution": {
     "iopub.execute_input": "2025-02-07T03:31:31.749530Z",
     "iopub.status.busy": "2025-02-07T03:31:31.749116Z",
     "iopub.status.idle": "2025-02-07T03:32:02.563832Z",
     "shell.execute_reply": "2025-02-07T03:32:02.562542Z"
    },
    "papermill": {
     "duration": 30.834492,
     "end_time": "2025-02-07T03:32:02.573410",
     "exception": false,
     "start_time": "2025-02-07T03:31:31.738918",
     "status": "completed"
    },
    "tags": []
   },
   "outputs": [
    {
     "name": "stdout",
     "output_type": "stream",
     "text": [
      "Fitting 5 folds for each of 10 candidates, totalling 50 fits\n",
      "Best parameters: {'n_estimators': 300, 'min_samples_split': 10, 'min_samples_leaf': 1, 'max_features': 'sqrt', 'max_depth': 10}\n"
     ]
    }
   ],
   "source": [
    "# Definindo os parâmetros para o RandomizedSearchCV\n",
    "param_dist = {\n",
    "    'n_estimators': [100, 200, 300, 400],\n",
    "    'max_depth': [None, 10, 20, 30],\n",
    "    'min_samples_split': [2, 5, 10],\n",
    "    'min_samples_leaf': [1, 2, 4],\n",
    "    'max_features': ['auto', 'sqrt', 'log2']\n",
    "}\n",
    "\n",
    "# Randomized Search\n",
    "rf = RandomForestRegressor(random_state=42)\n",
    "random_search = RandomizedSearchCV(rf, param_distributions=param_dist, n_iter=10, cv=5, verbose=2, random_state=42, n_jobs=-1)\n",
    "random_search.fit(X_train_scaled, y_train_reg)\n",
    "\n",
    "# Melhor combinação de parâmetros\n",
    "print(f'Best parameters: {random_search.best_params_}')"
   ]
  },
  {
   "cell_type": "code",
   "execution_count": 20,
   "id": "aefd7956",
   "metadata": {
    "execution": {
     "iopub.execute_input": "2025-02-07T03:32:02.593731Z",
     "iopub.status.busy": "2025-02-07T03:32:02.593340Z",
     "iopub.status.idle": "2025-02-07T03:32:10.528514Z",
     "shell.execute_reply": "2025-02-07T03:32:10.527238Z"
    },
    "papermill": {
     "duration": 7.947281,
     "end_time": "2025-02-07T03:32:10.530389",
     "exception": false,
     "start_time": "2025-02-07T03:32:02.583108",
     "status": "completed"
    },
    "tags": []
   },
   "outputs": [
    {
     "name": "stdout",
     "output_type": "stream",
     "text": [
      "Mean Squared Error (Random Forest - Test Set): 71014.57378650215\n",
      "Cross-validated MSE (Random Forest): 67423.02706535152\n"
     ]
    }
   ],
   "source": [
    "# Inicializando o Random Forest com os melhores parâmetros encontrados\n",
    "rf_reg_optimized = RandomForestRegressor(\n",
    "    n_estimators=300,\n",
    "    min_samples_split=10,\n",
    "    min_samples_leaf=1,\n",
    "    max_features='sqrt',\n",
    "    max_depth=10,\n",
    "    random_state=42\n",
    ")\n",
    "\n",
    "# Treinando o modelo\n",
    "rf_reg_optimized.fit(X_train_scaled, y_train_reg)\n",
    "\n",
    "# Fazendo previsões\n",
    "y_pred_rf_reg = rf_reg_optimized.predict(X_test_scaled)\n",
    "\n",
    "# Avaliando o desempenho com Mean Squared Error (MSE) no conjunto de teste\n",
    "mse_rf = mean_squared_error(y_test_reg, y_pred_rf_reg)\n",
    "print(f'Mean Squared Error (Random Forest - Test Set): {mse_rf}')\n",
    "\n",
    "# Avaliação do modelo com validação cruzada (5 folds)\n",
    "cv_scores_rf = cross_val_score(rf_reg_optimized, X, y_regression, cv=5, scoring='neg_mean_squared_error')\n",
    "print(f'Cross-validated MSE (Random Forest): {-cv_scores_rf.mean()}')\n"
   ]
  }
 ],
 "metadata": {
  "kaggle": {
   "accelerator": "none",
   "dataSources": [
    {
     "datasetId": 6612829,
     "sourceId": 10675840,
     "sourceType": "datasetVersion"
    }
   ],
   "dockerImageVersionId": 30886,
   "isGpuEnabled": false,
   "isInternetEnabled": true,
   "language": "python",
   "sourceType": "notebook"
  },
  "kernelspec": {
   "display_name": "Python 3",
   "language": "python",
   "name": "python3"
  },
  "language_info": {
   "codemirror_mode": {
    "name": "ipython",
    "version": 3
   },
   "file_extension": ".py",
   "mimetype": "text/x-python",
   "name": "python",
   "nbconvert_exporter": "python",
   "pygments_lexer": "ipython3",
   "version": "3.10.12"
  },
  "papermill": {
   "default_parameters": {},
   "duration": 48.446118,
   "end_time": "2025-02-07T03:32:11.362380",
   "environment_variables": {},
   "exception": null,
   "input_path": "__notebook__.ipynb",
   "output_path": "__notebook__.ipynb",
   "parameters": {},
   "start_time": "2025-02-07T03:31:22.916262",
   "version": "2.6.0"
  }
 },
 "nbformat": 4,
 "nbformat_minor": 5
}
