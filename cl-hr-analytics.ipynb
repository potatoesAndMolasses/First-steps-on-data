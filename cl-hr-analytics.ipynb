{
 "cells": [
  {
   "cell_type": "code",
   "execution_count": 1,
   "id": "b3ee707f",
   "metadata": {
    "_cell_guid": "b1076dfc-b9ad-4769-8c92-a6c4dae69d19",
    "_uuid": "8f2839f25d086af736a60e9eeb907d3b93b6e0e5",
    "execution": {
     "iopub.execute_input": "2025-02-15T21:47:49.054319Z",
     "iopub.status.busy": "2025-02-15T21:47:49.053974Z",
     "iopub.status.idle": "2025-02-15T21:47:51.790986Z",
     "shell.execute_reply": "2025-02-15T21:47:51.789806Z"
    },
    "papermill": {
     "duration": 2.74388,
     "end_time": "2025-02-15T21:47:51.792864",
     "exception": false,
     "start_time": "2025-02-15T21:47:49.048984",
     "status": "completed"
    },
    "tags": []
   },
   "outputs": [
    {
     "name": "stdout",
     "output_type": "stream",
     "text": [
      "/kaggle/input/hr-analytics-dataset/Cleaned_HR_Data_Analysis.csv\n",
      "/kaggle/input/hr-analytics-dataset/Messy_HR_Dataset_Detailed.csv\n"
     ]
    }
   ],
   "source": [
    "import numpy as np\n",
    "import pandas as pd\n",
    "import seaborn as sns\n",
    "import matplotlib.pyplot as plt\n",
    "\n",
    "import os\n",
    "for dirname, _, filenames in os.walk('/kaggle/input'):\n",
    "    for filename in filenames:\n",
    "        print(os.path.join(dirname, filename))\n"
   ]
  },
  {
   "cell_type": "code",
   "execution_count": 2,
   "id": "4c4e3c47",
   "metadata": {
    "execution": {
     "iopub.execute_input": "2025-02-15T21:47:51.801100Z",
     "iopub.status.busy": "2025-02-15T21:47:51.800649Z",
     "iopub.status.idle": "2025-02-15T21:47:51.841130Z",
     "shell.execute_reply": "2025-02-15T21:47:51.840233Z"
    },
    "papermill": {
     "duration": 0.046447,
     "end_time": "2025-02-15T21:47:51.843085",
     "exception": false,
     "start_time": "2025-02-15T21:47:51.796638",
     "status": "completed"
    },
    "tags": []
   },
   "outputs": [],
   "source": [
    "df_clean = pd.read_csv(\"/kaggle/input/hr-analytics-dataset/Cleaned_HR_Data_Analysis.csv\")"
   ]
  },
  {
   "cell_type": "code",
   "execution_count": 3,
   "id": "26beb857",
   "metadata": {
    "execution": {
     "iopub.execute_input": "2025-02-15T21:47:51.850859Z",
     "iopub.status.busy": "2025-02-15T21:47:51.850552Z",
     "iopub.status.idle": "2025-02-15T21:47:51.890986Z",
     "shell.execute_reply": "2025-02-15T21:47:51.889891Z"
    },
    "papermill": {
     "duration": 0.046363,
     "end_time": "2025-02-15T21:47:51.892952",
     "exception": false,
     "start_time": "2025-02-15T21:47:51.846589",
     "status": "completed"
    },
    "tags": []
   },
   "outputs": [
    {
     "data": {
      "text/html": [
       "<div>\n",
       "<style scoped>\n",
       "    .dataframe tbody tr th:only-of-type {\n",
       "        vertical-align: middle;\n",
       "    }\n",
       "\n",
       "    .dataframe tbody tr th {\n",
       "        vertical-align: top;\n",
       "    }\n",
       "\n",
       "    .dataframe thead th {\n",
       "        text-align: right;\n",
       "    }\n",
       "</style>\n",
       "<table border=\"1\" class=\"dataframe\">\n",
       "  <thead>\n",
       "    <tr style=\"text-align: right;\">\n",
       "      <th></th>\n",
       "      <th>Employee ID</th>\n",
       "      <th>StartDate</th>\n",
       "      <th>Title</th>\n",
       "      <th>BusinessUnit</th>\n",
       "      <th>EmployeeStatus</th>\n",
       "      <th>EmployeeType</th>\n",
       "      <th>PayZone</th>\n",
       "      <th>EmployeeClassificationType</th>\n",
       "      <th>DepartmentType</th>\n",
       "      <th>Division</th>\n",
       "      <th>...</th>\n",
       "      <th>Engagement Score</th>\n",
       "      <th>Satisfaction Score</th>\n",
       "      <th>Work-Life Balance Score</th>\n",
       "      <th>Training Date</th>\n",
       "      <th>Training Program Name</th>\n",
       "      <th>Training Type</th>\n",
       "      <th>Training Outcome</th>\n",
       "      <th>Training Duration(Days)</th>\n",
       "      <th>Training Cost</th>\n",
       "      <th>Age</th>\n",
       "    </tr>\n",
       "  </thead>\n",
       "  <tbody>\n",
       "    <tr>\n",
       "      <th>0</th>\n",
       "      <td>3427</td>\n",
       "      <td>20-Sep-19</td>\n",
       "      <td>Production Technician I</td>\n",
       "      <td>CCDR</td>\n",
       "      <td>Active</td>\n",
       "      <td>Contract</td>\n",
       "      <td>Zone C</td>\n",
       "      <td>Temporary</td>\n",
       "      <td>Production</td>\n",
       "      <td>Finance &amp; Accounting</td>\n",
       "      <td>...</td>\n",
       "      <td>1</td>\n",
       "      <td>2</td>\n",
       "      <td>3</td>\n",
       "      <td>15-Jul-23</td>\n",
       "      <td>Leadership Development</td>\n",
       "      <td>Internal</td>\n",
       "      <td>Failed</td>\n",
       "      <td>2</td>\n",
       "      <td>606.11</td>\n",
       "      <td>50</td>\n",
       "    </tr>\n",
       "    <tr>\n",
       "      <th>1</th>\n",
       "      <td>3428</td>\n",
       "      <td>11-Feb-23</td>\n",
       "      <td>Production Technician I</td>\n",
       "      <td>EW</td>\n",
       "      <td>Active</td>\n",
       "      <td>Contract</td>\n",
       "      <td>Zone A</td>\n",
       "      <td>Part-Time</td>\n",
       "      <td>Production</td>\n",
       "      <td>Aerial</td>\n",
       "      <td>...</td>\n",
       "      <td>2</td>\n",
       "      <td>1</td>\n",
       "      <td>5</td>\n",
       "      <td>12-Sep-22</td>\n",
       "      <td>Customer Service</td>\n",
       "      <td>External</td>\n",
       "      <td>Incomplete</td>\n",
       "      <td>4</td>\n",
       "      <td>673.02</td>\n",
       "      <td>58</td>\n",
       "    </tr>\n",
       "    <tr>\n",
       "      <th>2</th>\n",
       "      <td>3429</td>\n",
       "      <td>10-Dec-18</td>\n",
       "      <td>Area Sales Manager</td>\n",
       "      <td>PL</td>\n",
       "      <td>Active</td>\n",
       "      <td>Full-Time</td>\n",
       "      <td>Zone B</td>\n",
       "      <td>Part-Time</td>\n",
       "      <td>Sales</td>\n",
       "      <td>General - Sga</td>\n",
       "      <td>...</td>\n",
       "      <td>1</td>\n",
       "      <td>2</td>\n",
       "      <td>1</td>\n",
       "      <td>13-Aug-22</td>\n",
       "      <td>Leadership Development</td>\n",
       "      <td>External</td>\n",
       "      <td>Failed</td>\n",
       "      <td>2</td>\n",
       "      <td>413.28</td>\n",
       "      <td>27</td>\n",
       "    </tr>\n",
       "    <tr>\n",
       "      <th>3</th>\n",
       "      <td>3430</td>\n",
       "      <td>21-Jun-21</td>\n",
       "      <td>Area Sales Manager</td>\n",
       "      <td>CCDR</td>\n",
       "      <td>Active</td>\n",
       "      <td>Contract</td>\n",
       "      <td>Zone A</td>\n",
       "      <td>Full-Time</td>\n",
       "      <td>Sales</td>\n",
       "      <td>Finance &amp; Accounting</td>\n",
       "      <td>...</td>\n",
       "      <td>5</td>\n",
       "      <td>5</td>\n",
       "      <td>4</td>\n",
       "      <td>15-Dec-22</td>\n",
       "      <td>Project Management</td>\n",
       "      <td>External</td>\n",
       "      <td>Completed</td>\n",
       "      <td>3</td>\n",
       "      <td>663.78</td>\n",
       "      <td>23</td>\n",
       "    </tr>\n",
       "    <tr>\n",
       "      <th>4</th>\n",
       "      <td>3431</td>\n",
       "      <td>29-Jun-19</td>\n",
       "      <td>Area Sales Manager</td>\n",
       "      <td>TNS</td>\n",
       "      <td>Active</td>\n",
       "      <td>Contract</td>\n",
       "      <td>Zone A</td>\n",
       "      <td>Temporary</td>\n",
       "      <td>Sales</td>\n",
       "      <td>General - Con</td>\n",
       "      <td>...</td>\n",
       "      <td>2</td>\n",
       "      <td>5</td>\n",
       "      <td>3</td>\n",
       "      <td>13-Jul-23</td>\n",
       "      <td>Technical Skills</td>\n",
       "      <td>External</td>\n",
       "      <td>Failed</td>\n",
       "      <td>5</td>\n",
       "      <td>399.03</td>\n",
       "      <td>50</td>\n",
       "    </tr>\n",
       "  </tbody>\n",
       "</table>\n",
       "<p>5 rows × 28 columns</p>\n",
       "</div>"
      ],
      "text/plain": [
       "   Employee ID  StartDate                    Title BusinessUnit  \\\n",
       "0         3427  20-Sep-19  Production Technician I         CCDR   \n",
       "1         3428  11-Feb-23  Production Technician I           EW   \n",
       "2         3429  10-Dec-18       Area Sales Manager           PL   \n",
       "3         3430  21-Jun-21       Area Sales Manager         CCDR   \n",
       "4         3431  29-Jun-19       Area Sales Manager          TNS   \n",
       "\n",
       "  EmployeeStatus EmployeeType PayZone EmployeeClassificationType  \\\n",
       "0         Active     Contract  Zone C                  Temporary   \n",
       "1         Active     Contract  Zone A                  Part-Time   \n",
       "2         Active    Full-Time  Zone B                  Part-Time   \n",
       "3         Active     Contract  Zone A                  Full-Time   \n",
       "4         Active     Contract  Zone A                  Temporary   \n",
       "\n",
       "      DepartmentType              Division  ... Engagement Score  \\\n",
       "0  Production         Finance & Accounting  ...                1   \n",
       "1  Production                       Aerial  ...                2   \n",
       "2              Sales         General - Sga  ...                1   \n",
       "3              Sales  Finance & Accounting  ...                5   \n",
       "4              Sales         General - Con  ...                2   \n",
       "\n",
       "  Satisfaction Score Work-Life Balance Score Training Date  \\\n",
       "0                  2                       3     15-Jul-23   \n",
       "1                  1                       5     12-Sep-22   \n",
       "2                  2                       1     13-Aug-22   \n",
       "3                  5                       4     15-Dec-22   \n",
       "4                  5                       3     13-Jul-23   \n",
       "\n",
       "    Training Program Name Training Type  Training Outcome  \\\n",
       "0  Leadership Development      Internal            Failed   \n",
       "1        Customer Service      External        Incomplete   \n",
       "2  Leadership Development      External            Failed   \n",
       "3      Project Management      External         Completed   \n",
       "4        Technical Skills      External            Failed   \n",
       "\n",
       "  Training Duration(Days)  Training Cost  Age  \n",
       "0                       2         606.11   50  \n",
       "1                       4         673.02   58  \n",
       "2                       2         413.28   27  \n",
       "3                       3         663.78   23  \n",
       "4                       5         399.03   50  \n",
       "\n",
       "[5 rows x 28 columns]"
      ]
     },
     "execution_count": 3,
     "metadata": {},
     "output_type": "execute_result"
    }
   ],
   "source": [
    "df_clean.head()"
   ]
  },
  {
   "cell_type": "code",
   "execution_count": 4,
   "id": "8d9b59b9",
   "metadata": {
    "execution": {
     "iopub.execute_input": "2025-02-15T21:47:51.901457Z",
     "iopub.status.busy": "2025-02-15T21:47:51.901111Z",
     "iopub.status.idle": "2025-02-15T21:47:51.927621Z",
     "shell.execute_reply": "2025-02-15T21:47:51.926247Z"
    },
    "papermill": {
     "duration": 0.032501,
     "end_time": "2025-02-15T21:47:51.929310",
     "exception": false,
     "start_time": "2025-02-15T21:47:51.896809",
     "status": "completed"
    },
    "tags": []
   },
   "outputs": [
    {
     "name": "stdout",
     "output_type": "stream",
     "text": [
      "<class 'pandas.core.frame.DataFrame'>\n",
      "RangeIndex: 2845 entries, 0 to 2844\n",
      "Data columns (total 28 columns):\n",
      " #   Column                      Non-Null Count  Dtype  \n",
      "---  ------                      --------------  -----  \n",
      " 0   Employee ID                 2845 non-null   int64  \n",
      " 1   StartDate                   2845 non-null   object \n",
      " 2   Title                       2845 non-null   object \n",
      " 3   BusinessUnit                2845 non-null   object \n",
      " 4   EmployeeStatus              2845 non-null   object \n",
      " 5   EmployeeType                2845 non-null   object \n",
      " 6   PayZone                     2845 non-null   object \n",
      " 7   EmployeeClassificationType  2845 non-null   object \n",
      " 8   DepartmentType              2845 non-null   object \n",
      " 9   Division                    2845 non-null   object \n",
      " 10  DOB                         2845 non-null   object \n",
      " 11  State                       2845 non-null   object \n",
      " 12  GenderCode                  2845 non-null   object \n",
      " 13  RaceDesc                    2845 non-null   object \n",
      " 14  MaritalDesc                 2845 non-null   object \n",
      " 15  Performance Score           2845 non-null   object \n",
      " 16  Current Employee Rating     2845 non-null   int64  \n",
      " 17  Survey Date                 2845 non-null   object \n",
      " 18  Engagement Score            2845 non-null   int64  \n",
      " 19  Satisfaction Score          2845 non-null   int64  \n",
      " 20  Work-Life Balance Score     2845 non-null   int64  \n",
      " 21  Training Date               2845 non-null   object \n",
      " 22  Training Program Name       2845 non-null   object \n",
      " 23  Training Type               2845 non-null   object \n",
      " 24  Training Outcome            2845 non-null   object \n",
      " 25  Training Duration(Days)     2845 non-null   int64  \n",
      " 26  Training Cost               2845 non-null   float64\n",
      " 27  Age                         2845 non-null   int64  \n",
      "dtypes: float64(1), int64(7), object(20)\n",
      "memory usage: 622.5+ KB\n"
     ]
    }
   ],
   "source": [
    "df_clean.info()"
   ]
  },
  {
   "cell_type": "code",
   "execution_count": 5,
   "id": "bc830254",
   "metadata": {
    "execution": {
     "iopub.execute_input": "2025-02-15T21:47:51.937945Z",
     "iopub.status.busy": "2025-02-15T21:47:51.937606Z",
     "iopub.status.idle": "2025-02-15T21:47:51.948142Z",
     "shell.execute_reply": "2025-02-15T21:47:51.947272Z"
    },
    "papermill": {
     "duration": 0.016798,
     "end_time": "2025-02-15T21:47:51.949842",
     "exception": false,
     "start_time": "2025-02-15T21:47:51.933044",
     "status": "completed"
    },
    "tags": []
   },
   "outputs": [
    {
     "data": {
      "text/plain": [
       "Employee ID                   0\n",
       "StartDate                     0\n",
       "Title                         0\n",
       "BusinessUnit                  0\n",
       "EmployeeStatus                0\n",
       "EmployeeType                  0\n",
       "PayZone                       0\n",
       "EmployeeClassificationType    0\n",
       "DepartmentType                0\n",
       "Division                      0\n",
       "DOB                           0\n",
       "State                         0\n",
       "GenderCode                    0\n",
       "RaceDesc                      0\n",
       "MaritalDesc                   0\n",
       "Performance Score             0\n",
       "Current Employee Rating       0\n",
       "Survey Date                   0\n",
       "Engagement Score              0\n",
       "Satisfaction Score            0\n",
       "Work-Life Balance Score       0\n",
       "Training Date                 0\n",
       "Training Program Name         0\n",
       "Training Type                 0\n",
       "Training Outcome              0\n",
       "Training Duration(Days)       0\n",
       "Training Cost                 0\n",
       "Age                           0\n",
       "dtype: int64"
      ]
     },
     "execution_count": 5,
     "metadata": {},
     "output_type": "execute_result"
    }
   ],
   "source": [
    "df_clean.isnull().sum()"
   ]
  },
  {
   "cell_type": "code",
   "execution_count": 6,
   "id": "5388b4e7",
   "metadata": {
    "execution": {
     "iopub.execute_input": "2025-02-15T21:47:51.959242Z",
     "iopub.status.busy": "2025-02-15T21:47:51.958917Z",
     "iopub.status.idle": "2025-02-15T21:47:51.986746Z",
     "shell.execute_reply": "2025-02-15T21:47:51.985815Z"
    },
    "papermill": {
     "duration": 0.034324,
     "end_time": "2025-02-15T21:47:51.988358",
     "exception": false,
     "start_time": "2025-02-15T21:47:51.954034",
     "status": "completed"
    },
    "tags": []
   },
   "outputs": [],
   "source": [
    "DT = ['StartDate', 'DOB', 'Survey Date']\n",
    "\n",
    "for item in DT:\n",
    "    df_clean[item] = pd.to_datetime(df_clean[item], format='%d-%m-%Y', errors='coerce')"
   ]
  },
  {
   "cell_type": "code",
   "execution_count": 7,
   "id": "3ce9f1e4",
   "metadata": {
    "execution": {
     "iopub.execute_input": "2025-02-15T21:47:51.997221Z",
     "iopub.status.busy": "2025-02-15T21:47:51.996900Z",
     "iopub.status.idle": "2025-02-15T21:47:52.021222Z",
     "shell.execute_reply": "2025-02-15T21:47:52.020056Z"
    },
    "papermill": {
     "duration": 0.030918,
     "end_time": "2025-02-15T21:47:52.023262",
     "exception": false,
     "start_time": "2025-02-15T21:47:51.992344",
     "status": "completed"
    },
    "tags": []
   },
   "outputs": [],
   "source": [
    "df_clean = pd.get_dummies(df_clean, drop_first=True)"
   ]
  },
  {
   "cell_type": "code",
   "execution_count": 8,
   "id": "24952d59",
   "metadata": {
    "execution": {
     "iopub.execute_input": "2025-02-15T21:47:52.032770Z",
     "iopub.status.busy": "2025-02-15T21:47:52.032369Z",
     "iopub.status.idle": "2025-02-15T21:47:52.071032Z",
     "shell.execute_reply": "2025-02-15T21:47:52.069814Z"
    },
    "papermill": {
     "duration": 0.045517,
     "end_time": "2025-02-15T21:47:52.072835",
     "exception": false,
     "start_time": "2025-02-15T21:47:52.027318",
     "status": "completed"
    },
    "tags": []
   },
   "outputs": [
    {
     "data": {
      "text/html": [
       "<div>\n",
       "<style scoped>\n",
       "    .dataframe tbody tr th:only-of-type {\n",
       "        vertical-align: middle;\n",
       "    }\n",
       "\n",
       "    .dataframe tbody tr th {\n",
       "        vertical-align: top;\n",
       "    }\n",
       "\n",
       "    .dataframe thead th {\n",
       "        text-align: right;\n",
       "    }\n",
       "</style>\n",
       "<table border=\"1\" class=\"dataframe\">\n",
       "  <thead>\n",
       "    <tr style=\"text-align: right;\">\n",
       "      <th></th>\n",
       "      <th>Employee ID</th>\n",
       "      <th>StartDate</th>\n",
       "      <th>DOB</th>\n",
       "      <th>Current Employee Rating</th>\n",
       "      <th>Survey Date</th>\n",
       "      <th>Engagement Score</th>\n",
       "      <th>Satisfaction Score</th>\n",
       "      <th>Work-Life Balance Score</th>\n",
       "      <th>Training Duration(Days)</th>\n",
       "      <th>Training Cost</th>\n",
       "      <th>Age</th>\n",
       "    </tr>\n",
       "  </thead>\n",
       "  <tbody>\n",
       "    <tr>\n",
       "      <th>count</th>\n",
       "      <td>2845.000000</td>\n",
       "      <td>0</td>\n",
       "      <td>2845</td>\n",
       "      <td>2845.000000</td>\n",
       "      <td>2845</td>\n",
       "      <td>2845.000000</td>\n",
       "      <td>2845.000000</td>\n",
       "      <td>2845.000000</td>\n",
       "      <td>2845.000000</td>\n",
       "      <td>2845.000000</td>\n",
       "      <td>2845.000000</td>\n",
       "    </tr>\n",
       "    <tr>\n",
       "      <th>mean</th>\n",
       "      <td>2470.591916</td>\n",
       "      <td>NaT</td>\n",
       "      <td>1971-08-19 17:09:00.316344464</td>\n",
       "      <td>2.974692</td>\n",
       "      <td>2023-02-04 21:18:32.267135232</td>\n",
       "      <td>2.941652</td>\n",
       "      <td>3.028471</td>\n",
       "      <td>2.989104</td>\n",
       "      <td>2.973989</td>\n",
       "      <td>559.278956</td>\n",
       "      <td>49.448506</td>\n",
       "    </tr>\n",
       "    <tr>\n",
       "      <th>min</th>\n",
       "      <td>1001.000000</td>\n",
       "      <td>NaT</td>\n",
       "      <td>1941-08-14 00:00:00</td>\n",
       "      <td>1.000000</td>\n",
       "      <td>2022-08-05 00:00:00</td>\n",
       "      <td>1.000000</td>\n",
       "      <td>1.000000</td>\n",
       "      <td>1.000000</td>\n",
       "      <td>1.000000</td>\n",
       "      <td>100.040000</td>\n",
       "      <td>17.000000</td>\n",
       "    </tr>\n",
       "    <tr>\n",
       "      <th>25%</th>\n",
       "      <td>1736.000000</td>\n",
       "      <td>NaT</td>\n",
       "      <td>1956-06-12 00:00:00</td>\n",
       "      <td>2.000000</td>\n",
       "      <td>2022-11-05 00:00:00</td>\n",
       "      <td>2.000000</td>\n",
       "      <td>2.000000</td>\n",
       "      <td>2.000000</td>\n",
       "      <td>2.000000</td>\n",
       "      <td>328.060000</td>\n",
       "      <td>34.000000</td>\n",
       "    </tr>\n",
       "    <tr>\n",
       "      <th>50%</th>\n",
       "      <td>2456.000000</td>\n",
       "      <td>NaT</td>\n",
       "      <td>1972-01-11 00:00:00</td>\n",
       "      <td>3.000000</td>\n",
       "      <td>2023-02-04 00:00:00</td>\n",
       "      <td>3.000000</td>\n",
       "      <td>3.000000</td>\n",
       "      <td>3.000000</td>\n",
       "      <td>3.000000</td>\n",
       "      <td>571.810000</td>\n",
       "      <td>49.000000</td>\n",
       "    </tr>\n",
       "    <tr>\n",
       "      <th>75%</th>\n",
       "      <td>3197.000000</td>\n",
       "      <td>NaT</td>\n",
       "      <td>1987-04-26 00:00:00</td>\n",
       "      <td>3.000000</td>\n",
       "      <td>2023-05-05 00:00:00</td>\n",
       "      <td>4.000000</td>\n",
       "      <td>4.000000</td>\n",
       "      <td>4.000000</td>\n",
       "      <td>4.000000</td>\n",
       "      <td>788.330000</td>\n",
       "      <td>65.000000</td>\n",
       "    </tr>\n",
       "    <tr>\n",
       "      <th>max</th>\n",
       "      <td>4000.000000</td>\n",
       "      <td>NaT</td>\n",
       "      <td>2001-07-09 00:00:00</td>\n",
       "      <td>5.000000</td>\n",
       "      <td>2023-08-05 00:00:00</td>\n",
       "      <td>5.000000</td>\n",
       "      <td>5.000000</td>\n",
       "      <td>5.000000</td>\n",
       "      <td>5.000000</td>\n",
       "      <td>999.970000</td>\n",
       "      <td>82.000000</td>\n",
       "    </tr>\n",
       "    <tr>\n",
       "      <th>std</th>\n",
       "      <td>859.450107</td>\n",
       "      <td>NaN</td>\n",
       "      <td>NaN</td>\n",
       "      <td>1.012610</td>\n",
       "      <td>NaN</td>\n",
       "      <td>1.435230</td>\n",
       "      <td>1.410067</td>\n",
       "      <td>1.408816</td>\n",
       "      <td>1.419682</td>\n",
       "      <td>263.333611</td>\n",
       "      <td>17.689179</td>\n",
       "    </tr>\n",
       "  </tbody>\n",
       "</table>\n",
       "</div>"
      ],
      "text/plain": [
       "       Employee ID StartDate                            DOB  \\\n",
       "count  2845.000000         0                           2845   \n",
       "mean   2470.591916       NaT  1971-08-19 17:09:00.316344464   \n",
       "min    1001.000000       NaT            1941-08-14 00:00:00   \n",
       "25%    1736.000000       NaT            1956-06-12 00:00:00   \n",
       "50%    2456.000000       NaT            1972-01-11 00:00:00   \n",
       "75%    3197.000000       NaT            1987-04-26 00:00:00   \n",
       "max    4000.000000       NaT            2001-07-09 00:00:00   \n",
       "std     859.450107       NaN                            NaN   \n",
       "\n",
       "       Current Employee Rating                    Survey Date  \\\n",
       "count              2845.000000                           2845   \n",
       "mean                  2.974692  2023-02-04 21:18:32.267135232   \n",
       "min                   1.000000            2022-08-05 00:00:00   \n",
       "25%                   2.000000            2022-11-05 00:00:00   \n",
       "50%                   3.000000            2023-02-04 00:00:00   \n",
       "75%                   3.000000            2023-05-05 00:00:00   \n",
       "max                   5.000000            2023-08-05 00:00:00   \n",
       "std                   1.012610                            NaN   \n",
       "\n",
       "       Engagement Score  Satisfaction Score  Work-Life Balance Score  \\\n",
       "count       2845.000000         2845.000000              2845.000000   \n",
       "mean           2.941652            3.028471                 2.989104   \n",
       "min            1.000000            1.000000                 1.000000   \n",
       "25%            2.000000            2.000000                 2.000000   \n",
       "50%            3.000000            3.000000                 3.000000   \n",
       "75%            4.000000            4.000000                 4.000000   \n",
       "max            5.000000            5.000000                 5.000000   \n",
       "std            1.435230            1.410067                 1.408816   \n",
       "\n",
       "       Training Duration(Days)  Training Cost          Age  \n",
       "count              2845.000000    2845.000000  2845.000000  \n",
       "mean                  2.973989     559.278956    49.448506  \n",
       "min                   1.000000     100.040000    17.000000  \n",
       "25%                   2.000000     328.060000    34.000000  \n",
       "50%                   3.000000     571.810000    49.000000  \n",
       "75%                   4.000000     788.330000    65.000000  \n",
       "max                   5.000000     999.970000    82.000000  \n",
       "std                   1.419682     263.333611    17.689179  "
      ]
     },
     "execution_count": 8,
     "metadata": {},
     "output_type": "execute_result"
    }
   ],
   "source": [
    "# Análise estatística básica\n",
    "df_clean.describe()"
   ]
  },
  {
   "cell_type": "code",
   "execution_count": 9,
   "id": "4b02a77a",
   "metadata": {
    "execution": {
     "iopub.execute_input": "2025-02-15T21:47:52.082298Z",
     "iopub.status.busy": "2025-02-15T21:47:52.081978Z",
     "iopub.status.idle": "2025-02-15T21:47:52.138791Z",
     "shell.execute_reply": "2025-02-15T21:47:52.137460Z"
    },
    "papermill": {
     "duration": 0.063385,
     "end_time": "2025-02-15T21:47:52.140495",
     "exception": false,
     "start_time": "2025-02-15T21:47:52.077110",
     "status": "completed"
    },
    "tags": []
   },
   "outputs": [
    {
     "name": "stdout",
     "output_type": "stream",
     "text": [
      "Colunas constantes: []\n"
     ]
    }
   ],
   "source": [
    "# Verificar variáveis com valores constantes ou quase constantes\n",
    "constant_columns = [col for col in df_clean.columns if df_clean[col].nunique() == 1]\n",
    "print(\"Colunas constantes:\", constant_columns)"
   ]
  },
  {
   "cell_type": "code",
   "execution_count": 10,
   "id": "b6dc6afd",
   "metadata": {
    "execution": {
     "iopub.execute_input": "2025-02-15T21:47:52.150297Z",
     "iopub.status.busy": "2025-02-15T21:47:52.149958Z",
     "iopub.status.idle": "2025-02-15T21:47:54.150282Z",
     "shell.execute_reply": "2025-02-15T21:47:54.149093Z"
    },
    "papermill": {
     "duration": 2.007539,
     "end_time": "2025-02-15T21:47:54.152343",
     "exception": false,
     "start_time": "2025-02-15T21:47:52.144804",
     "status": "completed"
    },
    "tags": []
   },
   "outputs": [
    {
     "name": "stderr",
     "output_type": "stream",
     "text": [
      "/usr/local/lib/python3.10/dist-packages/pandas/core/computation/expressions.py:73: RuntimeWarning: invalid value encountered in greater\n",
      "  return op(a, b)\n"
     ]
    }
   ],
   "source": [
    "# Passo 1: Identificar colunas com alta correlação (maior que 0.9 ou menor que -0.9)\n",
    "corr_matrix = df_clean.corr()\n",
    "\n",
    "# Encontrar pares de variáveis altamente correlacionadas\n",
    "high_corr_pairs = []\n",
    "for col in corr_matrix.columns:\n",
    "    # Comparar cada coluna com as outras (sem se comparar consigo mesma)\n",
    "    high_corr = corr_matrix.index[abs(corr_matrix[col]) > 0.9].tolist()\n",
    "    \n",
    "    # Remover a própria coluna da lista, se estiver lá\n",
    "    if col in high_corr:\n",
    "        high_corr.remove(col)\n",
    "    \n",
    "    for item in high_corr:\n",
    "        high_corr_pairs.append((col, item))\n"
   ]
  },
  {
   "cell_type": "code",
   "execution_count": 11,
   "id": "92b62122",
   "metadata": {
    "execution": {
     "iopub.execute_input": "2025-02-15T21:47:54.162497Z",
     "iopub.status.busy": "2025-02-15T21:47:54.162110Z",
     "iopub.status.idle": "2025-02-15T21:47:54.400635Z",
     "shell.execute_reply": "2025-02-15T21:47:54.399210Z"
    },
    "papermill": {
     "duration": 0.245698,
     "end_time": "2025-02-15T21:47:54.402543",
     "exception": false,
     "start_time": "2025-02-15T21:47:54.156845",
     "status": "completed"
    },
    "tags": []
   },
   "outputs": [
    {
     "name": "stderr",
     "output_type": "stream",
     "text": [
      "/usr/local/lib/python3.10/dist-packages/pandas/core/computation/expressions.py:73: RuntimeWarning: invalid value encountered in less\n",
      "  return op(a, b)\n"
     ]
    }
   ],
   "source": [
    "# Passo 2: Identificar colunas com pouca variabilidade\n",
    "constant_columns = [col for col in df_clean.columns if df_clean[col].nunique() == 1]\n",
    "\n",
    "# Passo 3: Identificar variáveis com baixa correlação entre si\n",
    "low_corr_pairs = []\n",
    "for col in corr_matrix.columns:\n",
    "    low_corr = corr_matrix.index[abs(corr_matrix[col]) < 0.1].tolist()\n",
    "    if col in low_corr:  # Verificar se a coluna está na lista antes de tentar remover\n",
    "        low_corr.remove(col)  # Remover a própria coluna da lista\n",
    "    for item in low_corr:\n",
    "        low_corr_pairs.append((col, item))\n",
    "\n",
    "# Listar colunas para remover\n",
    "columns_to_remove = set()"
   ]
  },
  {
   "cell_type": "code",
   "execution_count": 12,
   "id": "f5da905c",
   "metadata": {
    "execution": {
     "iopub.execute_input": "2025-02-15T21:47:54.412728Z",
     "iopub.status.busy": "2025-02-15T21:47:54.412286Z",
     "iopub.status.idle": "2025-02-15T21:47:54.449368Z",
     "shell.execute_reply": "2025-02-15T21:47:54.448154Z"
    },
    "papermill": {
     "duration": 0.044148,
     "end_time": "2025-02-15T21:47:54.451164",
     "exception": false,
     "start_time": "2025-02-15T21:47:54.407016",
     "status": "completed"
    },
    "tags": []
   },
   "outputs": [
    {
     "name": "stdout",
     "output_type": "stream",
     "text": [
      "Colunas que permanecem no dataset:\n",
      "['StartDate']\n"
     ]
    }
   ],
   "source": [
    "# Adicionar variáveis com alta correlação\n",
    "for pair in high_corr_pairs:\n",
    "    columns_to_remove.add(pair[1])  # Remover uma das variáveis do par de alta correlação\n",
    "\n",
    "# Adicionar variáveis com pouca variabilidade\n",
    "columns_to_remove.update(constant_columns)\n",
    "\n",
    "# Adicionar variáveis com baixa correlação (menos de 0.1)\n",
    "for pair in low_corr_pairs:\n",
    "    columns_to_remove.add(pair[1])  # Remover uma das variáveis do par de baixa correlação\n",
    "\n",
    "# Remover as colunas do DataFrame\n",
    "df_cleaned = df_clean.drop(columns=columns_to_remove)\n",
    "\n",
    "# Exibir as colunas que permanecem\n",
    "print(\"Colunas que permanecem no dataset:\")\n",
    "print(df_cleaned.columns.tolist())\n"
   ]
  }
 ],
 "metadata": {
  "kaggle": {
   "accelerator": "none",
   "dataSources": [
    {
     "datasetId": 6489977,
     "sourceId": 10510250,
     "sourceType": "datasetVersion"
    }
   ],
   "dockerImageVersionId": 30886,
   "isGpuEnabled": false,
   "isInternetEnabled": true,
   "language": "python",
   "sourceType": "notebook"
  },
  "kernelspec": {
   "display_name": "Python 3",
   "language": "python",
   "name": "python3"
  },
  "language_info": {
   "codemirror_mode": {
    "name": "ipython",
    "version": 3
   },
   "file_extension": ".py",
   "mimetype": "text/x-python",
   "name": "python",
   "nbconvert_exporter": "python",
   "pygments_lexer": "ipython3",
   "version": "3.10.12"
  },
  "papermill": {
   "default_parameters": {},
   "duration": 8.901082,
   "end_time": "2025-02-15T21:47:55.175785",
   "environment_variables": {},
   "exception": null,
   "input_path": "__notebook__.ipynb",
   "output_path": "__notebook__.ipynb",
   "parameters": {},
   "start_time": "2025-02-15T21:47:46.274703",
   "version": "2.6.0"
  }
 },
 "nbformat": 4,
 "nbformat_minor": 5
}
