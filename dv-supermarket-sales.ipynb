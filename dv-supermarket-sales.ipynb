{
 "cells": [
  {
   "cell_type": "code",
   "execution_count": 1,
   "id": "d2715963",
   "metadata": {
    "_cell_guid": "b1076dfc-b9ad-4769-8c92-a6c4dae69d19",
    "_uuid": "8f2839f25d086af736a60e9eeb907d3b93b6e0e5",
    "execution": {
     "iopub.execute_input": "2025-02-08T20:11:39.988764Z",
     "iopub.status.busy": "2025-02-08T20:11:39.988252Z",
     "iopub.status.idle": "2025-02-08T20:11:42.820282Z",
     "shell.execute_reply": "2025-02-08T20:11:42.818894Z"
    },
    "papermill": {
     "duration": 2.845161,
     "end_time": "2025-02-08T20:11:42.822229",
     "exception": false,
     "start_time": "2025-02-08T20:11:39.977068",
     "status": "completed"
    },
    "tags": []
   },
   "outputs": [
    {
     "name": "stdout",
     "output_type": "stream",
     "text": [
      "/kaggle/input/supermarket-sales/supermarket_sales -.csv\n"
     ]
    }
   ],
   "source": [
    "import numpy as np\n",
    "import pandas as pd\n",
    "import seaborn as sns\n",
    "import matplotlib.pyplot as plt\n",
    "import warnings\n",
    "warnings.filterwarnings('ignore')\n",
    "\n",
    "\n",
    "import os\n",
    "for dirname, _, filenames in os.walk('/kaggle/input'):\n",
    "    for filename in filenames:\n",
    "        print(os.path.join(dirname, filename))\n",
    "\n",
    "# You can write up to 20GB to the current directory (/kaggle/working/) that gets preserved as output when you create a version using \"Save & Run All\" \n",
    "# You can also write temporary files to /kaggle/temp/, but they won't be saved outside of the current session"
   ]
  },
  {
   "cell_type": "code",
   "execution_count": 2,
   "id": "3c4f1b8a",
   "metadata": {
    "execution": {
     "iopub.execute_input": "2025-02-08T20:11:42.842366Z",
     "iopub.status.busy": "2025-02-08T20:11:42.841841Z",
     "iopub.status.idle": "2025-02-08T20:11:42.871863Z",
     "shell.execute_reply": "2025-02-08T20:11:42.870870Z"
    },
    "papermill": {
     "duration": 0.041788,
     "end_time": "2025-02-08T20:11:42.873657",
     "exception": false,
     "start_time": "2025-02-08T20:11:42.831869",
     "status": "completed"
    },
    "tags": []
   },
   "outputs": [],
   "source": [
    "df = pd.read_csv(\"/kaggle/input/supermarket-sales/supermarket_sales -.csv\")"
   ]
  },
  {
   "cell_type": "code",
   "execution_count": 3,
   "id": "95707b03",
   "metadata": {
    "execution": {
     "iopub.execute_input": "2025-02-08T20:11:42.893311Z",
     "iopub.status.busy": "2025-02-08T20:11:42.892946Z",
     "iopub.status.idle": "2025-02-08T20:11:42.927178Z",
     "shell.execute_reply": "2025-02-08T20:11:42.926143Z"
    },
    "papermill": {
     "duration": 0.045921,
     "end_time": "2025-02-08T20:11:42.929012",
     "exception": false,
     "start_time": "2025-02-08T20:11:42.883091",
     "status": "completed"
    },
    "tags": []
   },
   "outputs": [
    {
     "data": {
      "text/html": [
       "<div>\n",
       "<style scoped>\n",
       "    .dataframe tbody tr th:only-of-type {\n",
       "        vertical-align: middle;\n",
       "    }\n",
       "\n",
       "    .dataframe tbody tr th {\n",
       "        vertical-align: top;\n",
       "    }\n",
       "\n",
       "    .dataframe thead th {\n",
       "        text-align: right;\n",
       "    }\n",
       "</style>\n",
       "<table border=\"1\" class=\"dataframe\">\n",
       "  <thead>\n",
       "    <tr style=\"text-align: right;\">\n",
       "      <th></th>\n",
       "      <th>Invoice ID</th>\n",
       "      <th>Branch</th>\n",
       "      <th>City</th>\n",
       "      <th>Customer type</th>\n",
       "      <th>Gender</th>\n",
       "      <th>Product line</th>\n",
       "      <th>Unit price</th>\n",
       "      <th>Quantity</th>\n",
       "      <th>Tax 5%</th>\n",
       "      <th>Total</th>\n",
       "      <th>Date</th>\n",
       "      <th>Time</th>\n",
       "      <th>Payment</th>\n",
       "      <th>cogs</th>\n",
       "      <th>gross margin percentage</th>\n",
       "      <th>gross income</th>\n",
       "      <th>Rating</th>\n",
       "    </tr>\n",
       "  </thead>\n",
       "  <tbody>\n",
       "    <tr>\n",
       "      <th>0</th>\n",
       "      <td>750-67-8428</td>\n",
       "      <td>A</td>\n",
       "      <td>Yangon</td>\n",
       "      <td>Member</td>\n",
       "      <td>Female</td>\n",
       "      <td>Health and beauty</td>\n",
       "      <td>74.69</td>\n",
       "      <td>7</td>\n",
       "      <td>26.1415</td>\n",
       "      <td>548.9715</td>\n",
       "      <td>1/5/2019</td>\n",
       "      <td>13:08</td>\n",
       "      <td>Ewallet</td>\n",
       "      <td>522.83</td>\n",
       "      <td>4.761905</td>\n",
       "      <td>26.1415</td>\n",
       "      <td>9.1</td>\n",
       "    </tr>\n",
       "    <tr>\n",
       "      <th>1</th>\n",
       "      <td>226-31-3081</td>\n",
       "      <td>C</td>\n",
       "      <td>Naypyitaw</td>\n",
       "      <td>Normal</td>\n",
       "      <td>Female</td>\n",
       "      <td>Electronic accessories</td>\n",
       "      <td>15.28</td>\n",
       "      <td>5</td>\n",
       "      <td>3.8200</td>\n",
       "      <td>80.2200</td>\n",
       "      <td>3/8/2019</td>\n",
       "      <td>10:29</td>\n",
       "      <td>Cash</td>\n",
       "      <td>76.40</td>\n",
       "      <td>4.761905</td>\n",
       "      <td>3.8200</td>\n",
       "      <td>9.6</td>\n",
       "    </tr>\n",
       "    <tr>\n",
       "      <th>2</th>\n",
       "      <td>631-41-3108</td>\n",
       "      <td>A</td>\n",
       "      <td>Yangon</td>\n",
       "      <td>Normal</td>\n",
       "      <td>Male</td>\n",
       "      <td>Home and lifestyle</td>\n",
       "      <td>46.33</td>\n",
       "      <td>7</td>\n",
       "      <td>16.2155</td>\n",
       "      <td>340.5255</td>\n",
       "      <td>3/3/2019</td>\n",
       "      <td>13:23</td>\n",
       "      <td>Credit card</td>\n",
       "      <td>324.31</td>\n",
       "      <td>4.761905</td>\n",
       "      <td>16.2155</td>\n",
       "      <td>7.4</td>\n",
       "    </tr>\n",
       "    <tr>\n",
       "      <th>3</th>\n",
       "      <td>123-19-1176</td>\n",
       "      <td>A</td>\n",
       "      <td>Yangon</td>\n",
       "      <td>Member</td>\n",
       "      <td>Male</td>\n",
       "      <td>Health and beauty</td>\n",
       "      <td>58.22</td>\n",
       "      <td>8</td>\n",
       "      <td>23.2880</td>\n",
       "      <td>489.0480</td>\n",
       "      <td>1/27/2019</td>\n",
       "      <td>20:33</td>\n",
       "      <td>Ewallet</td>\n",
       "      <td>465.76</td>\n",
       "      <td>4.761905</td>\n",
       "      <td>23.2880</td>\n",
       "      <td>8.4</td>\n",
       "    </tr>\n",
       "    <tr>\n",
       "      <th>4</th>\n",
       "      <td>373-73-7910</td>\n",
       "      <td>A</td>\n",
       "      <td>Yangon</td>\n",
       "      <td>Normal</td>\n",
       "      <td>Male</td>\n",
       "      <td>Sports and travel</td>\n",
       "      <td>86.31</td>\n",
       "      <td>7</td>\n",
       "      <td>30.2085</td>\n",
       "      <td>634.3785</td>\n",
       "      <td>2/8/2019</td>\n",
       "      <td>10:37</td>\n",
       "      <td>Ewallet</td>\n",
       "      <td>604.17</td>\n",
       "      <td>4.761905</td>\n",
       "      <td>30.2085</td>\n",
       "      <td>5.3</td>\n",
       "    </tr>\n",
       "  </tbody>\n",
       "</table>\n",
       "</div>"
      ],
      "text/plain": [
       "    Invoice ID Branch       City Customer type  Gender  \\\n",
       "0  750-67-8428      A     Yangon        Member  Female   \n",
       "1  226-31-3081      C  Naypyitaw        Normal  Female   \n",
       "2  631-41-3108      A     Yangon        Normal    Male   \n",
       "3  123-19-1176      A     Yangon        Member    Male   \n",
       "4  373-73-7910      A     Yangon        Normal    Male   \n",
       "\n",
       "             Product line  Unit price  Quantity   Tax 5%     Total       Date  \\\n",
       "0       Health and beauty       74.69         7  26.1415  548.9715   1/5/2019   \n",
       "1  Electronic accessories       15.28         5   3.8200   80.2200   3/8/2019   \n",
       "2      Home and lifestyle       46.33         7  16.2155  340.5255   3/3/2019   \n",
       "3       Health and beauty       58.22         8  23.2880  489.0480  1/27/2019   \n",
       "4       Sports and travel       86.31         7  30.2085  634.3785   2/8/2019   \n",
       "\n",
       "    Time      Payment    cogs  gross margin percentage  gross income  Rating  \n",
       "0  13:08      Ewallet  522.83                 4.761905       26.1415     9.1  \n",
       "1  10:29         Cash   76.40                 4.761905        3.8200     9.6  \n",
       "2  13:23  Credit card  324.31                 4.761905       16.2155     7.4  \n",
       "3  20:33      Ewallet  465.76                 4.761905       23.2880     8.4  \n",
       "4  10:37      Ewallet  604.17                 4.761905       30.2085     5.3  "
      ]
     },
     "execution_count": 3,
     "metadata": {},
     "output_type": "execute_result"
    }
   ],
   "source": [
    "df.head()"
   ]
  },
  {
   "cell_type": "code",
   "execution_count": 4,
   "id": "0fcc2f74",
   "metadata": {
    "execution": {
     "iopub.execute_input": "2025-02-08T20:11:42.949589Z",
     "iopub.status.busy": "2025-02-08T20:11:42.949224Z",
     "iopub.status.idle": "2025-02-08T20:11:42.978396Z",
     "shell.execute_reply": "2025-02-08T20:11:42.977056Z"
    },
    "papermill": {
     "duration": 0.041349,
     "end_time": "2025-02-08T20:11:42.980259",
     "exception": false,
     "start_time": "2025-02-08T20:11:42.938910",
     "status": "completed"
    },
    "tags": []
   },
   "outputs": [
    {
     "name": "stdout",
     "output_type": "stream",
     "text": [
      "<class 'pandas.core.frame.DataFrame'>\n",
      "RangeIndex: 1000 entries, 0 to 999\n",
      "Data columns (total 17 columns):\n",
      " #   Column                   Non-Null Count  Dtype  \n",
      "---  ------                   --------------  -----  \n",
      " 0   Invoice ID               1000 non-null   object \n",
      " 1   Branch                   1000 non-null   object \n",
      " 2   City                     1000 non-null   object \n",
      " 3   Customer type            1000 non-null   object \n",
      " 4   Gender                   1000 non-null   object \n",
      " 5   Product line             1000 non-null   object \n",
      " 6   Unit price               1000 non-null   float64\n",
      " 7   Quantity                 1000 non-null   int64  \n",
      " 8   Tax 5%                   1000 non-null   float64\n",
      " 9   Total                    1000 non-null   float64\n",
      " 10  Date                     1000 non-null   object \n",
      " 11  Time                     1000 non-null   object \n",
      " 12  Payment                  1000 non-null   object \n",
      " 13  cogs                     1000 non-null   float64\n",
      " 14  gross margin percentage  1000 non-null   float64\n",
      " 15  gross income             1000 non-null   float64\n",
      " 16  Rating                   1000 non-null   float64\n",
      "dtypes: float64(7), int64(1), object(9)\n",
      "memory usage: 132.9+ KB\n"
     ]
    }
   ],
   "source": [
    "df.info()"
   ]
  },
  {
   "cell_type": "code",
   "execution_count": 5,
   "id": "e71b2126",
   "metadata": {
    "execution": {
     "iopub.execute_input": "2025-02-08T20:11:43.000393Z",
     "iopub.status.busy": "2025-02-08T20:11:43.000041Z",
     "iopub.status.idle": "2025-02-08T20:11:43.008104Z",
     "shell.execute_reply": "2025-02-08T20:11:43.007117Z"
    },
    "papermill": {
     "duration": 0.020024,
     "end_time": "2025-02-08T20:11:43.009676",
     "exception": false,
     "start_time": "2025-02-08T20:11:42.989652",
     "status": "completed"
    },
    "tags": []
   },
   "outputs": [
    {
     "data": {
      "text/plain": [
       "Invoice ID                 0\n",
       "Branch                     0\n",
       "City                       0\n",
       "Customer type              0\n",
       "Gender                     0\n",
       "Product line               0\n",
       "Unit price                 0\n",
       "Quantity                   0\n",
       "Tax 5%                     0\n",
       "Total                      0\n",
       "Date                       0\n",
       "Time                       0\n",
       "Payment                    0\n",
       "cogs                       0\n",
       "gross margin percentage    0\n",
       "gross income               0\n",
       "Rating                     0\n",
       "dtype: int64"
      ]
     },
     "execution_count": 5,
     "metadata": {},
     "output_type": "execute_result"
    }
   ],
   "source": [
    "df.isnull().sum()"
   ]
  },
  {
   "cell_type": "code",
   "execution_count": 6,
   "id": "1bd28cb7",
   "metadata": {
    "execution": {
     "iopub.execute_input": "2025-02-08T20:11:43.031152Z",
     "iopub.status.busy": "2025-02-08T20:11:43.030610Z",
     "iopub.status.idle": "2025-02-08T20:11:43.057883Z",
     "shell.execute_reply": "2025-02-08T20:11:43.056324Z"
    },
    "papermill": {
     "duration": 0.040128,
     "end_time": "2025-02-08T20:11:43.059704",
     "exception": false,
     "start_time": "2025-02-08T20:11:43.019576",
     "status": "completed"
    },
    "tags": []
   },
   "outputs": [
    {
     "name": "stdout",
     "output_type": "stream",
     "text": [
      "\n",
      " Estatísticas:\n",
      "        Unit price     Quantity       Tax 5%        Total        cogs  \\\n",
      "count  1000.000000  1000.000000  1000.000000  1000.000000  1000.00000   \n",
      "mean     55.672130     5.510000    15.379369   322.966749   307.58738   \n",
      "std      26.494628     2.923431    11.708825   245.885335   234.17651   \n",
      "min      10.080000     1.000000     0.508500    10.678500    10.17000   \n",
      "25%      32.875000     3.000000     5.924875   124.422375   118.49750   \n",
      "50%      55.230000     5.000000    12.088000   253.848000   241.76000   \n",
      "75%      77.935000     8.000000    22.445250   471.350250   448.90500   \n",
      "max      99.960000    10.000000    49.650000  1042.650000   993.00000   \n",
      "\n",
      "       gross margin percentage  gross income      Rating  \n",
      "count             1.000000e+03   1000.000000  1000.00000  \n",
      "mean              4.761905e+00     15.379369     6.97270  \n",
      "std               6.131498e-14     11.708825     1.71858  \n",
      "min               4.761905e+00      0.508500     4.00000  \n",
      "25%               4.761905e+00      5.924875     5.50000  \n",
      "50%               4.761905e+00     12.088000     7.00000  \n",
      "75%               4.761905e+00     22.445250     8.50000  \n",
      "max               4.761905e+00     49.650000    10.00000  \n"
     ]
    }
   ],
   "source": [
    "print(\"\\n Estatísticas:\")\n",
    "print(df.describe())"
   ]
  },
  {
   "cell_type": "markdown",
   "id": "019fc138",
   "metadata": {
    "papermill": {
     "duration": 0.009267,
     "end_time": "2025-02-08T20:11:43.078853",
     "exception": false,
     "start_time": "2025-02-08T20:11:43.069586",
     "status": "completed"
    },
    "tags": []
   },
   "source": [
    "# Analise das frequências no dataset"
   ]
  },
  {
   "cell_type": "code",
   "execution_count": 7,
   "id": "fd5bc181",
   "metadata": {
    "execution": {
     "iopub.execute_input": "2025-02-08T20:11:43.099263Z",
     "iopub.status.busy": "2025-02-08T20:11:43.098846Z",
     "iopub.status.idle": "2025-02-08T20:11:43.103712Z",
     "shell.execute_reply": "2025-02-08T20:11:43.102430Z"
    },
    "papermill": {
     "duration": 0.017157,
     "end_time": "2025-02-08T20:11:43.105585",
     "exception": false,
     "start_time": "2025-02-08T20:11:43.088428",
     "status": "completed"
    },
    "tags": []
   },
   "outputs": [],
   "source": [
    "# Estou usando essa linha para não precisar específicar a grid posteriormente\n",
    "sns.set_style(\"whitegrid\")"
   ]
  },
  {
   "cell_type": "markdown",
   "id": "c68c8813",
   "metadata": {
    "papermill": {
     "duration": 0.009422,
     "end_time": "2025-02-08T20:11:43.124765",
     "exception": false,
     "start_time": "2025-02-08T20:11:43.115343",
     "status": "completed"
    },
    "tags": []
   },
   "source": [
    "# Branch"
   ]
  },
  {
   "cell_type": "code",
   "execution_count": 8,
   "id": "198d31e1",
   "metadata": {
    "execution": {
     "iopub.execute_input": "2025-02-08T20:11:43.147356Z",
     "iopub.status.busy": "2025-02-08T20:11:43.146830Z",
     "iopub.status.idle": "2025-02-08T20:11:43.610189Z",
     "shell.execute_reply": "2025-02-08T20:11:43.608854Z"
    },
    "papermill": {
     "duration": 0.478063,
     "end_time": "2025-02-08T20:11:43.612220",
     "exception": false,
     "start_time": "2025-02-08T20:11:43.134157",
     "status": "completed"
    },
    "tags": []
   },
   "outputs": [
    {
     "data": {
      "image/png": "[encoded data removed]",
      "text/plain": [
       "<Figure size 2000x1000 with 1 Axes>"
      ]
     },
     "metadata": {},
     "output_type": "display_data"
    }
   ],
   "source": [
    "plt.figure(figsize=(20, 10))\n",
    "sns.histplot(df['Branch'], bins=30, kde=False, color='blue')\n",
    "plt.title('Distribuição das Marcas')\n",
    "plt.show()"
   ]
  },
  {
   "cell_type": "code",
   "execution_count": 9,
   "id": "98f36e4f",
   "metadata": {
    "execution": {
     "iopub.execute_input": "2025-02-08T20:11:43.633683Z",
     "iopub.status.busy": "2025-02-08T20:11:43.633331Z",
     "iopub.status.idle": "2025-02-08T20:11:43.643651Z",
     "shell.execute_reply": "2025-02-08T20:11:43.642731Z"
    },
    "papermill": {
     "duration": 0.023069,
     "end_time": "2025-02-08T20:11:43.645377",
     "exception": false,
     "start_time": "2025-02-08T20:11:43.622308",
     "status": "completed"
    },
    "tags": []
   },
   "outputs": [
    {
     "data": {
      "text/html": [
       "<div>\n",
       "<style scoped>\n",
       "    .dataframe tbody tr th:only-of-type {\n",
       "        vertical-align: middle;\n",
       "    }\n",
       "\n",
       "    .dataframe tbody tr th {\n",
       "        vertical-align: top;\n",
       "    }\n",
       "\n",
       "    .dataframe thead th {\n",
       "        text-align: right;\n",
       "    }\n",
       "</style>\n",
       "<table border=\"1\" class=\"dataframe\">\n",
       "  <thead>\n",
       "    <tr style=\"text-align: right;\">\n",
       "      <th></th>\n",
       "      <th>Branch</th>\n",
       "      <th>Frequencia</th>\n",
       "    </tr>\n",
       "  </thead>\n",
       "  <tbody>\n",
       "    <tr>\n",
       "      <th>0</th>\n",
       "      <td>A</td>\n",
       "      <td>340</td>\n",
       "    </tr>\n",
       "    <tr>\n",
       "      <th>1</th>\n",
       "      <td>B</td>\n",
       "      <td>332</td>\n",
       "    </tr>\n",
       "    <tr>\n",
       "      <th>2</th>\n",
       "      <td>C</td>\n",
       "      <td>328</td>\n",
       "    </tr>\n",
       "  </tbody>\n",
       "</table>\n",
       "</div>"
      ],
      "text/plain": [
       "  Branch  Frequencia\n",
       "0      A         340\n",
       "1      B         332\n",
       "2      C         328"
      ]
     },
     "execution_count": 9,
     "metadata": {},
     "output_type": "execute_result"
    }
   ],
   "source": [
    "qtd = df['Branch'].value_counts().reset_index(name='Frequencia')\n",
    "qtd.columns = ['Branch', 'Frequencia']\n",
    "qtd"
   ]
  },
  {
   "cell_type": "markdown",
   "id": "1c345608",
   "metadata": {
    "papermill": {
     "duration": 0.009896,
     "end_time": "2025-02-08T20:11:43.666011",
     "exception": false,
     "start_time": "2025-02-08T20:11:43.656115",
     "status": "completed"
    },
    "tags": []
   },
   "source": [
    "# City"
   ]
  },
  {
   "cell_type": "code",
   "execution_count": 10,
   "id": "de723149",
   "metadata": {
    "execution": {
     "iopub.execute_input": "2025-02-08T20:11:43.688064Z",
     "iopub.status.busy": "2025-02-08T20:11:43.687611Z",
     "iopub.status.idle": "2025-02-08T20:11:43.998345Z",
     "shell.execute_reply": "2025-02-08T20:11:43.997026Z"
    },
    "papermill": {
     "duration": 0.323975,
     "end_time": "2025-02-08T20:11:44.000502",
     "exception": false,
     "start_time": "2025-02-08T20:11:43.676527",
     "status": "completed"
    },
    "tags": []
   },
   "outputs": [
    {
     "data": {
      "image/png": "[encoded data removed]",
      "text/plain": [
       "<Figure size 2000x1000 with 1 Axes>"
      ]
     },
     "metadata": {},
     "output_type": "display_data"
    }
   ],
   "source": [
    "plt.figure(figsize=(20, 10))\n",
    "sns.histplot(df['City'], bins=30, kde=False, color='blue')\n",
    "plt.title('Distribuição das Cidades')\n",
    "plt.show()"
   ]
  },
  {
   "cell_type": "code",
   "execution_count": 11,
   "id": "dabee33c",
   "metadata": {
    "execution": {
     "iopub.execute_input": "2025-02-08T20:11:44.023628Z",
     "iopub.status.busy": "2025-02-08T20:11:44.023277Z",
     "iopub.status.idle": "2025-02-08T20:11:44.034960Z",
     "shell.execute_reply": "2025-02-08T20:11:44.033813Z"
    },
    "papermill": {
     "duration": 0.025689,
     "end_time": "2025-02-08T20:11:44.037235",
     "exception": false,
     "start_time": "2025-02-08T20:11:44.011546",
     "status": "completed"
    },
    "tags": []
   },
   "outputs": [
    {
     "data": {
      "text/html": [
       "<div>\n",
       "<style scoped>\n",
       "    .dataframe tbody tr th:only-of-type {\n",
       "        vertical-align: middle;\n",
       "    }\n",
       "\n",
       "    .dataframe tbody tr th {\n",
       "        vertical-align: top;\n",
       "    }\n",
       "\n",
       "    .dataframe thead th {\n",
       "        text-align: right;\n",
       "    }\n",
       "</style>\n",
       "<table border=\"1\" class=\"dataframe\">\n",
       "  <thead>\n",
       "    <tr style=\"text-align: right;\">\n",
       "      <th></th>\n",
       "      <th>City</th>\n",
       "      <th>Frequencia</th>\n",
       "    </tr>\n",
       "  </thead>\n",
       "  <tbody>\n",
       "    <tr>\n",
       "      <th>0</th>\n",
       "      <td>Yangon</td>\n",
       "      <td>340</td>\n",
       "    </tr>\n",
       "    <tr>\n",
       "      <th>1</th>\n",
       "      <td>Mandalay</td>\n",
       "      <td>332</td>\n",
       "    </tr>\n",
       "    <tr>\n",
       "      <th>2</th>\n",
       "      <td>Naypyitaw</td>\n",
       "      <td>328</td>\n",
       "    </tr>\n",
       "  </tbody>\n",
       "</table>\n",
       "</div>"
      ],
      "text/plain": [
       "        City  Frequencia\n",
       "0     Yangon         340\n",
       "1   Mandalay         332\n",
       "2  Naypyitaw         328"
      ]
     },
     "execution_count": 11,
     "metadata": {},
     "output_type": "execute_result"
    }
   ],
   "source": [
    "qtd = df['City'].value_counts().reset_index(name='Frequencia')\n",
    "qtd.columns = ['City', 'Frequencia']\n",
    "qtd"
   ]
  },
  {
   "cell_type": "markdown",
   "id": "08cdfbff",
   "metadata": {
    "papermill": {
     "duration": 0.011692,
     "end_time": "2025-02-08T20:11:44.060321",
     "exception": false,
     "start_time": "2025-02-08T20:11:44.048629",
     "status": "completed"
    },
    "tags": []
   },
   "source": [
    "# Customer type"
   ]
  },
  {
   "cell_type": "code",
   "execution_count": 12,
   "id": "5016fa4e",
   "metadata": {
    "execution": {
     "iopub.execute_input": "2025-02-08T20:11:44.083579Z",
     "iopub.status.busy": "2025-02-08T20:11:44.083248Z",
     "iopub.status.idle": "2025-02-08T20:11:44.349743Z",
     "shell.execute_reply": "2025-02-08T20:11:44.348441Z"
    },
    "papermill": {
     "duration": 0.280414,
     "end_time": "2025-02-08T20:11:44.351720",
     "exception": false,
     "start_time": "2025-02-08T20:11:44.071306",
     "status": "completed"
    },
    "tags": []
   },
   "outputs": [
    {
     "data": {
      "image/png": "[encoded data removed]",
      "text/plain": [
       "<Figure size 2000x1000 with 1 Axes>"
      ]
     },
     "metadata": {},
     "output_type": "display_data"
    }
   ],
   "source": [
    "plt.figure(figsize=(20, 10))\n",
    "sns.histplot(df['Customer type'], bins=30, kde=False, color='blue')\n",
    "plt.title('Distribuição do tipo de consumidor')\n",
    "plt.show()"
   ]
  },
  {
   "cell_type": "code",
   "execution_count": 13,
   "id": "f3166c65",
   "metadata": {
    "execution": {
     "iopub.execute_input": "2025-02-08T20:11:44.376863Z",
     "iopub.status.busy": "2025-02-08T20:11:44.376464Z",
     "iopub.status.idle": "2025-02-08T20:11:44.386923Z",
     "shell.execute_reply": "2025-02-08T20:11:44.386012Z"
    },
    "papermill": {
     "duration": 0.024537,
     "end_time": "2025-02-08T20:11:44.388545",
     "exception": false,
     "start_time": "2025-02-08T20:11:44.364008",
     "status": "completed"
    },
    "tags": []
   },
   "outputs": [
    {
     "data": {
      "text/html": [
       "<div>\n",
       "<style scoped>\n",
       "    .dataframe tbody tr th:only-of-type {\n",
       "        vertical-align: middle;\n",
       "    }\n",
       "\n",
       "    .dataframe tbody tr th {\n",
       "        vertical-align: top;\n",
       "    }\n",
       "\n",
       "    .dataframe thead th {\n",
       "        text-align: right;\n",
       "    }\n",
       "</style>\n",
       "<table border=\"1\" class=\"dataframe\">\n",
       "  <thead>\n",
       "    <tr style=\"text-align: right;\">\n",
       "      <th></th>\n",
       "      <th>Customer type</th>\n",
       "      <th>Frequencia</th>\n",
       "    </tr>\n",
       "  </thead>\n",
       "  <tbody>\n",
       "    <tr>\n",
       "      <th>0</th>\n",
       "      <td>Member</td>\n",
       "      <td>501</td>\n",
       "    </tr>\n",
       "    <tr>\n",
       "      <th>1</th>\n",
       "      <td>Normal</td>\n",
       "      <td>499</td>\n",
       "    </tr>\n",
       "  </tbody>\n",
       "</table>\n",
       "</div>"
      ],
      "text/plain": [
       "  Customer type  Frequencia\n",
       "0        Member         501\n",
       "1        Normal         499"
      ]
     },
     "execution_count": 13,
     "metadata": {},
     "output_type": "execute_result"
    }
   ],
   "source": [
    "qtd = df['Customer type'].value_counts().reset_index(name='Frequencia')\n",
    "qtd.columns = ['Customer type', 'Frequencia']\n",
    "qtd"
   ]
  },
  {
   "cell_type": "markdown",
   "id": "9fe7e58e",
   "metadata": {
    "papermill": {
     "duration": 0.012207,
     "end_time": "2025-02-08T20:11:44.412974",
     "exception": false,
     "start_time": "2025-02-08T20:11:44.400767",
     "status": "completed"
    },
    "tags": []
   },
   "source": [
    "# Gender"
   ]
  },
  {
   "cell_type": "code",
   "execution_count": 14,
   "id": "49fcc83a",
   "metadata": {
    "execution": {
     "iopub.execute_input": "2025-02-08T20:11:44.437869Z",
     "iopub.status.busy": "2025-02-08T20:11:44.437401Z",
     "iopub.status.idle": "2025-02-08T20:11:44.698477Z",
     "shell.execute_reply": "2025-02-08T20:11:44.697331Z"
    },
    "papermill": {
     "duration": 0.275875,
     "end_time": "2025-02-08T20:11:44.700626",
     "exception": false,
     "start_time": "2025-02-08T20:11:44.424751",
     "status": "completed"
    },
    "tags": []
   },
   "outputs": [
    {
     "data": {
      "image/png": "[encoded data removed]",
      "text/plain": [
       "<Figure size 2000x1000 with 1 Axes>"
      ]
     },
     "metadata": {},
     "output_type": "display_data"
    }
   ],
   "source": [
    "plt.figure(figsize=(20, 10))\n",
    "sns.histplot(df['Gender'], bins=30, kde=False, color='blue')\n",
    "plt.title('Distribuição dos generos')\n",
    "plt.show()"
   ]
  },
  {
   "cell_type": "code",
   "execution_count": 15,
   "id": "5e8ac452",
   "metadata": {
    "execution": {
     "iopub.execute_input": "2025-02-08T20:11:44.727737Z",
     "iopub.status.busy": "2025-02-08T20:11:44.727355Z",
     "iopub.status.idle": "2025-02-08T20:11:44.739168Z",
     "shell.execute_reply": "2025-02-08T20:11:44.737916Z"
    },
    "papermill": {
     "duration": 0.028035,
     "end_time": "2025-02-08T20:11:44.741447",
     "exception": false,
     "start_time": "2025-02-08T20:11:44.713412",
     "status": "completed"
    },
    "tags": []
   },
   "outputs": [
    {
     "data": {
      "text/html": [
       "<div>\n",
       "<style scoped>\n",
       "    .dataframe tbody tr th:only-of-type {\n",
       "        vertical-align: middle;\n",
       "    }\n",
       "\n",
       "    .dataframe tbody tr th {\n",
       "        vertical-align: top;\n",
       "    }\n",
       "\n",
       "    .dataframe thead th {\n",
       "        text-align: right;\n",
       "    }\n",
       "</style>\n",
       "<table border=\"1\" class=\"dataframe\">\n",
       "  <thead>\n",
       "    <tr style=\"text-align: right;\">\n",
       "      <th></th>\n",
       "      <th>Gender</th>\n",
       "      <th>Frequencia</th>\n",
       "    </tr>\n",
       "  </thead>\n",
       "  <tbody>\n",
       "    <tr>\n",
       "      <th>0</th>\n",
       "      <td>Female</td>\n",
       "      <td>501</td>\n",
       "    </tr>\n",
       "    <tr>\n",
       "      <th>1</th>\n",
       "      <td>Male</td>\n",
       "      <td>499</td>\n",
       "    </tr>\n",
       "  </tbody>\n",
       "</table>\n",
       "</div>"
      ],
      "text/plain": [
       "   Gender  Frequencia\n",
       "0  Female         501\n",
       "1    Male         499"
      ]
     },
     "execution_count": 15,
     "metadata": {},
     "output_type": "execute_result"
    }
   ],
   "source": [
    "qtd = df['Gender'].value_counts().reset_index(name='Frequencia')\n",
    "qtd.columns = ['Gender', 'Frequencia']\n",
    "qtd"
   ]
  },
  {
   "cell_type": "markdown",
   "id": "4be1d913",
   "metadata": {
    "papermill": {
     "duration": 0.01243,
     "end_time": "2025-02-08T20:11:44.766936",
     "exception": false,
     "start_time": "2025-02-08T20:11:44.754506",
     "status": "completed"
    },
    "tags": []
   },
   "source": [
    "# Product line "
   ]
  },
  {
   "cell_type": "code",
   "execution_count": 16,
   "id": "84dfe56e",
   "metadata": {
    "execution": {
     "iopub.execute_input": "2025-02-08T20:11:44.793524Z",
     "iopub.status.busy": "2025-02-08T20:11:44.793177Z",
     "iopub.status.idle": "2025-02-08T20:11:45.118769Z",
     "shell.execute_reply": "2025-02-08T20:11:45.117503Z"
    },
    "papermill": {
     "duration": 0.340952,
     "end_time": "2025-02-08T20:11:45.120506",
     "exception": false,
     "start_time": "2025-02-08T20:11:44.779554",
     "status": "completed"
    },
    "tags": []
   },
   "outputs": [
    {
     "data": {
      "image/png": "[encoded data removed]",
      "text/plain": [
       "<Figure size 2000x1000 with 1 Axes>"
      ]
     },
     "metadata": {},
     "output_type": "display_data"
    }
   ],
   "source": [
    "plt.figure(figsize=(20, 10))\n",
    "sns.histplot(df['Product line'], bins=30, kde=False, color='blue')\n",
    "plt.title('Distribuição das linhas de produto')\n",
    "plt.show()"
   ]
  },
  {
   "cell_type": "code",
   "execution_count": 17,
   "id": "96769967",
   "metadata": {
    "execution": {
     "iopub.execute_input": "2025-02-08T20:11:45.148121Z",
     "iopub.status.busy": "2025-02-08T20:11:45.147744Z",
     "iopub.status.idle": "2025-02-08T20:11:45.158459Z",
     "shell.execute_reply": "2025-02-08T20:11:45.157469Z"
    },
    "papermill": {
     "duration": 0.026378,
     "end_time": "2025-02-08T20:11:45.160162",
     "exception": false,
     "start_time": "2025-02-08T20:11:45.133784",
     "status": "completed"
    },
    "tags": []
   },
   "outputs": [
    {
     "data": {
      "text/html": [
       "<div>\n",
       "<style scoped>\n",
       "    .dataframe tbody tr th:only-of-type {\n",
       "        vertical-align: middle;\n",
       "    }\n",
       "\n",
       "    .dataframe tbody tr th {\n",
       "        vertical-align: top;\n",
       "    }\n",
       "\n",
       "    .dataframe thead th {\n",
       "        text-align: right;\n",
       "    }\n",
       "</style>\n",
       "<table border=\"1\" class=\"dataframe\">\n",
       "  <thead>\n",
       "    <tr style=\"text-align: right;\">\n",
       "      <th></th>\n",
       "      <th>Product line</th>\n",
       "      <th>Frequencia</th>\n",
       "    </tr>\n",
       "  </thead>\n",
       "  <tbody>\n",
       "    <tr>\n",
       "      <th>0</th>\n",
       "      <td>Fashion accessories</td>\n",
       "      <td>178</td>\n",
       "    </tr>\n",
       "    <tr>\n",
       "      <th>1</th>\n",
       "      <td>Food and beverages</td>\n",
       "      <td>174</td>\n",
       "    </tr>\n",
       "    <tr>\n",
       "      <th>2</th>\n",
       "      <td>Electronic accessories</td>\n",
       "      <td>170</td>\n",
       "    </tr>\n",
       "    <tr>\n",
       "      <th>3</th>\n",
       "      <td>Sports and travel</td>\n",
       "      <td>166</td>\n",
       "    </tr>\n",
       "    <tr>\n",
       "      <th>4</th>\n",
       "      <td>Home and lifestyle</td>\n",
       "      <td>160</td>\n",
       "    </tr>\n",
       "    <tr>\n",
       "      <th>5</th>\n",
       "      <td>Health and beauty</td>\n",
       "      <td>152</td>\n",
       "    </tr>\n",
       "  </tbody>\n",
       "</table>\n",
       "</div>"
      ],
      "text/plain": [
       "             Product line  Frequencia\n",
       "0     Fashion accessories         178\n",
       "1      Food and beverages         174\n",
       "2  Electronic accessories         170\n",
       "3       Sports and travel         166\n",
       "4      Home and lifestyle         160\n",
       "5       Health and beauty         152"
      ]
     },
     "execution_count": 17,
     "metadata": {},
     "output_type": "execute_result"
    }
   ],
   "source": [
    "qtd = df['Product line'].value_counts().reset_index(name='Frequencia')\n",
    "qtd.columns = ['Product line', 'Frequencia']\n",
    "qtd"
   ]
  },
  {
   "cell_type": "markdown",
   "id": "f3f4f18c",
   "metadata": {
    "papermill": {
     "duration": 0.014502,
     "end_time": "2025-02-08T20:11:45.188071",
     "exception": false,
     "start_time": "2025-02-08T20:11:45.173569",
     "status": "completed"
    },
    "tags": []
   },
   "source": [
    "# Unit price "
   ]
  },
  {
   "cell_type": "code",
   "execution_count": 18,
   "id": "5e1b412d",
   "metadata": {
    "execution": {
     "iopub.execute_input": "2025-02-08T20:11:45.215680Z",
     "iopub.status.busy": "2025-02-08T20:11:45.215318Z",
     "iopub.status.idle": "2025-02-08T20:11:45.584783Z",
     "shell.execute_reply": "2025-02-08T20:11:45.583249Z"
    },
    "papermill": {
     "duration": 0.385391,
     "end_time": "2025-02-08T20:11:45.586763",
     "exception": false,
     "start_time": "2025-02-08T20:11:45.201372",
     "status": "completed"
    },
    "tags": []
   },
   "outputs": [
    {
     "data": {
      "image/png": "[encoded data removed]",
      "text/plain": [
       "<Figure size 2000x1000 with 1 Axes>"
      ]
     },
     "metadata": {},
     "output_type": "display_data"
    }
   ],
   "source": [
    "plt.figure(figsize=(20, 10))\n",
    "sns.histplot(df['Unit price'], bins=30, kde=False, color='blue')\n",
    "plt.title('Distribuição do preço das unidades')\n",
    "plt.show()"
   ]
  },
  {
   "cell_type": "code",
   "execution_count": 19,
   "id": "cd192bca",
   "metadata": {
    "execution": {
     "iopub.execute_input": "2025-02-08T20:11:45.616305Z",
     "iopub.status.busy": "2025-02-08T20:11:45.615908Z",
     "iopub.status.idle": "2025-02-08T20:11:45.632059Z",
     "shell.execute_reply": "2025-02-08T20:11:45.630892Z"
    },
    "papermill": {
     "duration": 0.03298,
     "end_time": "2025-02-08T20:11:45.633859",
     "exception": false,
     "start_time": "2025-02-08T20:11:45.600879",
     "status": "completed"
    },
    "tags": []
   },
   "outputs": [
    {
     "data": {
      "text/html": [
       "<div>\n",
       "<style scoped>\n",
       "    .dataframe tbody tr th:only-of-type {\n",
       "        vertical-align: middle;\n",
       "    }\n",
       "\n",
       "    .dataframe tbody tr th {\n",
       "        vertical-align: top;\n",
       "    }\n",
       "\n",
       "    .dataframe thead th {\n",
       "        text-align: right;\n",
       "    }\n",
       "</style>\n",
       "<table border=\"1\" class=\"dataframe\">\n",
       "  <thead>\n",
       "    <tr style=\"text-align: right;\">\n",
       "      <th></th>\n",
       "      <th>Unit price</th>\n",
       "      <th>Frequencia</th>\n",
       "    </tr>\n",
       "  </thead>\n",
       "  <tbody>\n",
       "    <tr>\n",
       "      <th>0</th>\n",
       "      <td>83.77</td>\n",
       "      <td>3</td>\n",
       "    </tr>\n",
       "    <tr>\n",
       "      <th>1</th>\n",
       "      <td>39.62</td>\n",
       "      <td>2</td>\n",
       "    </tr>\n",
       "    <tr>\n",
       "      <th>2</th>\n",
       "      <td>24.74</td>\n",
       "      <td>2</td>\n",
       "    </tr>\n",
       "    <tr>\n",
       "      <th>3</th>\n",
       "      <td>19.15</td>\n",
       "      <td>2</td>\n",
       "    </tr>\n",
       "    <tr>\n",
       "      <th>4</th>\n",
       "      <td>73.47</td>\n",
       "      <td>2</td>\n",
       "    </tr>\n",
       "    <tr>\n",
       "      <th>...</th>\n",
       "      <td>...</td>\n",
       "      <td>...</td>\n",
       "    </tr>\n",
       "    <tr>\n",
       "      <th>938</th>\n",
       "      <td>57.95</td>\n",
       "      <td>1</td>\n",
       "    </tr>\n",
       "    <tr>\n",
       "      <th>939</th>\n",
       "      <td>47.65</td>\n",
       "      <td>1</td>\n",
       "    </tr>\n",
       "    <tr>\n",
       "      <th>940</th>\n",
       "      <td>42.82</td>\n",
       "      <td>1</td>\n",
       "    </tr>\n",
       "    <tr>\n",
       "      <th>941</th>\n",
       "      <td>48.09</td>\n",
       "      <td>1</td>\n",
       "    </tr>\n",
       "    <tr>\n",
       "      <th>942</th>\n",
       "      <td>88.34</td>\n",
       "      <td>1</td>\n",
       "    </tr>\n",
       "  </tbody>\n",
       "</table>\n",
       "<p>943 rows × 2 columns</p>\n",
       "</div>"
      ],
      "text/plain": [
       "     Unit price  Frequencia\n",
       "0         83.77           3\n",
       "1         39.62           2\n",
       "2         24.74           2\n",
       "3         19.15           2\n",
       "4         73.47           2\n",
       "..          ...         ...\n",
       "938       57.95           1\n",
       "939       47.65           1\n",
       "940       42.82           1\n",
       "941       48.09           1\n",
       "942       88.34           1\n",
       "\n",
       "[943 rows x 2 columns]"
      ]
     },
     "execution_count": 19,
     "metadata": {},
     "output_type": "execute_result"
    }
   ],
   "source": [
    "qtd = df['Unit price'].value_counts().reset_index(name='Frequencia')\n",
    "qtd.columns = ['Unit price', 'Frequencia']\n",
    "qtd"
   ]
  },
  {
   "cell_type": "markdown",
   "id": "14b2e2fa",
   "metadata": {
    "papermill": {
     "duration": 0.013505,
     "end_time": "2025-02-08T20:11:45.661956",
     "exception": false,
     "start_time": "2025-02-08T20:11:45.648451",
     "status": "completed"
    },
    "tags": []
   },
   "source": [
    "# Payment"
   ]
  },
  {
   "cell_type": "code",
   "execution_count": 20,
   "id": "e7b7ecea",
   "metadata": {
    "execution": {
     "iopub.execute_input": "2025-02-08T20:11:45.691190Z",
     "iopub.status.busy": "2025-02-08T20:11:45.690758Z",
     "iopub.status.idle": "2025-02-08T20:11:45.980393Z",
     "shell.execute_reply": "2025-02-08T20:11:45.979273Z"
    },
    "papermill": {
     "duration": 0.306363,
     "end_time": "2025-02-08T20:11:45.982287",
     "exception": false,
     "start_time": "2025-02-08T20:11:45.675924",
     "status": "completed"
    },
    "tags": []
   },
   "outputs": [
    {
     "data": {
      "image/png": "[encoded data removed]",
      "text/plain": [
       "<Figure size 2000x1000 with 1 Axes>"
      ]
     },
     "metadata": {},
     "output_type": "display_data"
    }
   ],
   "source": [
    "plt.figure(figsize=(20, 10))\n",
    "sns.histplot(df['Payment'], bins=30, kde=False, color='blue')\n",
    "plt.title('Distribuição das formas de pagamento')\n",
    "plt.show()"
   ]
  },
  {
   "cell_type": "code",
   "execution_count": 21,
   "id": "b06945f1",
   "metadata": {
    "execution": {
     "iopub.execute_input": "2025-02-08T20:11:46.013240Z",
     "iopub.status.busy": "2025-02-08T20:11:46.012884Z",
     "iopub.status.idle": "2025-02-08T20:11:46.023752Z",
     "shell.execute_reply": "2025-02-08T20:11:46.022588Z"
    },
    "papermill": {
     "duration": 0.028394,
     "end_time": "2025-02-08T20:11:46.025564",
     "exception": false,
     "start_time": "2025-02-08T20:11:45.997170",
     "status": "completed"
    },
    "tags": []
   },
   "outputs": [
    {
     "data": {
      "text/html": [
       "<div>\n",
       "<style scoped>\n",
       "    .dataframe tbody tr th:only-of-type {\n",
       "        vertical-align: middle;\n",
       "    }\n",
       "\n",
       "    .dataframe tbody tr th {\n",
       "        vertical-align: top;\n",
       "    }\n",
       "\n",
       "    .dataframe thead th {\n",
       "        text-align: right;\n",
       "    }\n",
       "</style>\n",
       "<table border=\"1\" class=\"dataframe\">\n",
       "  <thead>\n",
       "    <tr style=\"text-align: right;\">\n",
       "      <th></th>\n",
       "      <th>Payment</th>\n",
       "      <th>Frequencia</th>\n",
       "    </tr>\n",
       "  </thead>\n",
       "  <tbody>\n",
       "    <tr>\n",
       "      <th>0</th>\n",
       "      <td>Ewallet</td>\n",
       "      <td>345</td>\n",
       "    </tr>\n",
       "    <tr>\n",
       "      <th>1</th>\n",
       "      <td>Cash</td>\n",
       "      <td>344</td>\n",
       "    </tr>\n",
       "    <tr>\n",
       "      <th>2</th>\n",
       "      <td>Credit card</td>\n",
       "      <td>311</td>\n",
       "    </tr>\n",
       "  </tbody>\n",
       "</table>\n",
       "</div>"
      ],
      "text/plain": [
       "       Payment  Frequencia\n",
       "0      Ewallet         345\n",
       "1         Cash         344\n",
       "2  Credit card         311"
      ]
     },
     "execution_count": 21,
     "metadata": {},
     "output_type": "execute_result"
    }
   ],
   "source": [
    "qtd = df['Payment'].value_counts().reset_index(name='Frequencia')\n",
    "qtd.columns = ['Payment', 'Frequencia']\n",
    "qtd"
   ]
  },
  {
   "cell_type": "markdown",
   "id": "e3376770",
   "metadata": {
    "papermill": {
     "duration": 0.014698,
     "end_time": "2025-02-08T20:11:46.054978",
     "exception": false,
     "start_time": "2025-02-08T20:11:46.040280",
     "status": "completed"
    },
    "tags": []
   },
   "source": [
    "# Rating"
   ]
  },
  {
   "cell_type": "code",
   "execution_count": 22,
   "id": "100a9d35",
   "metadata": {
    "execution": {
     "iopub.execute_input": "2025-02-08T20:11:46.086132Z",
     "iopub.status.busy": "2025-02-08T20:11:46.085666Z",
     "iopub.status.idle": "2025-02-08T20:11:46.572093Z",
     "shell.execute_reply": "2025-02-08T20:11:46.570812Z"
    },
    "papermill": {
     "duration": 0.504166,
     "end_time": "2025-02-08T20:11:46.573989",
     "exception": false,
     "start_time": "2025-02-08T20:11:46.069823",
     "status": "completed"
    },
    "tags": []
   },
   "outputs": [
    {
     "data": {
      "image/png": "[encoded data removed]",
      "text/plain": [
       "<Figure size 2000x1000 with 1 Axes>"
      ]
     },
     "metadata": {},
     "output_type": "display_data"
    }
   ],
   "source": [
    "plt.figure(figsize=(20, 10))\n",
    "sns.histplot(df['Rating'], bins=30, kde=False, color='blue')\n",
    "plt.title('Distribuição das avaliações dos clientes')\n",
    "plt.show()"
   ]
  },
  {
   "cell_type": "code",
   "execution_count": 23,
   "id": "b1d72538",
   "metadata": {
    "execution": {
     "iopub.execute_input": "2025-02-08T20:11:46.607850Z",
     "iopub.status.busy": "2025-02-08T20:11:46.607416Z",
     "iopub.status.idle": "2025-02-08T20:11:46.621084Z",
     "shell.execute_reply": "2025-02-08T20:11:46.619934Z"
    },
    "papermill": {
     "duration": 0.033211,
     "end_time": "2025-02-08T20:11:46.622792",
     "exception": false,
     "start_time": "2025-02-08T20:11:46.589581",
     "status": "completed"
    },
    "tags": []
   },
   "outputs": [
    {
     "data": {
      "text/html": [
       "<div>\n",
       "<style scoped>\n",
       "    .dataframe tbody tr th:only-of-type {\n",
       "        vertical-align: middle;\n",
       "    }\n",
       "\n",
       "    .dataframe tbody tr th {\n",
       "        vertical-align: top;\n",
       "    }\n",
       "\n",
       "    .dataframe thead th {\n",
       "        text-align: right;\n",
       "    }\n",
       "</style>\n",
       "<table border=\"1\" class=\"dataframe\">\n",
       "  <thead>\n",
       "    <tr style=\"text-align: right;\">\n",
       "      <th></th>\n",
       "      <th>Rating</th>\n",
       "      <th>Frequencia</th>\n",
       "    </tr>\n",
       "  </thead>\n",
       "  <tbody>\n",
       "    <tr>\n",
       "      <th>0</th>\n",
       "      <td>6.0</td>\n",
       "      <td>26</td>\n",
       "    </tr>\n",
       "    <tr>\n",
       "      <th>1</th>\n",
       "      <td>6.6</td>\n",
       "      <td>24</td>\n",
       "    </tr>\n",
       "    <tr>\n",
       "      <th>2</th>\n",
       "      <td>4.2</td>\n",
       "      <td>22</td>\n",
       "    </tr>\n",
       "    <tr>\n",
       "      <th>3</th>\n",
       "      <td>9.5</td>\n",
       "      <td>22</td>\n",
       "    </tr>\n",
       "    <tr>\n",
       "      <th>4</th>\n",
       "      <td>6.5</td>\n",
       "      <td>21</td>\n",
       "    </tr>\n",
       "    <tr>\n",
       "      <th>...</th>\n",
       "      <td>...</td>\n",
       "      <td>...</td>\n",
       "    </tr>\n",
       "    <tr>\n",
       "      <th>56</th>\n",
       "      <td>4.0</td>\n",
       "      <td>11</td>\n",
       "    </tr>\n",
       "    <tr>\n",
       "      <th>57</th>\n",
       "      <td>5.3</td>\n",
       "      <td>11</td>\n",
       "    </tr>\n",
       "    <tr>\n",
       "      <th>58</th>\n",
       "      <td>8.3</td>\n",
       "      <td>11</td>\n",
       "    </tr>\n",
       "    <tr>\n",
       "      <th>59</th>\n",
       "      <td>4.6</td>\n",
       "      <td>8</td>\n",
       "    </tr>\n",
       "    <tr>\n",
       "      <th>60</th>\n",
       "      <td>10.0</td>\n",
       "      <td>5</td>\n",
       "    </tr>\n",
       "  </tbody>\n",
       "</table>\n",
       "<p>61 rows × 2 columns</p>\n",
       "</div>"
      ],
      "text/plain": [
       "    Rating  Frequencia\n",
       "0      6.0          26\n",
       "1      6.6          24\n",
       "2      4.2          22\n",
       "3      9.5          22\n",
       "4      6.5          21\n",
       "..     ...         ...\n",
       "56     4.0          11\n",
       "57     5.3          11\n",
       "58     8.3          11\n",
       "59     4.6           8\n",
       "60    10.0           5\n",
       "\n",
       "[61 rows x 2 columns]"
      ]
     },
     "execution_count": 23,
     "metadata": {},
     "output_type": "execute_result"
    }
   ],
   "source": [
    "qtd = df['Rating'].value_counts().reset_index(name='Frequencia')\n",
    "qtd.columns = ['Rating', 'Frequencia']\n",
    "qtd"
   ]
  },
  {
   "cell_type": "markdown",
   "id": "38718876",
   "metadata": {
    "papermill": {
     "duration": 0.015093,
     "end_time": "2025-02-08T20:11:46.653444",
     "exception": false,
     "start_time": "2025-02-08T20:11:46.638351",
     "status": "completed"
    },
    "tags": []
   },
   "source": [
    "# Verificando possíveis relações:"
   ]
  },
  {
   "cell_type": "markdown",
   "id": "92aa3478",
   "metadata": {
    "papermill": {
     "duration": 0.01612,
     "end_time": "2025-02-08T20:11:46.686067",
     "exception": false,
     "start_time": "2025-02-08T20:11:46.669947",
     "status": "completed"
    },
    "tags": []
   },
   "source": [
    "# Relações envolvendo Branch"
   ]
  },
  {
   "cell_type": "code",
   "execution_count": 24,
   "id": "b69ffca9",
   "metadata": {
    "execution": {
     "iopub.execute_input": "2025-02-08T20:11:46.719669Z",
     "iopub.status.busy": "2025-02-08T20:11:46.719267Z",
     "iopub.status.idle": "2025-02-08T20:11:47.093324Z",
     "shell.execute_reply": "2025-02-08T20:11:47.092139Z"
    },
    "papermill": {
     "duration": 0.392581,
     "end_time": "2025-02-08T20:11:47.095292",
     "exception": false,
     "start_time": "2025-02-08T20:11:46.702711",
     "status": "completed"
    },
    "tags": []
   },
   "outputs": [
    {
     "data": {
      "image/png": "[encoded data removed]",
      "text/plain": [
       "<Figure size 2000x1000 with 1 Axes>"
      ]
     },
     "metadata": {},
     "output_type": "display_data"
    }
   ],
   "source": [
    "plt.figure(figsize=(20, 10))\n",
    "sns.countplot(x='City', hue='Branch', data=df, palette='Blues_d')\n",
    "plt.title('Relação entre as cidades e a marca de produtos')\n",
    "plt.xlabel('Marcas')\n",
    "plt.ylabel('Frequency')\n",
    "plt.grid(axis='y', color='black')"
   ]
  },
  {
   "cell_type": "code",
   "execution_count": 25,
   "id": "9970a325",
   "metadata": {
    "execution": {
     "iopub.execute_input": "2025-02-08T20:11:47.130411Z",
     "iopub.status.busy": "2025-02-08T20:11:47.130030Z",
     "iopub.status.idle": "2025-02-08T20:11:47.143347Z",
     "shell.execute_reply": "2025-02-08T20:11:47.142223Z"
    },
    "papermill": {
     "duration": 0.03251,
     "end_time": "2025-02-08T20:11:47.145188",
     "exception": false,
     "start_time": "2025-02-08T20:11:47.112678",
     "status": "completed"
    },
    "tags": []
   },
   "outputs": [
    {
     "data": {
      "text/html": [
       "<div>\n",
       "<style scoped>\n",
       "    .dataframe tbody tr th:only-of-type {\n",
       "        vertical-align: middle;\n",
       "    }\n",
       "\n",
       "    .dataframe tbody tr th {\n",
       "        vertical-align: top;\n",
       "    }\n",
       "\n",
       "    .dataframe thead th {\n",
       "        text-align: right;\n",
       "    }\n",
       "</style>\n",
       "<table border=\"1\" class=\"dataframe\">\n",
       "  <thead>\n",
       "    <tr style=\"text-align: right;\">\n",
       "      <th></th>\n",
       "      <th>Branch</th>\n",
       "      <th>City</th>\n",
       "      <th>Frequency</th>\n",
       "    </tr>\n",
       "  </thead>\n",
       "  <tbody>\n",
       "    <tr>\n",
       "      <th>0</th>\n",
       "      <td>A</td>\n",
       "      <td>Yangon</td>\n",
       "      <td>340</td>\n",
       "    </tr>\n",
       "    <tr>\n",
       "      <th>1</th>\n",
       "      <td>B</td>\n",
       "      <td>Mandalay</td>\n",
       "      <td>332</td>\n",
       "    </tr>\n",
       "    <tr>\n",
       "      <th>2</th>\n",
       "      <td>C</td>\n",
       "      <td>Naypyitaw</td>\n",
       "      <td>328</td>\n",
       "    </tr>\n",
       "  </tbody>\n",
       "</table>\n",
       "</div>"
      ],
      "text/plain": [
       "  Branch       City  Frequency\n",
       "0      A     Yangon        340\n",
       "1      B   Mandalay        332\n",
       "2      C  Naypyitaw        328"
      ]
     },
     "execution_count": 25,
     "metadata": {},
     "output_type": "execute_result"
    }
   ],
   "source": [
    "contagem = df.groupby(['Branch', 'City']).size().reset_index(name='Frequency')\n",
    "contagem"
   ]
  },
  {
   "cell_type": "code",
   "execution_count": 26,
   "id": "e1b4d00b",
   "metadata": {
    "execution": {
     "iopub.execute_input": "2025-02-08T20:11:47.242867Z",
     "iopub.status.busy": "2025-02-08T20:11:47.242429Z",
     "iopub.status.idle": "2025-02-08T20:11:47.609165Z",
     "shell.execute_reply": "2025-02-08T20:11:47.608015Z"
    },
    "papermill": {
     "duration": 0.387676,
     "end_time": "2025-02-08T20:11:47.611168",
     "exception": false,
     "start_time": "2025-02-08T20:11:47.223492",
     "status": "completed"
    },
    "tags": []
   },
   "outputs": [
    {
     "data": {
      "image/png": "[encoded data removed]",
      "text/plain": [
       "<Figure size 2000x1000 with 1 Axes>"
      ]
     },
     "metadata": {},
     "output_type": "display_data"
    }
   ],
   "source": [
    "plt.figure(figsize=(20, 10))\n",
    "sns.countplot(x='Branch', hue='Customer type', data=df, palette='Blues_d')\n",
    "plt.title('Relação entre as marcas e o tipo de consumidor')\n",
    "plt.xlabel('Marcas')\n",
    "plt.ylabel('Frequency')\n",
    "plt.grid(axis='y', color='black')"
   ]
  },
  {
   "cell_type": "code",
   "execution_count": 27,
   "id": "7fb3ae78",
   "metadata": {
    "execution": {
     "iopub.execute_input": "2025-02-08T20:11:47.648667Z",
     "iopub.status.busy": "2025-02-08T20:11:47.648277Z",
     "iopub.status.idle": "2025-02-08T20:11:47.661371Z",
     "shell.execute_reply": "2025-02-08T20:11:47.660217Z"
    },
    "papermill": {
     "duration": 0.034045,
     "end_time": "2025-02-08T20:11:47.663445",
     "exception": false,
     "start_time": "2025-02-08T20:11:47.629400",
     "status": "completed"
    },
    "tags": []
   },
   "outputs": [
    {
     "data": {
      "text/html": [
       "<div>\n",
       "<style scoped>\n",
       "    .dataframe tbody tr th:only-of-type {\n",
       "        vertical-align: middle;\n",
       "    }\n",
       "\n",
       "    .dataframe tbody tr th {\n",
       "        vertical-align: top;\n",
       "    }\n",
       "\n",
       "    .dataframe thead th {\n",
       "        text-align: right;\n",
       "    }\n",
       "</style>\n",
       "<table border=\"1\" class=\"dataframe\">\n",
       "  <thead>\n",
       "    <tr style=\"text-align: right;\">\n",
       "      <th></th>\n",
       "      <th>Branch</th>\n",
       "      <th>Customer type</th>\n",
       "      <th>Frequency</th>\n",
       "    </tr>\n",
       "  </thead>\n",
       "  <tbody>\n",
       "    <tr>\n",
       "      <th>0</th>\n",
       "      <td>A</td>\n",
       "      <td>Member</td>\n",
       "      <td>167</td>\n",
       "    </tr>\n",
       "    <tr>\n",
       "      <th>1</th>\n",
       "      <td>A</td>\n",
       "      <td>Normal</td>\n",
       "      <td>173</td>\n",
       "    </tr>\n",
       "    <tr>\n",
       "      <th>2</th>\n",
       "      <td>B</td>\n",
       "      <td>Member</td>\n",
       "      <td>165</td>\n",
       "    </tr>\n",
       "    <tr>\n",
       "      <th>3</th>\n",
       "      <td>B</td>\n",
       "      <td>Normal</td>\n",
       "      <td>167</td>\n",
       "    </tr>\n",
       "    <tr>\n",
       "      <th>4</th>\n",
       "      <td>C</td>\n",
       "      <td>Member</td>\n",
       "      <td>169</td>\n",
       "    </tr>\n",
       "    <tr>\n",
       "      <th>5</th>\n",
       "      <td>C</td>\n",
       "      <td>Normal</td>\n",
       "      <td>159</td>\n",
       "    </tr>\n",
       "  </tbody>\n",
       "</table>\n",
       "</div>"
      ],
      "text/plain": [
       "  Branch Customer type  Frequency\n",
       "0      A        Member        167\n",
       "1      A        Normal        173\n",
       "2      B        Member        165\n",
       "3      B        Normal        167\n",
       "4      C        Member        169\n",
       "5      C        Normal        159"
      ]
     },
     "execution_count": 27,
     "metadata": {},
     "output_type": "execute_result"
    }
   ],
   "source": [
    "contagem = df.groupby(['Branch', 'Customer type']).size().reset_index(name='Frequency')\n",
    "contagem"
   ]
  },
  {
   "cell_type": "code",
   "execution_count": 28,
   "id": "68c132dd",
   "metadata": {
    "execution": {
     "iopub.execute_input": "2025-02-08T20:11:47.700016Z",
     "iopub.status.busy": "2025-02-08T20:11:47.699503Z",
     "iopub.status.idle": "2025-02-08T20:11:48.067991Z",
     "shell.execute_reply": "2025-02-08T20:11:48.066832Z"
    },
    "papermill": {
     "duration": 0.388994,
     "end_time": "2025-02-08T20:11:48.069963",
     "exception": false,
     "start_time": "2025-02-08T20:11:47.680969",
     "status": "completed"
    },
    "tags": []
   },
   "outputs": [
    {
     "data": {
      "image/png": "[encoded data removed]",
      "text/plain": [
       "<Figure size 2000x1000 with 1 Axes>"
      ]
     },
     "metadata": {},
     "output_type": "display_data"
    }
   ],
   "source": [
    "plt.figure(figsize=(20, 10))\n",
    "sns.countplot(x='Branch', hue='Gender', data=df, palette='Blues_d')\n",
    "plt.title('Relação entre as marcas e os generos dos consumidores')\n",
    "plt.xlabel('Gender')\n",
    "plt.ylabel('Frequency')\n",
    "plt.grid(axis='y', color='black')"
   ]
  },
  {
   "cell_type": "code",
   "execution_count": 29,
   "id": "2110abec",
   "metadata": {
    "execution": {
     "iopub.execute_input": "2025-02-08T20:11:48.111171Z",
     "iopub.status.busy": "2025-02-08T20:11:48.110804Z",
     "iopub.status.idle": "2025-02-08T20:11:48.123065Z",
     "shell.execute_reply": "2025-02-08T20:11:48.122088Z"
    },
    "papermill": {
     "duration": 0.035603,
     "end_time": "2025-02-08T20:11:48.124655",
     "exception": false,
     "start_time": "2025-02-08T20:11:48.089052",
     "status": "completed"
    },
    "tags": []
   },
   "outputs": [
    {
     "data": {
      "text/html": [
       "<div>\n",
       "<style scoped>\n",
       "    .dataframe tbody tr th:only-of-type {\n",
       "        vertical-align: middle;\n",
       "    }\n",
       "\n",
       "    .dataframe tbody tr th {\n",
       "        vertical-align: top;\n",
       "    }\n",
       "\n",
       "    .dataframe thead th {\n",
       "        text-align: right;\n",
       "    }\n",
       "</style>\n",
       "<table border=\"1\" class=\"dataframe\">\n",
       "  <thead>\n",
       "    <tr style=\"text-align: right;\">\n",
       "      <th></th>\n",
       "      <th>Branch</th>\n",
       "      <th>Gender</th>\n",
       "      <th>Frequency</th>\n",
       "    </tr>\n",
       "  </thead>\n",
       "  <tbody>\n",
       "    <tr>\n",
       "      <th>0</th>\n",
       "      <td>A</td>\n",
       "      <td>Female</td>\n",
       "      <td>161</td>\n",
       "    </tr>\n",
       "    <tr>\n",
       "      <th>1</th>\n",
       "      <td>A</td>\n",
       "      <td>Male</td>\n",
       "      <td>179</td>\n",
       "    </tr>\n",
       "    <tr>\n",
       "      <th>2</th>\n",
       "      <td>B</td>\n",
       "      <td>Female</td>\n",
       "      <td>162</td>\n",
       "    </tr>\n",
       "    <tr>\n",
       "      <th>3</th>\n",
       "      <td>B</td>\n",
       "      <td>Male</td>\n",
       "      <td>170</td>\n",
       "    </tr>\n",
       "    <tr>\n",
       "      <th>4</th>\n",
       "      <td>C</td>\n",
       "      <td>Female</td>\n",
       "      <td>178</td>\n",
       "    </tr>\n",
       "    <tr>\n",
       "      <th>5</th>\n",
       "      <td>C</td>\n",
       "      <td>Male</td>\n",
       "      <td>150</td>\n",
       "    </tr>\n",
       "  </tbody>\n",
       "</table>\n",
       "</div>"
      ],
      "text/plain": [
       "  Branch  Gender  Frequency\n",
       "0      A  Female        161\n",
       "1      A    Male        179\n",
       "2      B  Female        162\n",
       "3      B    Male        170\n",
       "4      C  Female        178\n",
       "5      C    Male        150"
      ]
     },
     "execution_count": 29,
     "metadata": {},
     "output_type": "execute_result"
    }
   ],
   "source": [
    "contagem = df.groupby(['Branch', 'Gender']).size().reset_index(name='Frequency')\n",
    "contagem"
   ]
  },
  {
   "cell_type": "code",
   "execution_count": 30,
   "id": "b43e34ec",
   "metadata": {
    "execution": {
     "iopub.execute_input": "2025-02-08T20:11:48.162837Z",
     "iopub.status.busy": "2025-02-08T20:11:48.162405Z",
     "iopub.status.idle": "2025-02-08T20:11:48.605475Z",
     "shell.execute_reply": "2025-02-08T20:11:48.604318Z"
    },
    "papermill": {
     "duration": 0.464395,
     "end_time": "2025-02-08T20:11:48.607434",
     "exception": false,
     "start_time": "2025-02-08T20:11:48.143039",
     "status": "completed"
    },
    "tags": []
   },
   "outputs": [
    {
     "data": {
      "image/png": "[encoded data removed]",
      "text/plain": [
       "<Figure size 2000x1000 with 1 Axes>"
      ]
     },
     "metadata": {},
     "output_type": "display_data"
    }
   ],
   "source": [
    "plt.figure(figsize=(20, 10))\n",
    "sns.countplot(x='Branch', hue='Product line', data=df, palette='Blues_d')\n",
    "plt.title('Relação das marcas e a linha de produto')\n",
    "plt.xlabel('Marcas')\n",
    "plt.ylabel('Frequency')\n",
    "plt.grid(axis='y', color='black')"
   ]
  },
  {
   "cell_type": "code",
   "execution_count": 31,
   "id": "69bb736d",
   "metadata": {
    "execution": {
     "iopub.execute_input": "2025-02-08T20:11:48.647743Z",
     "iopub.status.busy": "2025-02-08T20:11:48.647293Z",
     "iopub.status.idle": "2025-02-08T20:11:48.661345Z",
     "shell.execute_reply": "2025-02-08T20:11:48.660139Z"
    },
    "papermill": {
     "duration": 0.036096,
     "end_time": "2025-02-08T20:11:48.663259",
     "exception": false,
     "start_time": "2025-02-08T20:11:48.627163",
     "status": "completed"
    },
    "tags": []
   },
   "outputs": [
    {
     "data": {
      "text/html": [
       "<div>\n",
       "<style scoped>\n",
       "    .dataframe tbody tr th:only-of-type {\n",
       "        vertical-align: middle;\n",
       "    }\n",
       "\n",
       "    .dataframe tbody tr th {\n",
       "        vertical-align: top;\n",
       "    }\n",
       "\n",
       "    .dataframe thead th {\n",
       "        text-align: right;\n",
       "    }\n",
       "</style>\n",
       "<table border=\"1\" class=\"dataframe\">\n",
       "  <thead>\n",
       "    <tr style=\"text-align: right;\">\n",
       "      <th></th>\n",
       "      <th>Branch</th>\n",
       "      <th>Product line</th>\n",
       "      <th>Frequency</th>\n",
       "    </tr>\n",
       "  </thead>\n",
       "  <tbody>\n",
       "    <tr>\n",
       "      <th>0</th>\n",
       "      <td>A</td>\n",
       "      <td>Electronic accessories</td>\n",
       "      <td>60</td>\n",
       "    </tr>\n",
       "    <tr>\n",
       "      <th>1</th>\n",
       "      <td>A</td>\n",
       "      <td>Fashion accessories</td>\n",
       "      <td>51</td>\n",
       "    </tr>\n",
       "    <tr>\n",
       "      <th>2</th>\n",
       "      <td>A</td>\n",
       "      <td>Food and beverages</td>\n",
       "      <td>58</td>\n",
       "    </tr>\n",
       "    <tr>\n",
       "      <th>3</th>\n",
       "      <td>A</td>\n",
       "      <td>Health and beauty</td>\n",
       "      <td>47</td>\n",
       "    </tr>\n",
       "    <tr>\n",
       "      <th>4</th>\n",
       "      <td>A</td>\n",
       "      <td>Home and lifestyle</td>\n",
       "      <td>65</td>\n",
       "    </tr>\n",
       "    <tr>\n",
       "      <th>5</th>\n",
       "      <td>A</td>\n",
       "      <td>Sports and travel</td>\n",
       "      <td>59</td>\n",
       "    </tr>\n",
       "    <tr>\n",
       "      <th>6</th>\n",
       "      <td>B</td>\n",
       "      <td>Electronic accessories</td>\n",
       "      <td>55</td>\n",
       "    </tr>\n",
       "    <tr>\n",
       "      <th>7</th>\n",
       "      <td>B</td>\n",
       "      <td>Fashion accessories</td>\n",
       "      <td>62</td>\n",
       "    </tr>\n",
       "    <tr>\n",
       "      <th>8</th>\n",
       "      <td>B</td>\n",
       "      <td>Food and beverages</td>\n",
       "      <td>50</td>\n",
       "    </tr>\n",
       "    <tr>\n",
       "      <th>9</th>\n",
       "      <td>B</td>\n",
       "      <td>Health and beauty</td>\n",
       "      <td>53</td>\n",
       "    </tr>\n",
       "    <tr>\n",
       "      <th>10</th>\n",
       "      <td>B</td>\n",
       "      <td>Home and lifestyle</td>\n",
       "      <td>50</td>\n",
       "    </tr>\n",
       "    <tr>\n",
       "      <th>11</th>\n",
       "      <td>B</td>\n",
       "      <td>Sports and travel</td>\n",
       "      <td>62</td>\n",
       "    </tr>\n",
       "    <tr>\n",
       "      <th>12</th>\n",
       "      <td>C</td>\n",
       "      <td>Electronic accessories</td>\n",
       "      <td>55</td>\n",
       "    </tr>\n",
       "    <tr>\n",
       "      <th>13</th>\n",
       "      <td>C</td>\n",
       "      <td>Fashion accessories</td>\n",
       "      <td>65</td>\n",
       "    </tr>\n",
       "    <tr>\n",
       "      <th>14</th>\n",
       "      <td>C</td>\n",
       "      <td>Food and beverages</td>\n",
       "      <td>66</td>\n",
       "    </tr>\n",
       "    <tr>\n",
       "      <th>15</th>\n",
       "      <td>C</td>\n",
       "      <td>Health and beauty</td>\n",
       "      <td>52</td>\n",
       "    </tr>\n",
       "    <tr>\n",
       "      <th>16</th>\n",
       "      <td>C</td>\n",
       "      <td>Home and lifestyle</td>\n",
       "      <td>45</td>\n",
       "    </tr>\n",
       "    <tr>\n",
       "      <th>17</th>\n",
       "      <td>C</td>\n",
       "      <td>Sports and travel</td>\n",
       "      <td>45</td>\n",
       "    </tr>\n",
       "  </tbody>\n",
       "</table>\n",
       "</div>"
      ],
      "text/plain": [
       "   Branch            Product line  Frequency\n",
       "0       A  Electronic accessories         60\n",
       "1       A     Fashion accessories         51\n",
       "2       A      Food and beverages         58\n",
       "3       A       Health and beauty         47\n",
       "4       A      Home and lifestyle         65\n",
       "5       A       Sports and travel         59\n",
       "6       B  Electronic accessories         55\n",
       "7       B     Fashion accessories         62\n",
       "8       B      Food and beverages         50\n",
       "9       B       Health and beauty         53\n",
       "10      B      Home and lifestyle         50\n",
       "11      B       Sports and travel         62\n",
       "12      C  Electronic accessories         55\n",
       "13      C     Fashion accessories         65\n",
       "14      C      Food and beverages         66\n",
       "15      C       Health and beauty         52\n",
       "16      C      Home and lifestyle         45\n",
       "17      C       Sports and travel         45"
      ]
     },
     "execution_count": 31,
     "metadata": {},
     "output_type": "execute_result"
    }
   ],
   "source": [
    "contagem = df.groupby(['Branch', 'Product line']).size().reset_index(name='Frequency')\n",
    "contagem"
   ]
  },
  {
   "cell_type": "code",
   "execution_count": 32,
   "id": "1b701faf",
   "metadata": {
    "execution": {
     "iopub.execute_input": "2025-02-08T20:11:48.705289Z",
     "iopub.status.busy": "2025-02-08T20:11:48.704859Z",
     "iopub.status.idle": "2025-02-08T20:11:48.722401Z",
     "shell.execute_reply": "2025-02-08T20:11:48.720990Z"
    },
    "papermill": {
     "duration": 0.040905,
     "end_time": "2025-02-08T20:11:48.724462",
     "exception": false,
     "start_time": "2025-02-08T20:11:48.683557",
     "status": "completed"
    },
    "tags": []
   },
   "outputs": [
    {
     "data": {
      "text/html": [
       "<div>\n",
       "<style scoped>\n",
       "    .dataframe tbody tr th:only-of-type {\n",
       "        vertical-align: middle;\n",
       "    }\n",
       "\n",
       "    .dataframe tbody tr th {\n",
       "        vertical-align: top;\n",
       "    }\n",
       "\n",
       "    .dataframe thead th {\n",
       "        text-align: right;\n",
       "    }\n",
       "</style>\n",
       "<table border=\"1\" class=\"dataframe\">\n",
       "  <thead>\n",
       "    <tr style=\"text-align: right;\">\n",
       "      <th></th>\n",
       "      <th>Branch</th>\n",
       "      <th>Unit price</th>\n",
       "      <th>Frequency</th>\n",
       "    </tr>\n",
       "  </thead>\n",
       "  <tbody>\n",
       "    <tr>\n",
       "      <th>0</th>\n",
       "      <td>A</td>\n",
       "      <td>10.08</td>\n",
       "      <td>1</td>\n",
       "    </tr>\n",
       "    <tr>\n",
       "      <th>1</th>\n",
       "      <td>A</td>\n",
       "      <td>10.13</td>\n",
       "      <td>1</td>\n",
       "    </tr>\n",
       "    <tr>\n",
       "      <th>2</th>\n",
       "      <td>A</td>\n",
       "      <td>10.56</td>\n",
       "      <td>1</td>\n",
       "    </tr>\n",
       "    <tr>\n",
       "      <th>3</th>\n",
       "      <td>A</td>\n",
       "      <td>10.69</td>\n",
       "      <td>1</td>\n",
       "    </tr>\n",
       "    <tr>\n",
       "      <th>4</th>\n",
       "      <td>A</td>\n",
       "      <td>10.96</td>\n",
       "      <td>1</td>\n",
       "    </tr>\n",
       "    <tr>\n",
       "      <th>...</th>\n",
       "      <td>...</td>\n",
       "      <td>...</td>\n",
       "      <td>...</td>\n",
       "    </tr>\n",
       "    <tr>\n",
       "      <th>974</th>\n",
       "      <td>C</td>\n",
       "      <td>99.42</td>\n",
       "      <td>1</td>\n",
       "    </tr>\n",
       "    <tr>\n",
       "      <th>975</th>\n",
       "      <td>C</td>\n",
       "      <td>99.69</td>\n",
       "      <td>1</td>\n",
       "    </tr>\n",
       "    <tr>\n",
       "      <th>976</th>\n",
       "      <td>C</td>\n",
       "      <td>99.79</td>\n",
       "      <td>1</td>\n",
       "    </tr>\n",
       "    <tr>\n",
       "      <th>977</th>\n",
       "      <td>C</td>\n",
       "      <td>99.82</td>\n",
       "      <td>2</td>\n",
       "    </tr>\n",
       "    <tr>\n",
       "      <th>978</th>\n",
       "      <td>C</td>\n",
       "      <td>99.96</td>\n",
       "      <td>1</td>\n",
       "    </tr>\n",
       "  </tbody>\n",
       "</table>\n",
       "<p>979 rows × 3 columns</p>\n",
       "</div>"
      ],
      "text/plain": [
       "    Branch  Unit price  Frequency\n",
       "0        A       10.08          1\n",
       "1        A       10.13          1\n",
       "2        A       10.56          1\n",
       "3        A       10.69          1\n",
       "4        A       10.96          1\n",
       "..     ...         ...        ...\n",
       "974      C       99.42          1\n",
       "975      C       99.69          1\n",
       "976      C       99.79          1\n",
       "977      C       99.82          2\n",
       "978      C       99.96          1\n",
       "\n",
       "[979 rows x 3 columns]"
      ]
     },
     "execution_count": 32,
     "metadata": {},
     "output_type": "execute_result"
    }
   ],
   "source": [
    "contagem = df.groupby(['Branch', 'Unit price']).size().reset_index(name='Frequency')\n",
    "contagem"
   ]
  },
  {
   "cell_type": "code",
   "execution_count": 33,
   "id": "695067eb",
   "metadata": {
    "execution": {
     "iopub.execute_input": "2025-02-08T20:11:48.766171Z",
     "iopub.status.busy": "2025-02-08T20:11:48.765803Z",
     "iopub.status.idle": "2025-02-08T20:11:49.126270Z",
     "shell.execute_reply": "2025-02-08T20:11:49.125152Z"
    },
    "papermill": {
     "duration": 0.383934,
     "end_time": "2025-02-08T20:11:49.128251",
     "exception": false,
     "start_time": "2025-02-08T20:11:48.744317",
     "status": "completed"
    },
    "tags": []
   },
   "outputs": [
    {
     "data": {
      "image/png": "[encoded data removed]",
      "text/plain": [
       "<Figure size 2000x1000 with 1 Axes>"
      ]
     },
     "metadata": {},
     "output_type": "display_data"
    }
   ],
   "source": [
    "plt.figure(figsize=(20, 10))\n",
    "sns.countplot(x='Branch', hue='Payment', data=df, palette='Blues_d')\n",
    "plt.title('Relação entre as marcas e o tipo de pagamento')\n",
    "plt.xlabel('Gender')\n",
    "plt.ylabel('Frequency')\n",
    "plt.grid(axis='y', color='black')"
   ]
  },
  {
   "cell_type": "code",
   "execution_count": 34,
   "id": "6108fa11",
   "metadata": {
    "execution": {
     "iopub.execute_input": "2025-02-08T20:11:49.170635Z",
     "iopub.status.busy": "2025-02-08T20:11:49.170286Z",
     "iopub.status.idle": "2025-02-08T20:11:49.183900Z",
     "shell.execute_reply": "2025-02-08T20:11:49.182796Z"
    },
    "papermill": {
     "duration": 0.037219,
     "end_time": "2025-02-08T20:11:49.185711",
     "exception": false,
     "start_time": "2025-02-08T20:11:49.148492",
     "status": "completed"
    },
    "tags": []
   },
   "outputs": [
    {
     "data": {
      "text/html": [
       "<div>\n",
       "<style scoped>\n",
       "    .dataframe tbody tr th:only-of-type {\n",
       "        vertical-align: middle;\n",
       "    }\n",
       "\n",
       "    .dataframe tbody tr th {\n",
       "        vertical-align: top;\n",
       "    }\n",
       "\n",
       "    .dataframe thead th {\n",
       "        text-align: right;\n",
       "    }\n",
       "</style>\n",
       "<table border=\"1\" class=\"dataframe\">\n",
       "  <thead>\n",
       "    <tr style=\"text-align: right;\">\n",
       "      <th></th>\n",
       "      <th>Branch</th>\n",
       "      <th>Payment</th>\n",
       "      <th>Frequency</th>\n",
       "    </tr>\n",
       "  </thead>\n",
       "  <tbody>\n",
       "    <tr>\n",
       "      <th>0</th>\n",
       "      <td>A</td>\n",
       "      <td>Cash</td>\n",
       "      <td>110</td>\n",
       "    </tr>\n",
       "    <tr>\n",
       "      <th>1</th>\n",
       "      <td>A</td>\n",
       "      <td>Credit card</td>\n",
       "      <td>104</td>\n",
       "    </tr>\n",
       "    <tr>\n",
       "      <th>2</th>\n",
       "      <td>A</td>\n",
       "      <td>Ewallet</td>\n",
       "      <td>126</td>\n",
       "    </tr>\n",
       "    <tr>\n",
       "      <th>3</th>\n",
       "      <td>B</td>\n",
       "      <td>Cash</td>\n",
       "      <td>110</td>\n",
       "    </tr>\n",
       "    <tr>\n",
       "      <th>4</th>\n",
       "      <td>B</td>\n",
       "      <td>Credit card</td>\n",
       "      <td>109</td>\n",
       "    </tr>\n",
       "    <tr>\n",
       "      <th>5</th>\n",
       "      <td>B</td>\n",
       "      <td>Ewallet</td>\n",
       "      <td>113</td>\n",
       "    </tr>\n",
       "    <tr>\n",
       "      <th>6</th>\n",
       "      <td>C</td>\n",
       "      <td>Cash</td>\n",
       "      <td>124</td>\n",
       "    </tr>\n",
       "    <tr>\n",
       "      <th>7</th>\n",
       "      <td>C</td>\n",
       "      <td>Credit card</td>\n",
       "      <td>98</td>\n",
       "    </tr>\n",
       "    <tr>\n",
       "      <th>8</th>\n",
       "      <td>C</td>\n",
       "      <td>Ewallet</td>\n",
       "      <td>106</td>\n",
       "    </tr>\n",
       "  </tbody>\n",
       "</table>\n",
       "</div>"
      ],
      "text/plain": [
       "  Branch      Payment  Frequency\n",
       "0      A         Cash        110\n",
       "1      A  Credit card        104\n",
       "2      A      Ewallet        126\n",
       "3      B         Cash        110\n",
       "4      B  Credit card        109\n",
       "5      B      Ewallet        113\n",
       "6      C         Cash        124\n",
       "7      C  Credit card         98\n",
       "8      C      Ewallet        106"
      ]
     },
     "execution_count": 34,
     "metadata": {},
     "output_type": "execute_result"
    }
   ],
   "source": [
    "contagem = df.groupby(['Branch', 'Payment']).size().reset_index(name='Frequency')\n",
    "contagem"
   ]
  },
  {
   "cell_type": "code",
   "execution_count": 35,
   "id": "aa89077e",
   "metadata": {
    "execution": {
     "iopub.execute_input": "2025-02-08T20:11:49.231454Z",
     "iopub.status.busy": "2025-02-08T20:11:49.231096Z",
     "iopub.status.idle": "2025-02-08T20:11:49.245966Z",
     "shell.execute_reply": "2025-02-08T20:11:49.244647Z"
    },
    "papermill": {
     "duration": 0.039251,
     "end_time": "2025-02-08T20:11:49.247864",
     "exception": false,
     "start_time": "2025-02-08T20:11:49.208613",
     "status": "completed"
    },
    "tags": []
   },
   "outputs": [
    {
     "data": {
      "text/html": [
       "<div>\n",
       "<style scoped>\n",
       "    .dataframe tbody tr th:only-of-type {\n",
       "        vertical-align: middle;\n",
       "    }\n",
       "\n",
       "    .dataframe tbody tr th {\n",
       "        vertical-align: top;\n",
       "    }\n",
       "\n",
       "    .dataframe thead th {\n",
       "        text-align: right;\n",
       "    }\n",
       "</style>\n",
       "<table border=\"1\" class=\"dataframe\">\n",
       "  <thead>\n",
       "    <tr style=\"text-align: right;\">\n",
       "      <th></th>\n",
       "      <th>Branch</th>\n",
       "      <th>Rating</th>\n",
       "      <th>Frequency</th>\n",
       "    </tr>\n",
       "  </thead>\n",
       "  <tbody>\n",
       "    <tr>\n",
       "      <th>0</th>\n",
       "      <td>A</td>\n",
       "      <td>4.0</td>\n",
       "      <td>2</td>\n",
       "    </tr>\n",
       "    <tr>\n",
       "      <th>1</th>\n",
       "      <td>A</td>\n",
       "      <td>4.1</td>\n",
       "      <td>5</td>\n",
       "    </tr>\n",
       "    <tr>\n",
       "      <th>2</th>\n",
       "      <td>A</td>\n",
       "      <td>4.2</td>\n",
       "      <td>11</td>\n",
       "    </tr>\n",
       "    <tr>\n",
       "      <th>3</th>\n",
       "      <td>A</td>\n",
       "      <td>4.3</td>\n",
       "      <td>6</td>\n",
       "    </tr>\n",
       "    <tr>\n",
       "      <th>4</th>\n",
       "      <td>A</td>\n",
       "      <td>4.4</td>\n",
       "      <td>6</td>\n",
       "    </tr>\n",
       "    <tr>\n",
       "      <th>...</th>\n",
       "      <td>...</td>\n",
       "      <td>...</td>\n",
       "      <td>...</td>\n",
       "    </tr>\n",
       "    <tr>\n",
       "      <th>178</th>\n",
       "      <td>C</td>\n",
       "      <td>9.6</td>\n",
       "      <td>5</td>\n",
       "    </tr>\n",
       "    <tr>\n",
       "      <th>179</th>\n",
       "      <td>C</td>\n",
       "      <td>9.7</td>\n",
       "      <td>5</td>\n",
       "    </tr>\n",
       "    <tr>\n",
       "      <th>180</th>\n",
       "      <td>C</td>\n",
       "      <td>9.8</td>\n",
       "      <td>6</td>\n",
       "    </tr>\n",
       "    <tr>\n",
       "      <th>181</th>\n",
       "      <td>C</td>\n",
       "      <td>9.9</td>\n",
       "      <td>4</td>\n",
       "    </tr>\n",
       "    <tr>\n",
       "      <th>182</th>\n",
       "      <td>C</td>\n",
       "      <td>10.0</td>\n",
       "      <td>1</td>\n",
       "    </tr>\n",
       "  </tbody>\n",
       "</table>\n",
       "<p>183 rows × 3 columns</p>\n",
       "</div>"
      ],
      "text/plain": [
       "    Branch  Rating  Frequency\n",
       "0        A     4.0          2\n",
       "1        A     4.1          5\n",
       "2        A     4.2         11\n",
       "3        A     4.3          6\n",
       "4        A     4.4          6\n",
       "..     ...     ...        ...\n",
       "178      C     9.6          5\n",
       "179      C     9.7          5\n",
       "180      C     9.8          6\n",
       "181      C     9.9          4\n",
       "182      C    10.0          1\n",
       "\n",
       "[183 rows x 3 columns]"
      ]
     },
     "execution_count": 35,
     "metadata": {},
     "output_type": "execute_result"
    }
   ],
   "source": [
    "contagem = df.groupby(['Branch', 'Rating']).size().reset_index(name='Frequency')\n",
    "contagem"
   ]
  },
  {
   "cell_type": "markdown",
   "id": "729d9aac",
   "metadata": {
    "papermill": {
     "duration": 0.020525,
     "end_time": "2025-02-08T20:11:49.289205",
     "exception": false,
     "start_time": "2025-02-08T20:11:49.268680",
     "status": "completed"
    },
    "tags": []
   },
   "source": [
    "# ML"
   ]
  },
  {
   "cell_type": "code",
   "execution_count": 36,
   "id": "1c8aac39",
   "metadata": {
    "execution": {
     "iopub.execute_input": "2025-02-08T20:11:49.332095Z",
     "iopub.status.busy": "2025-02-08T20:11:49.331616Z",
     "iopub.status.idle": "2025-02-08T20:11:50.053279Z",
     "shell.execute_reply": "2025-02-08T20:11:50.052069Z"
    },
    "papermill": {
     "duration": 0.745456,
     "end_time": "2025-02-08T20:11:50.055371",
     "exception": false,
     "start_time": "2025-02-08T20:11:49.309915",
     "status": "completed"
    },
    "tags": []
   },
   "outputs": [],
   "source": [
    "import pandas as pd\n",
    "from sklearn.model_selection import train_test_split\n",
    "from sklearn.preprocessing import LabelEncoder\n",
    "from sklearn.ensemble import RandomForestClassifier\n",
    "from sklearn.tree import DecisionTreeClassifier\n",
    "from sklearn.neighbors import KNeighborsClassifier\n",
    "from sklearn.naive_bayes import GaussianNB\n",
    "from sklearn.neural_network import MLPClassifier\n",
    "from sklearn.metrics import accuracy_score, classification_report"
   ]
  },
  {
   "cell_type": "code",
   "execution_count": 37,
   "id": "f228378d",
   "metadata": {
    "execution": {
     "iopub.execute_input": "2025-02-08T20:11:50.099277Z",
     "iopub.status.busy": "2025-02-08T20:11:50.098858Z",
     "iopub.status.idle": "2025-02-08T20:11:50.113304Z",
     "shell.execute_reply": "2025-02-08T20:11:50.112144Z"
    },
    "papermill": {
     "duration": 0.038343,
     "end_time": "2025-02-08T20:11:50.115147",
     "exception": false,
     "start_time": "2025-02-08T20:11:50.076804",
     "status": "completed"
    },
    "tags": []
   },
   "outputs": [],
   "source": [
    "# 1. Pré-processamento de Dados\n",
    "\n",
    "# Convertendo variáveis categóricas em numéricas\n",
    "label_encoder = LabelEncoder()\n",
    "for coluna in df.select_dtypes(include=['object']).columns:\n",
    "    df[coluna] = label_encoder.fit_transform(df[coluna])"
   ]
  },
  {
   "cell_type": "code",
   "execution_count": 38,
   "id": "eb096930",
   "metadata": {
    "execution": {
     "iopub.execute_input": "2025-02-08T20:11:50.157926Z",
     "iopub.status.busy": "2025-02-08T20:11:50.157509Z",
     "iopub.status.idle": "2025-02-08T20:11:50.166938Z",
     "shell.execute_reply": "2025-02-08T20:11:50.165886Z"
    },
    "papermill": {
     "duration": 0.032922,
     "end_time": "2025-02-08T20:11:50.168803",
     "exception": false,
     "start_time": "2025-02-08T20:11:50.135881",
     "status": "completed"
    },
    "tags": []
   },
   "outputs": [],
   "source": [
    "# Separando variáveis independentes (X) e dependentes (y)\n",
    "X = df.drop(columns=['Gender', 'Invoice ID', 'Tax 5%', 'Unit price', 'Date', 'Time', 'cogs', 'gross margin percentage', 'gross income']) \n",
    "y = df['Gender'] \n",
    "\n",
    "# Dividindo os dados em treino e teste\n",
    "X_train, X_test, y_train, y_test = train_test_split(X, y, test_size=0.2, random_state=42)"
   ]
  },
  {
   "cell_type": "code",
   "execution_count": 39,
   "id": "0a9fee6a",
   "metadata": {
    "execution": {
     "iopub.execute_input": "2025-02-08T20:11:50.212727Z",
     "iopub.status.busy": "2025-02-08T20:11:50.212308Z",
     "iopub.status.idle": "2025-02-08T20:11:50.443565Z",
     "shell.execute_reply": "2025-02-08T20:11:50.442145Z"
    },
    "papermill": {
     "duration": 0.25621,
     "end_time": "2025-02-08T20:11:50.445541",
     "exception": false,
     "start_time": "2025-02-08T20:11:50.189331",
     "status": "completed"
    },
    "tags": []
   },
   "outputs": [
    {
     "name": "stdout",
     "output_type": "stream",
     "text": [
      "         Feature  Importance\n",
      "5          Total    0.294507\n",
      "7         Rating    0.261562\n",
      "4       Quantity    0.151946\n",
      "3   Product line    0.122766\n",
      "6        Payment    0.070497\n",
      "2  Customer type    0.039295\n",
      "0         Branch    0.030826\n",
      "1           City    0.028602\n"
     ]
    }
   ],
   "source": [
    "# Precisamos descobrir quais são as colunas que vamos analisar\n",
    "# Treinando o modelo Random Forest\n",
    "model = RandomForestClassifier(n_estimators=100, random_state=42)\n",
    "model.fit(X_train, y_train)\n",
    "\n",
    "# Obtendo a importância das características\n",
    "importances = model.feature_importances_\n",
    "\n",
    "# Criando um DataFrame para visualizar as importâncias\n",
    "features = X.columns\n",
    "importance_df = pd.DataFrame({'Feature': features, 'Importance': importances})\n",
    "importance_df = importance_df.sort_values(by='Importance', ascending=False)\n",
    "\n",
    "# Exibindo as 10 variáveis mais importantes\n",
    "print(importance_df.head(10))"
   ]
  },
  {
   "cell_type": "code",
   "execution_count": 40,
   "id": "3c3b0b75",
   "metadata": {
    "execution": {
     "iopub.execute_input": "2025-02-08T20:11:50.488921Z",
     "iopub.status.busy": "2025-02-08T20:11:50.488523Z",
     "iopub.status.idle": "2025-02-08T20:11:51.011347Z",
     "shell.execute_reply": "2025-02-08T20:11:51.009925Z"
    },
    "papermill": {
     "duration": 0.546974,
     "end_time": "2025-02-08T20:11:51.013331",
     "exception": false,
     "start_time": "2025-02-08T20:11:50.466357",
     "status": "completed"
    },
    "tags": []
   },
   "outputs": [
    {
     "name": "stdout",
     "output_type": "stream",
     "text": [
      "\n",
      "Acurácia do modelo Árvore de Decisão: 0.4850\n",
      "Relatório de Classificação para Árvore de Decisão:\n",
      "              precision    recall  f1-score   support\n",
      "\n",
      "           0       0.47      0.53      0.50        96\n",
      "           1       0.51      0.44      0.47       104\n",
      "\n",
      "    accuracy                           0.48       200\n",
      "   macro avg       0.49      0.49      0.48       200\n",
      "weighted avg       0.49      0.48      0.48       200\n",
      "\n",
      "\n",
      "Acurácia do modelo Random Forest: 0.4900\n",
      "Relatório de Classificação para Random Forest:\n",
      "              precision    recall  f1-score   support\n",
      "\n",
      "           0       0.47      0.59      0.53        96\n",
      "           1       0.51      0.39      0.45       104\n",
      "\n",
      "    accuracy                           0.49       200\n",
      "   macro avg       0.49      0.49      0.49       200\n",
      "weighted avg       0.49      0.49      0.49       200\n",
      "\n",
      "\n",
      "Acurácia do modelo KNN (K-Vizinhos): 0.4950\n",
      "Relatório de Classificação para KNN (K-Vizinhos):\n",
      "              precision    recall  f1-score   support\n",
      "\n",
      "           0       0.48      0.53      0.50        96\n",
      "           1       0.52      0.46      0.49       104\n",
      "\n",
      "    accuracy                           0.49       200\n",
      "   macro avg       0.50      0.50      0.49       200\n",
      "weighted avg       0.50      0.49      0.49       200\n",
      "\n",
      "\n",
      "Acurácia do modelo Naive Bayes: 0.4850\n",
      "Relatório de Classificação para Naive Bayes:\n",
      "              precision    recall  f1-score   support\n",
      "\n",
      "           0       0.46      0.48      0.47        96\n",
      "           1       0.50      0.49      0.50       104\n",
      "\n",
      "    accuracy                           0.48       200\n",
      "   macro avg       0.48      0.48      0.48       200\n",
      "weighted avg       0.49      0.48      0.49       200\n",
      "\n",
      "\n",
      "Acurácia do modelo Redes Neurais: 0.4700\n",
      "Relatório de Classificação para Redes Neurais:\n",
      "              precision    recall  f1-score   support\n",
      "\n",
      "           0       0.47      0.82      0.60        96\n",
      "           1       0.47      0.14      0.22       104\n",
      "\n",
      "    accuracy                           0.47       200\n",
      "   macro avg       0.47      0.48      0.41       200\n",
      "weighted avg       0.47      0.47      0.40       200\n",
      "\n"
     ]
    }
   ],
   "source": [
    "# Passo 2: Treinamento dos Modelos\n",
    "# Modelos a serem testados:\n",
    "models = {\n",
    "    \"Árvore de Decisão\": DecisionTreeClassifier(random_state=42),\n",
    "    \"Random Forest\": RandomForestClassifier(n_estimators=100, random_state=42),\n",
    "    \"KNN (K-Vizinhos)\": KNeighborsClassifier(),\n",
    "    \"Naive Bayes\": GaussianNB(),\n",
    "    \"Redes Neurais\": MLPClassifier(max_iter=1000, random_state=42)  # Rede Neural MLP (Multilayer Perceptron)\n",
    "}\n",
    "\n",
    "\n",
    "# Passo 3: Testando todos os modelos\n",
    "for model_name, model in models.items():\n",
    "    # Treinando o modelo\n",
    "    model.fit(X_train, y_train)\n",
    "    \n",
    "    # Fazendo previsões no conjunto de teste\n",
    "    y_pred = model.predict(X_test)\n",
    "    \n",
    "    # Calculando a acurácia\n",
    "    accuracy = accuracy_score(y_test, y_pred)\n",
    "    print(f\"\\nAcurácia do modelo {model_name}: {accuracy:.4f}\")\n",
    "    \n",
    "    # Exibindo o relatório de classificação\n",
    "    print(f\"Relatório de Classificação para {model_name}:\")\n",
    "    print(classification_report(y_test, y_pred))"
   ]
  }
 ],
 "metadata": {
  "kaggle": {
   "accelerator": "none",
   "dataSources": [
    {
     "datasetId": 6614894,
     "sourceId": 10678429,
     "sourceType": "datasetVersion"
    }
   ],
   "dockerImageVersionId": 30886,
   "isGpuEnabled": false,
   "isInternetEnabled": true,
   "language": "python",
   "sourceType": "notebook"
  },
  "kernelspec": {
   "display_name": "Python 3",
   "language": "python",
   "name": "python3"
  },
  "language_info": {
   "codemirror_mode": {
    "name": "ipython",
    "version": 3
   },
   "file_extension": ".py",
   "mimetype": "text/x-python",
   "name": "python",
   "nbconvert_exporter": "python",
   "pygments_lexer": "ipython3",
   "version": "3.10.12"
  },
  "papermill": {
   "default_parameters": {},
   "duration": 15.44304,
   "end_time": "2025-02-08T20:11:51.856192",
   "environment_variables": {},
   "exception": null,
   "input_path": "__notebook__.ipynb",
   "output_path": "__notebook__.ipynb",
   "parameters": {},
   "start_time": "2025-02-08T20:11:36.413152",
   "version": "2.6.0"
  }
 },
 "nbformat": 4,
 "nbformat_minor": 5
}
