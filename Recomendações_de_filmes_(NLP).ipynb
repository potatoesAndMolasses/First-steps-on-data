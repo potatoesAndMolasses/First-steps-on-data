{
  "nbformat": 4,
  "nbformat_minor": 0,
  "metadata": {
    "colab": {
      "provenance": [],
      "authorship_tag": "ABX9TyNUpNurhvm1VI+gzzTKCAMl"
    },
    "kernelspec": {
      "name": "python3",
      "display_name": "Python 3"
    },
    "language_info": {
      "name": "python"
    }
  },
  "cells": [
    {
      "cell_type": "code",
      "execution_count": 1,
      "metadata": {
        "id": "jFvbC31Mk95m"
      },
      "outputs": [],
      "source": [
        "import numpy as np\n",
        "import pandas as pd\n",
        "import seaborn as sns\n",
        "import matplotlib.pyplot as plt\n",
        "import os\n",
        "import kagglehub"
      ]
    },
    {
      "cell_type": "code",
      "source": [
        "pip install nltk"
      ],
      "metadata": {
        "colab": {
          "base_uri": "https://localhost:8080/"
        },
        "id": "bpCU9LH_lPJ7",
        "outputId": "73ecff2f-565b-4268-dbd7-8d1827907d7f"
      },
      "execution_count": 2,
      "outputs": [
        {
          "output_type": "stream",
          "name": "stdout",
          "text": [
            "Requirement already satisfied: nltk in /usr/local/lib/python3.11/dist-packages (3.9.1)\n",
            "Requirement already satisfied: click in /usr/local/lib/python3.11/dist-packages (from nltk) (8.1.8)\n",
            "Requirement already satisfied: joblib in /usr/local/lib/python3.11/dist-packages (from nltk) (1.4.2)\n",
            "Requirement already satisfied: regex>=2021.8.3 in /usr/local/lib/python3.11/dist-packages (from nltk) (2024.11.6)\n",
            "Requirement already satisfied: tqdm in /usr/local/lib/python3.11/dist-packages (from nltk) (4.67.1)\n"
          ]
        }
      ]
    },
    {
      "cell_type": "code",
      "source": [
        "# Base de dados\n",
        "path = kagglehub.dataset_download(\"sachinkumar62/movies-details\")\n",
        "os.environ['KAGGLE_CONFIG_DIR'] = '/content'\n",
        "print(\"Path to dataset files:\", path)\n",
        "os.listdir(path)"
      ],
      "metadata": {
        "colab": {
          "base_uri": "https://localhost:8080/"
        },
        "id": "2OvMLx5klXSa",
        "outputId": "c165bd1d-34f1-497e-a8ea-74220523b858"
      },
      "execution_count": 4,
      "outputs": [
        {
          "output_type": "stream",
          "name": "stdout",
          "text": [
            "Warning: Looks like you're using an outdated `kagglehub` version (installed: 0.3.6), please consider upgrading to the latest version (0.3.7).\n",
            "Downloading from https://www.kaggle.com/api/v1/datasets/download/sachinkumar62/movies-details?dataset_version_number=1...\n"
          ]
        },
        {
          "output_type": "stream",
          "name": "stderr",
          "text": [
            "100%|██████████| 1.21M/1.21M [00:00<00:00, 88.2MB/s]"
          ]
        },
        {
          "output_type": "stream",
          "name": "stdout",
          "text": [
            "Extracting files...\n",
            "Path to dataset files: /root/.cache/kagglehub/datasets/sachinkumar62/movies-details/versions/1\n"
          ]
        },
        {
          "output_type": "stream",
          "name": "stderr",
          "text": [
            "\n"
          ]
        },
        {
          "output_type": "execute_result",
          "data": {
            "text/plain": [
              "['movies.csv']"
            ]
          },
          "metadata": {},
          "execution_count": 4
        }
      ]
    },
    {
      "cell_type": "code",
      "source": [
        "path = '/root/.cache/kagglehub/datasets/sachinkumar62/movies-details/versions/1'\n",
        "df = pd.read_csv(path + '/movies.csv')\n",
        "df.head()"
      ],
      "metadata": {
        "colab": {
          "base_uri": "https://localhost:8080/",
          "height": 206
        },
        "id": "zUB_f5adlQIN",
        "outputId": "8e8fb421-4f6b-4a2c-9b6d-30dc3b6a6cfa"
      },
      "execution_count": 5,
      "outputs": [
        {
          "output_type": "execute_result",
          "data": {
            "text/plain": [
              "   Unnamed: 0      id                        title  \\\n",
              "0           0   19404  Dilwale Dulhania Le Jayenge   \n",
              "1           1  724089    Gabriel's Inferno Part II   \n",
              "2           2     278     The Shawshank Redemption   \n",
              "3           3     238                The Godfather   \n",
              "4           4  761053   Gabriel's Inferno Part III   \n",
              "\n",
              "                                            overview release_date  popularity  \\\n",
              "0  Raj is a rich, carefree, happy-go-lucky second...   1995-10-20      18.433   \n",
              "1  Professor Gabriel Emerson finally learns the t...   2020-07-31       8.439   \n",
              "2  Framed in the 1940s for the double murder of h...   1994-09-23      65.570   \n",
              "3  Spanning the years 1945 to 1955, a chronicle o...   1972-03-14      63.277   \n",
              "4  The final part of the film adaption of the ero...   2020-11-19      26.691   \n",
              "\n",
              "   vote_average  vote_count  \n",
              "0           8.7        2763  \n",
              "1           8.7        1223  \n",
              "2           8.7       18637  \n",
              "3           8.7       14052  \n",
              "4           8.7         773  "
            ],
            "text/html": [
              "\n",
              "  <div id=\"df-a19ed6d0-d8b9-41d0-9fe7-0b5f6017a891\" class=\"colab-df-container\">\n",
              "    <div>\n",
              "<style scoped>\n",
              "    .dataframe tbody tr th:only-of-type {\n",
              "        vertical-align: middle;\n",
              "    }\n",
              "\n",
              "    .dataframe tbody tr th {\n",
              "        vertical-align: top;\n",
              "    }\n",
              "\n",
              "    .dataframe thead th {\n",
              "        text-align: right;\n",
              "    }\n",
              "</style>\n",
              "<table border=\"1\" class=\"dataframe\">\n",
              "  <thead>\n",
              "    <tr style=\"text-align: right;\">\n",
              "      <th></th>\n",
              "      <th>Unnamed: 0</th>\n",
              "      <th>id</th>\n",
              "      <th>title</th>\n",
              "      <th>overview</th>\n",
              "      <th>release_date</th>\n",
              "      <th>popularity</th>\n",
              "      <th>vote_average</th>\n",
              "      <th>vote_count</th>\n",
              "    </tr>\n",
              "  </thead>\n",
              "  <tbody>\n",
              "    <tr>\n",
              "      <th>0</th>\n",
              "      <td>0</td>\n",
              "      <td>19404</td>\n",
              "      <td>Dilwale Dulhania Le Jayenge</td>\n",
              "      <td>Raj is a rich, carefree, happy-go-lucky second...</td>\n",
              "      <td>1995-10-20</td>\n",
              "      <td>18.433</td>\n",
              "      <td>8.7</td>\n",
              "      <td>2763</td>\n",
              "    </tr>\n",
              "    <tr>\n",
              "      <th>1</th>\n",
              "      <td>1</td>\n",
              "      <td>724089</td>\n",
              "      <td>Gabriel's Inferno Part II</td>\n",
              "      <td>Professor Gabriel Emerson finally learns the t...</td>\n",
              "      <td>2020-07-31</td>\n",
              "      <td>8.439</td>\n",
              "      <td>8.7</td>\n",
              "      <td>1223</td>\n",
              "    </tr>\n",
              "    <tr>\n",
              "      <th>2</th>\n",
              "      <td>2</td>\n",
              "      <td>278</td>\n",
              "      <td>The Shawshank Redemption</td>\n",
              "      <td>Framed in the 1940s for the double murder of h...</td>\n",
              "      <td>1994-09-23</td>\n",
              "      <td>65.570</td>\n",
              "      <td>8.7</td>\n",
              "      <td>18637</td>\n",
              "    </tr>\n",
              "    <tr>\n",
              "      <th>3</th>\n",
              "      <td>3</td>\n",
              "      <td>238</td>\n",
              "      <td>The Godfather</td>\n",
              "      <td>Spanning the years 1945 to 1955, a chronicle o...</td>\n",
              "      <td>1972-03-14</td>\n",
              "      <td>63.277</td>\n",
              "      <td>8.7</td>\n",
              "      <td>14052</td>\n",
              "    </tr>\n",
              "    <tr>\n",
              "      <th>4</th>\n",
              "      <td>4</td>\n",
              "      <td>761053</td>\n",
              "      <td>Gabriel's Inferno Part III</td>\n",
              "      <td>The final part of the film adaption of the ero...</td>\n",
              "      <td>2020-11-19</td>\n",
              "      <td>26.691</td>\n",
              "      <td>8.7</td>\n",
              "      <td>773</td>\n",
              "    </tr>\n",
              "  </tbody>\n",
              "</table>\n",
              "</div>\n",
              "    <div class=\"colab-df-buttons\">\n",
              "\n",
              "  <div class=\"colab-df-container\">\n",
              "    <button class=\"colab-df-convert\" onclick=\"convertToInteractive('df-a19ed6d0-d8b9-41d0-9fe7-0b5f6017a891')\"\n",
              "            title=\"Convert this dataframe to an interactive table.\"\n",
              "            style=\"display:none;\">\n",
              "\n",
              "  <svg xmlns=\"http://www.w3.org/2000/svg\" height=\"24px\" viewBox=\"0 -960 960 960\">\n",
              "    <path d=\"M120-120v-720h720v720H120Zm60-500h600v-160H180v160Zm220 220h160v-160H400v160Zm0 220h160v-160H400v160ZM180-400h160v-160H180v160Zm440 0h160v-160H620v160ZM180-180h160v-160H180v160Zm440 0h160v-160H620v160Z\"/>\n",
              "  </svg>\n",
              "    </button>\n",
              "\n",
              "  <style>\n",
              "    .colab-df-container {\n",
              "      display:flex;\n",
              "      gap: 12px;\n",
              "    }\n",
              "\n",
              "    .colab-df-convert {\n",
              "      background-color: #E8F0FE;\n",
              "      border: none;\n",
              "      border-radius: 50%;\n",
              "      cursor: pointer;\n",
              "      display: none;\n",
              "      fill: #1967D2;\n",
              "      height: 32px;\n",
              "      padding: 0 0 0 0;\n",
              "      width: 32px;\n",
              "    }\n",
              "\n",
              "    .colab-df-convert:hover {\n",
              "      background-color: #E2EBFA;\n",
              "      box-shadow: 0px 1px 2px rgba(60, 64, 67, 0.3), 0px 1px 3px 1px rgba(60, 64, 67, 0.15);\n",
              "      fill: #174EA6;\n",
              "    }\n",
              "\n",
              "    .colab-df-buttons div {\n",
              "      margin-bottom: 4px;\n",
              "    }\n",
              "\n",
              "    [theme=dark] .colab-df-convert {\n",
              "      background-color: #3B4455;\n",
              "      fill: #D2E3FC;\n",
              "    }\n",
              "\n",
              "    [theme=dark] .colab-df-convert:hover {\n",
              "      background-color: #434B5C;\n",
              "      box-shadow: 0px 1px 3px 1px rgba(0, 0, 0, 0.15);\n",
              "      filter: drop-shadow(0px 1px 2px rgba(0, 0, 0, 0.3));\n",
              "      fill: #FFFFFF;\n",
              "    }\n",
              "  </style>\n",
              "\n",
              "    <script>\n",
              "      const buttonEl =\n",
              "        document.querySelector('#df-a19ed6d0-d8b9-41d0-9fe7-0b5f6017a891 button.colab-df-convert');\n",
              "      buttonEl.style.display =\n",
              "        google.colab.kernel.accessAllowed ? 'block' : 'none';\n",
              "\n",
              "      async function convertToInteractive(key) {\n",
              "        const element = document.querySelector('#df-a19ed6d0-d8b9-41d0-9fe7-0b5f6017a891');\n",
              "        const dataTable =\n",
              "          await google.colab.kernel.invokeFunction('convertToInteractive',\n",
              "                                                    [key], {});\n",
              "        if (!dataTable) return;\n",
              "\n",
              "        const docLinkHtml = 'Like what you see? Visit the ' +\n",
              "          '<a target=\"_blank\" href=https://colab.research.google.com/notebooks/data_table.ipynb>data table notebook</a>'\n",
              "          + ' to learn more about interactive tables.';\n",
              "        element.innerHTML = '';\n",
              "        dataTable['output_type'] = 'display_data';\n",
              "        await google.colab.output.renderOutput(dataTable, element);\n",
              "        const docLink = document.createElement('div');\n",
              "        docLink.innerHTML = docLinkHtml;\n",
              "        element.appendChild(docLink);\n",
              "      }\n",
              "    </script>\n",
              "  </div>\n",
              "\n",
              "\n",
              "<div id=\"df-0df9dd48-ed21-4aac-9f5e-9fad1e922f8c\">\n",
              "  <button class=\"colab-df-quickchart\" onclick=\"quickchart('df-0df9dd48-ed21-4aac-9f5e-9fad1e922f8c')\"\n",
              "            title=\"Suggest charts\"\n",
              "            style=\"display:none;\">\n",
              "\n",
              "<svg xmlns=\"http://www.w3.org/2000/svg\" height=\"24px\"viewBox=\"0 0 24 24\"\n",
              "     width=\"24px\">\n",
              "    <g>\n",
              "        <path d=\"M19 3H5c-1.1 0-2 .9-2 2v14c0 1.1.9 2 2 2h14c1.1 0 2-.9 2-2V5c0-1.1-.9-2-2-2zM9 17H7v-7h2v7zm4 0h-2V7h2v10zm4 0h-2v-4h2v4z\"/>\n",
              "    </g>\n",
              "</svg>\n",
              "  </button>\n",
              "\n",
              "<style>\n",
              "  .colab-df-quickchart {\n",
              "      --bg-color: #E8F0FE;\n",
              "      --fill-color: #1967D2;\n",
              "      --hover-bg-color: #E2EBFA;\n",
              "      --hover-fill-color: #174EA6;\n",
              "      --disabled-fill-color: #AAA;\n",
              "      --disabled-bg-color: #DDD;\n",
              "  }\n",
              "\n",
              "  [theme=dark] .colab-df-quickchart {\n",
              "      --bg-color: #3B4455;\n",
              "      --fill-color: #D2E3FC;\n",
              "      --hover-bg-color: #434B5C;\n",
              "      --hover-fill-color: #FFFFFF;\n",
              "      --disabled-bg-color: #3B4455;\n",
              "      --disabled-fill-color: #666;\n",
              "  }\n",
              "\n",
              "  .colab-df-quickchart {\n",
              "    background-color: var(--bg-color);\n",
              "    border: none;\n",
              "    border-radius: 50%;\n",
              "    cursor: pointer;\n",
              "    display: none;\n",
              "    fill: var(--fill-color);\n",
              "    height: 32px;\n",
              "    padding: 0;\n",
              "    width: 32px;\n",
              "  }\n",
              "\n",
              "  .colab-df-quickchart:hover {\n",
              "    background-color: var(--hover-bg-color);\n",
              "    box-shadow: 0 1px 2px rgba(60, 64, 67, 0.3), 0 1px 3px 1px rgba(60, 64, 67, 0.15);\n",
              "    fill: var(--button-hover-fill-color);\n",
              "  }\n",
              "\n",
              "  .colab-df-quickchart-complete:disabled,\n",
              "  .colab-df-quickchart-complete:disabled:hover {\n",
              "    background-color: var(--disabled-bg-color);\n",
              "    fill: var(--disabled-fill-color);\n",
              "    box-shadow: none;\n",
              "  }\n",
              "\n",
              "  .colab-df-spinner {\n",
              "    border: 2px solid var(--fill-color);\n",
              "    border-color: transparent;\n",
              "    border-bottom-color: var(--fill-color);\n",
              "    animation:\n",
              "      spin 1s steps(1) infinite;\n",
              "  }\n",
              "\n",
              "  @keyframes spin {\n",
              "    0% {\n",
              "      border-color: transparent;\n",
              "      border-bottom-color: var(--fill-color);\n",
              "      border-left-color: var(--fill-color);\n",
              "    }\n",
              "    20% {\n",
              "      border-color: transparent;\n",
              "      border-left-color: var(--fill-color);\n",
              "      border-top-color: var(--fill-color);\n",
              "    }\n",
              "    30% {\n",
              "      border-color: transparent;\n",
              "      border-left-color: var(--fill-color);\n",
              "      border-top-color: var(--fill-color);\n",
              "      border-right-color: var(--fill-color);\n",
              "    }\n",
              "    40% {\n",
              "      border-color: transparent;\n",
              "      border-right-color: var(--fill-color);\n",
              "      border-top-color: var(--fill-color);\n",
              "    }\n",
              "    60% {\n",
              "      border-color: transparent;\n",
              "      border-right-color: var(--fill-color);\n",
              "    }\n",
              "    80% {\n",
              "      border-color: transparent;\n",
              "      border-right-color: var(--fill-color);\n",
              "      border-bottom-color: var(--fill-color);\n",
              "    }\n",
              "    90% {\n",
              "      border-color: transparent;\n",
              "      border-bottom-color: var(--fill-color);\n",
              "    }\n",
              "  }\n",
              "</style>\n",
              "\n",
              "  <script>\n",
              "    async function quickchart(key) {\n",
              "      const quickchartButtonEl =\n",
              "        document.querySelector('#' + key + ' button');\n",
              "      quickchartButtonEl.disabled = true;  // To prevent multiple clicks.\n",
              "      quickchartButtonEl.classList.add('colab-df-spinner');\n",
              "      try {\n",
              "        const charts = await google.colab.kernel.invokeFunction(\n",
              "            'suggestCharts', [key], {});\n",
              "      } catch (error) {\n",
              "        console.error('Error during call to suggestCharts:', error);\n",
              "      }\n",
              "      quickchartButtonEl.classList.remove('colab-df-spinner');\n",
              "      quickchartButtonEl.classList.add('colab-df-quickchart-complete');\n",
              "    }\n",
              "    (() => {\n",
              "      let quickchartButtonEl =\n",
              "        document.querySelector('#df-0df9dd48-ed21-4aac-9f5e-9fad1e922f8c button');\n",
              "      quickchartButtonEl.style.display =\n",
              "        google.colab.kernel.accessAllowed ? 'block' : 'none';\n",
              "    })();\n",
              "  </script>\n",
              "</div>\n",
              "\n",
              "    </div>\n",
              "  </div>\n"
            ],
            "application/vnd.google.colaboratory.intrinsic+json": {
              "type": "dataframe",
              "variable_name": "df",
              "summary": "{\n  \"name\": \"df\",\n  \"rows\": 8551,\n  \"fields\": [\n    {\n      \"column\": \"Unnamed: 0\",\n      \"properties\": {\n        \"dtype\": \"number\",\n        \"std\": 2468,\n        \"min\": 0,\n        \"max\": 8550,\n        \"num_unique_values\": 8551,\n        \"samples\": [\n          2389,\n          5048,\n          3133\n        ],\n        \"semantic_type\": \"\",\n        \"description\": \"\"\n      }\n    },\n    {\n      \"column\": \"id\",\n      \"properties\": {\n        \"dtype\": \"number\",\n        \"std\": 182298,\n        \"min\": 5,\n        \"max\": 793723,\n        \"num_unique_values\": 8551,\n        \"samples\": [\n          11934,\n          14353,\n          9007\n        ],\n        \"semantic_type\": \"\",\n        \"description\": \"\"\n      }\n    },\n    {\n      \"column\": \"title\",\n      \"properties\": {\n        \"dtype\": \"string\",\n        \"num_unique_values\": 8289,\n        \"samples\": [\n          \"Airport\",\n          \"Akira\",\n          \"The Lunchbox\"\n        ],\n        \"semantic_type\": \"\",\n        \"description\": \"\"\n      }\n    },\n    {\n      \"column\": \"overview\",\n      \"properties\": {\n        \"dtype\": \"string\",\n        \"num_unique_values\": 8527,\n        \"samples\": [\n          \"After losing in the ALCS the year before, the Cleveland Indians are determined to make it into the World Series this time! However, they first have to contend with Rachel Phelps again when she buys back the team.\",\n          \"Inspired by the true story of Vince Papale, a man with nothing to lose who ignored the staggering odds and made his dream come true. When the coach of Papale's beloved hometown football team hosted an unprecedented open tryout, the public consensus was that it was a waste of time \\u2013 no one good enough to play professional football was going to be found this way.\",\n          \"Lorenzo, owner of a firm that makes atmospheric effects for film and television, is a happy bachelor.\\r His beliefs begin to falter after the arrival of Amaranta, a beautiful and rich Colombian girl that, as a surprise to her boyfriend, has commissioned a fake snow in his luxurious villa overlooking the sea ...\"\n        ],\n        \"semantic_type\": \"\",\n        \"description\": \"\"\n      }\n    },\n    {\n      \"column\": \"release_date\",\n      \"properties\": {\n        \"dtype\": \"object\",\n        \"num_unique_values\": 5451,\n        \"samples\": [\n          \"2013-10-29\",\n          \"1995-11-18\",\n          \"1943-03-11\"\n        ],\n        \"semantic_type\": \"\",\n        \"description\": \"\"\n      }\n    },\n    {\n      \"column\": \"popularity\",\n      \"properties\": {\n        \"dtype\": \"number\",\n        \"std\": 166.6063170988518,\n        \"min\": 0.6,\n        \"max\": 11701.435,\n        \"num_unique_values\": 7193,\n        \"samples\": [\n          15.675,\n          17.319,\n          9.984\n        ],\n        \"semantic_type\": \"\",\n        \"description\": \"\"\n      }\n    },\n    {\n      \"column\": \"vote_average\",\n      \"properties\": {\n        \"dtype\": \"number\",\n        \"std\": 0.8256258417866904,\n        \"min\": 2.2,\n        \"max\": 8.7,\n        \"num_unique_values\": 57,\n        \"samples\": [\n          8.7,\n          8.2,\n          5.7\n        ],\n        \"semantic_type\": \"\",\n        \"description\": \"\"\n      }\n    },\n    {\n      \"column\": \"vote_count\",\n      \"properties\": {\n        \"dtype\": \"number\",\n        \"std\": 2464,\n        \"min\": 200,\n        \"max\": 28740,\n        \"num_unique_values\": 2909,\n        \"samples\": [\n          2213,\n          3510,\n          883\n        ],\n        \"semantic_type\": \"\",\n        \"description\": \"\"\n      }\n    }\n  ]\n}"
            }
          },
          "metadata": {},
          "execution_count": 5
        }
      ]
    },
    {
      "cell_type": "code",
      "source": [
        "df.info()"
      ],
      "metadata": {
        "colab": {
          "base_uri": "https://localhost:8080/"
        },
        "id": "7I7TWtjhluqL",
        "outputId": "2bd3d290-2fb6-4b75-b1ad-e7fbc5428b52"
      },
      "execution_count": 6,
      "outputs": [
        {
          "output_type": "stream",
          "name": "stdout",
          "text": [
            "<class 'pandas.core.frame.DataFrame'>\n",
            "RangeIndex: 8551 entries, 0 to 8550\n",
            "Data columns (total 8 columns):\n",
            " #   Column        Non-Null Count  Dtype  \n",
            "---  ------        --------------  -----  \n",
            " 0   Unnamed: 0    8551 non-null   int64  \n",
            " 1   id            8551 non-null   int64  \n",
            " 2   title         8551 non-null   object \n",
            " 3   overview      8531 non-null   object \n",
            " 4   release_date  8551 non-null   object \n",
            " 5   popularity    8551 non-null   float64\n",
            " 6   vote_average  8551 non-null   float64\n",
            " 7   vote_count    8551 non-null   int64  \n",
            "dtypes: float64(2), int64(3), object(3)\n",
            "memory usage: 534.6+ KB\n"
          ]
        }
      ]
    },
    {
      "cell_type": "code",
      "source": [
        "import string\n",
        "import nltk\n",
        "from nltk.corpus import stopwords\n",
        "from nltk.tokenize import word_tokenize\n",
        "from nltk.stem import WordNetLemmatizer\n",
        "from sklearn.feature_extraction.text import TfidfVectorizer\n",
        "from sklearn.metrics.pairwise import cosine_similarity"
      ],
      "metadata": {
        "id": "cCSZqqtSlvmd"
      },
      "execution_count": 7,
      "outputs": []
    },
    {
      "cell_type": "code",
      "source": [
        "# Baixar recursos do NLTK\n",
        "nltk.download('punkt')\n",
        "nltk.download('stopwords')\n",
        "nltk.download('wordnet')"
      ],
      "metadata": {
        "colab": {
          "base_uri": "https://localhost:8080/"
        },
        "id": "QHKoFT1bl1X3",
        "outputId": "3f0df475-8b77-4de3-b8d9-9535bf043b57"
      },
      "execution_count": 8,
      "outputs": [
        {
          "output_type": "stream",
          "name": "stderr",
          "text": [
            "[nltk_data] Downloading package punkt to /root/nltk_data...\n",
            "[nltk_data]   Unzipping tokenizers/punkt.zip.\n",
            "[nltk_data] Downloading package stopwords to /root/nltk_data...\n",
            "[nltk_data]   Unzipping corpora/stopwords.zip.\n",
            "[nltk_data] Downloading package wordnet to /root/nltk_data...\n"
          ]
        },
        {
          "output_type": "execute_result",
          "data": {
            "text/plain": [
              "True"
            ]
          },
          "metadata": {},
          "execution_count": 8
        }
      ]
    },
    {
      "cell_type": "code",
      "source": [
        "# Baixar recursos do NLTK\n",
        "nltk.data.path.append('/kaggle/input/nltk-data')\n",
        "nltk.download('punkt')\n",
        "nltk.download('stopwords')\n",
        "nltk.download('wordnet')"
      ],
      "metadata": {
        "colab": {
          "base_uri": "https://localhost:8080/"
        },
        "id": "qGtt9fA6l2FD",
        "outputId": "a8a00cfd-a228-4612-d921-4454613f2b2a"
      },
      "execution_count": 9,
      "outputs": [
        {
          "output_type": "stream",
          "name": "stderr",
          "text": [
            "[nltk_data] Downloading package punkt to /root/nltk_data...\n",
            "[nltk_data]   Package punkt is already up-to-date!\n",
            "[nltk_data] Downloading package stopwords to /root/nltk_data...\n",
            "[nltk_data]   Package stopwords is already up-to-date!\n",
            "[nltk_data] Downloading package wordnet to /root/nltk_data...\n",
            "[nltk_data]   Package wordnet is already up-to-date!\n"
          ]
        },
        {
          "output_type": "execute_result",
          "data": {
            "text/plain": [
              "True"
            ]
          },
          "metadata": {},
          "execution_count": 9
        }
      ]
    },
    {
      "cell_type": "code",
      "source": [
        "# Função para limpar o texto\n",
        "def preprocess_text(text):\n",
        "    # Transformar o texto para minúsculas\n",
        "    text = text.lower()\n",
        "\n",
        "    # Tokenizar o texto\n",
        "    tokens = word_tokenize(text)\n",
        "\n",
        "    # Remover stopwords e pontuação, e lematizar\n",
        "    tokens = [lemmatizer.lemmatize(word) for word in tokens if word not in stop_words and word not in string.punctuation]\n",
        "\n",
        "    # Reconstruir o texto\n",
        "    return ' '.join(tokens)"
      ],
      "metadata": {
        "id": "KJeUMh6tl6bi"
      },
      "execution_count": 10,
      "outputs": []
    },
    {
      "cell_type": "code",
      "source": [
        "# Função para limpar o texto\n",
        "def preprocess_text(text):\n",
        "    # Transformar o texto para minúsculas\n",
        "    text = text.lower()\n",
        "\n",
        "    # Tokenizar o texto\n",
        "    tokens = word_tokenize(text)\n",
        "\n",
        "    # Remover stopwords e pontuação, e lematizar\n",
        "    tokens = [lemmatizer.lemmatize(word) for word in tokens if word not in stop_words and word not in string.punctuation]\n",
        "\n",
        "    # Reconstruir o texto\n",
        "    return ' '.join(tokens)"
      ],
      "metadata": {
        "id": "nJQhX18hmAYQ"
      },
      "execution_count": 11,
      "outputs": []
    },
    {
      "cell_type": "code",
      "source": [
        "# Remover linhas com valores ausentes na coluna 'overview'\n",
        "df_clean = df.dropna(subset=['overview'])\n",
        "\n",
        "# Criar o modelo TF-IDF\n",
        "tfidf_vectorizer = TfidfVectorizer()\n",
        "\n",
        "# Ajustar e transformar o texto\n",
        "tfidf_matrix = tfidf_vectorizer.fit_transform(df_clean['overview'])\n",
        "\n",
        "# Verificar o formato da matriz\n",
        "print(tfidf_matrix.shape)  # Isso deve mostrar a quantidade de filmes e o número de características"
      ],
      "metadata": {
        "colab": {
          "base_uri": "https://localhost:8080/"
        },
        "id": "olWYdwabmDN9",
        "outputId": "1f1c0f6b-dc79-45b7-a77a-64cab21a69d8"
      },
      "execution_count": 16,
      "outputs": [
        {
          "output_type": "stream",
          "name": "stdout",
          "text": [
            "(8531, 26613)\n"
          ]
        }
      ]
    },
    {
      "cell_type": "code",
      "source": [
        "# Calcular a similaridade cosseno entre todos os filmes\n",
        "cosine_sim = cosine_similarity(tfidf_matrix, tfidf_matrix)\n",
        "\n",
        "# Verificar a similaridade entre os primeiros 3 filmes\n",
        "print(cosine_sim[:3, :3])"
      ],
      "metadata": {
        "colab": {
          "base_uri": "https://localhost:8080/"
        },
        "id": "dexXPa7ymD2_",
        "outputId": "9d0a62fc-76ba-4683-ea69-49f6db81034e"
      },
      "execution_count": 17,
      "outputs": [
        {
          "output_type": "stream",
          "name": "stdout",
          "text": [
            "[[1.         0.04820789 0.06266735]\n",
            " [0.04820789 1.         0.0470334 ]\n",
            " [0.06266735 0.0470334  1.        ]]\n"
          ]
        }
      ]
    },
    {
      "cell_type": "code",
      "source": [
        "def recommend_movies(movie_title, cosine_sim=cosine_sim):\n",
        "    # Obter o índice do filme\n",
        "    idx = df[df['title'] == movie_title].index[0]\n",
        "\n",
        "    # Obter os scores de similaridade para o filme\n",
        "    sim_scores = list(enumerate(cosine_sim[idx]))\n",
        "\n",
        "    # Ordenar os filmes com base na similaridade\n",
        "    sim_scores = sorted(sim_scores, key=lambda x: x[1], reverse=True)\n",
        "\n",
        "    # Obter os índices dos filmes mais similares\n",
        "    movie_indices = [i[0] for i in sim_scores[1:6]]  # Pegue os 5 filmes mais similares\n",
        "\n",
        "    # Retornar os títulos dos filmes recomendados\n",
        "    return df['title'].iloc[movie_indices]\n",
        "\n",
        "# Testar com um título de filme\n",
        "recommended_movies = recommend_movies('The Matrix')\n",
        "print(recommended_movies)\n"
      ],
      "metadata": {
        "colab": {
          "base_uri": "https://localhost:8080/"
        },
        "id": "wJA0vRLTmFuL",
        "outputId": "a10e502f-b265-462a-acd9-cc5daa71201f"
      },
      "execution_count": 18,
      "outputs": [
        {
          "output_type": "stream",
          "name": "stdout",
          "text": [
            "5679                          The World Is Not Enough\n",
            "2236                                    Kung Fu Panda\n",
            "1705                                    Becoming Jane\n",
            "8430    In the Name of the King: A Dungeon Siege Tale\n",
            "4212                                   Finding 'Ohana\n",
            "Name: title, dtype: object\n"
          ]
        }
      ]
    },
    {
      "cell_type": "code",
      "source": [
        "from sklearn.metrics.pairwise import cosine_similarity\n",
        "\n",
        "# Calcular a similaridade de cosseno entre todos os filmes\n",
        "cosine_sim = cosine_similarity(tfidf_matrix, tfidf_matrix)\n",
        "\n",
        "# Função para recomendar filmes com base no índice do filme\n",
        "def recommend_movie(index, cosine_sim=cosine_sim):\n",
        "    movie_title = df['title'].iloc[index]\n",
        "\n",
        "    # Obter os índices dos filmes mais semelhantes\n",
        "    sim_scores = list(enumerate(cosine_sim[index]))\n",
        "    sim_scores = sorted(sim_scores, key=lambda x: x[1], reverse=True)\n",
        "\n",
        "    # Pegar os 10 filmes mais semelhantes (excluindo o próprio filme)\n",
        "    sim_scores = sim_scores[1:11]\n",
        "\n",
        "    # Obter os índices dos filmes\n",
        "    movie_indices = [i[0] for i in sim_scores]\n",
        "\n",
        "    # Retornar os títulos dos filmes recomendados\n",
        "    print(f\"Recomendações para {movie_title}:\")\n",
        "    return df['title'].iloc[movie_indices]\n",
        "\n",
        "# Teste: recomendar filmes similares ao filme de índice 0 (primeiro filme)\n",
        "recommended_movies = recommend_movie(0)\n",
        "print(recommended_movies)\n"
      ],
      "metadata": {
        "colab": {
          "base_uri": "https://localhost:8080/"
        },
        "id": "9l84FjJknEZz",
        "outputId": "4065e708-c119-4c73-f65f-b7593757bd8e"
      },
      "execution_count": 20,
      "outputs": [
        {
          "output_type": "stream",
          "name": "stdout",
          "text": [
            "Recomendações para Dilwale Dulhania Le Jayenge:\n",
            "2121                                          Trumbo\n",
            "8491                                     Piranha 3DD\n",
            "485                     The Bridge on the River Kwai\n",
            "1690                                        Precious\n",
            "7665                         Masters of the Universe\n",
            "7424                          Love Lasts Three Years\n",
            "3687           The Little Mermaid: Ariel's Beginning\n",
            "3030    Belle and Sebastian: The Adventure Continues\n",
            "975                                   Instant Family\n",
            "4316                                   Project Power\n",
            "Name: title, dtype: object\n"
          ]
        }
      ]
    }
  ]
}