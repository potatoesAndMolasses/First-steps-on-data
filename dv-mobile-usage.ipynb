{
 "cells": [
  {
   "cell_type": "code",
   "execution_count": 1,
   "id": "9e05e359",
   "metadata": {
    "_cell_guid": "b1076dfc-b9ad-4769-8c92-a6c4dae69d19",
    "_uuid": "8f2839f25d086af736a60e9eeb907d3b93b6e0e5",
    "execution": {
     "iopub.execute_input": "2025-02-09T15:59:31.926669Z",
     "iopub.status.busy": "2025-02-09T15:59:31.926304Z",
     "iopub.status.idle": "2025-02-09T15:59:35.136528Z",
     "shell.execute_reply": "2025-02-09T15:59:35.135186Z"
    },
    "papermill": {
     "duration": 3.220706,
     "end_time": "2025-02-09T15:59:35.138496",
     "exception": false,
     "start_time": "2025-02-09T15:59:31.917790",
     "status": "completed"
    },
    "tags": []
   },
   "outputs": [
    {
     "name": "stdout",
     "output_type": "stream",
     "text": [
      "/kaggle/input/mobile-usage-dataset/mobile_life_sample.csv\n"
     ]
    }
   ],
   "source": [
    "# This Python 3 environment comes with many helpful analytics libraries installed\n",
    "# It is defined by the kaggle/python Docker image: https://github.com/kaggle/docker-python\n",
    "# For example, here's several helpful packages to load\n",
    "\n",
    "import numpy as np\n",
    "import pandas as pd\n",
    "import seaborn as sns\n",
    "import matplotlib.pyplot as plt\n",
    "import warnings\n",
    "warnings.filterwarnings(\"ignore\")\n",
    "\n",
    "import os\n",
    "for dirname, _, filenames in os.walk('/kaggle/input'):\n",
    "    for filename in filenames:\n",
    "        print(os.path.join(dirname, filename))\n",
    "\n",
    "# You can write up to 20GB to the current directory (/kaggle/working/) that gets preserved as output when you create a version using \"Save & Run All\" \n",
    "# You can also write temporary files to /kaggle/temp/, but they won't be saved outside of the current session"
   ]
  },
  {
   "cell_type": "code",
   "execution_count": 2,
   "id": "f6f9e24c",
   "metadata": {
    "execution": {
     "iopub.execute_input": "2025-02-09T15:59:35.151703Z",
     "iopub.status.busy": "2025-02-09T15:59:35.151217Z",
     "iopub.status.idle": "2025-02-09T15:59:35.168376Z",
     "shell.execute_reply": "2025-02-09T15:59:35.167279Z"
    },
    "papermill": {
     "duration": 0.02569,
     "end_time": "2025-02-09T15:59:35.170265",
     "exception": false,
     "start_time": "2025-02-09T15:59:35.144575",
     "status": "completed"
    },
    "tags": []
   },
   "outputs": [],
   "source": [
    "df = pd.read_csv(\"/kaggle/input/mobile-usage-dataset/mobile_life_sample.csv\")"
   ]
  },
  {
   "cell_type": "code",
   "execution_count": 3,
   "id": "f3be9354",
   "metadata": {
    "execution": {
     "iopub.execute_input": "2025-02-09T15:59:35.183047Z",
     "iopub.status.busy": "2025-02-09T15:59:35.182692Z",
     "iopub.status.idle": "2025-02-09T15:59:35.213415Z",
     "shell.execute_reply": "2025-02-09T15:59:35.212333Z"
    },
    "papermill": {
     "duration": 0.038999,
     "end_time": "2025-02-09T15:59:35.215130",
     "exception": false,
     "start_time": "2025-02-09T15:59:35.176131",
     "status": "completed"
    },
    "tags": []
   },
   "outputs": [
    {
     "data": {
      "text/html": [
       "<div>\n",
       "<style scoped>\n",
       "    .dataframe tbody tr th:only-of-type {\n",
       "        vertical-align: middle;\n",
       "    }\n",
       "\n",
       "    .dataframe tbody tr th {\n",
       "        vertical-align: top;\n",
       "    }\n",
       "\n",
       "    .dataframe thead th {\n",
       "        text-align: right;\n",
       "    }\n",
       "</style>\n",
       "<table border=\"1\" class=\"dataframe\">\n",
       "  <thead>\n",
       "    <tr style=\"text-align: right;\">\n",
       "      <th></th>\n",
       "      <th>User_ID</th>\n",
       "      <th>Date</th>\n",
       "      <th>Screen_Time (mins)</th>\n",
       "      <th>Battery_Level (%)</th>\n",
       "      <th>Network_Type</th>\n",
       "      <th>Data_Usage (MB)</th>\n",
       "      <th>Steps_Count</th>\n",
       "      <th>Call_Duration (mins)</th>\n",
       "      <th>App_Usage (Top App)</th>\n",
       "    </tr>\n",
       "  </thead>\n",
       "  <tbody>\n",
       "    <tr>\n",
       "      <th>0</th>\n",
       "      <td>User_1</td>\n",
       "      <td>2024-01-01</td>\n",
       "      <td>455</td>\n",
       "      <td>99</td>\n",
       "      <td>4G</td>\n",
       "      <td>1983.64</td>\n",
       "      <td>4299</td>\n",
       "      <td>17</td>\n",
       "      <td>TikTok</td>\n",
       "    </tr>\n",
       "    <tr>\n",
       "      <th>1</th>\n",
       "      <td>User_1</td>\n",
       "      <td>2024-01-02</td>\n",
       "      <td>567</td>\n",
       "      <td>42</td>\n",
       "      <td>WiFi</td>\n",
       "      <td>505.42</td>\n",
       "      <td>5654</td>\n",
       "      <td>5</td>\n",
       "      <td>TikTok</td>\n",
       "    </tr>\n",
       "    <tr>\n",
       "      <th>2</th>\n",
       "      <td>User_1</td>\n",
       "      <td>2024-01-03</td>\n",
       "      <td>334</td>\n",
       "      <td>83</td>\n",
       "      <td>4G</td>\n",
       "      <td>1923.93</td>\n",
       "      <td>12354</td>\n",
       "      <td>45</td>\n",
       "      <td>YouTube</td>\n",
       "    </tr>\n",
       "    <tr>\n",
       "      <th>3</th>\n",
       "      <td>User_1</td>\n",
       "      <td>2024-01-04</td>\n",
       "      <td>579</td>\n",
       "      <td>93</td>\n",
       "      <td>4G</td>\n",
       "      <td>295.39</td>\n",
       "      <td>13002</td>\n",
       "      <td>52</td>\n",
       "      <td>Spotify</td>\n",
       "    </tr>\n",
       "    <tr>\n",
       "      <th>4</th>\n",
       "      <td>User_1</td>\n",
       "      <td>2024-01-05</td>\n",
       "      <td>115</td>\n",
       "      <td>68</td>\n",
       "      <td>WiFi</td>\n",
       "      <td>1170.95</td>\n",
       "      <td>15519</td>\n",
       "      <td>75</td>\n",
       "      <td>Facebook</td>\n",
       "    </tr>\n",
       "  </tbody>\n",
       "</table>\n",
       "</div>"
      ],
      "text/plain": [
       "  User_ID        Date  Screen_Time (mins)  Battery_Level (%) Network_Type  \\\n",
       "0  User_1  2024-01-01                 455                 99           4G   \n",
       "1  User_1  2024-01-02                 567                 42         WiFi   \n",
       "2  User_1  2024-01-03                 334                 83           4G   \n",
       "3  User_1  2024-01-04                 579                 93           4G   \n",
       "4  User_1  2024-01-05                 115                 68         WiFi   \n",
       "\n",
       "   Data_Usage (MB)  Steps_Count  Call_Duration (mins) App_Usage (Top App)  \n",
       "0          1983.64         4299                    17              TikTok  \n",
       "1           505.42         5654                     5              TikTok  \n",
       "2          1923.93        12354                    45             YouTube  \n",
       "3           295.39        13002                    52             Spotify  \n",
       "4          1170.95        15519                    75            Facebook  "
      ]
     },
     "execution_count": 3,
     "metadata": {},
     "output_type": "execute_result"
    }
   ],
   "source": [
    "# Vamos olhar as primeiras linhas do dataset\n",
    "df.head()"
   ]
  },
  {
   "cell_type": "code",
   "execution_count": 4,
   "id": "96fb2d86",
   "metadata": {
    "execution": {
     "iopub.execute_input": "2025-02-09T15:59:35.228758Z",
     "iopub.status.busy": "2025-02-09T15:59:35.228416Z",
     "iopub.status.idle": "2025-02-09T15:59:35.258679Z",
     "shell.execute_reply": "2025-02-09T15:59:35.257256Z"
    },
    "papermill": {
     "duration": 0.039094,
     "end_time": "2025-02-09T15:59:35.260522",
     "exception": false,
     "start_time": "2025-02-09T15:59:35.221428",
     "status": "completed"
    },
    "tags": []
   },
   "outputs": [
    {
     "name": "stdout",
     "output_type": "stream",
     "text": [
      "<class 'pandas.core.frame.DataFrame'>\n",
      "RangeIndex: 200 entries, 0 to 199\n",
      "Data columns (total 9 columns):\n",
      " #   Column                Non-Null Count  Dtype  \n",
      "---  ------                --------------  -----  \n",
      " 0   User_ID               200 non-null    object \n",
      " 1   Date                  200 non-null    object \n",
      " 2   Screen_Time (mins)    200 non-null    int64  \n",
      " 3   Battery_Level (%)     200 non-null    int64  \n",
      " 4   Network_Type          200 non-null    object \n",
      " 5   Data_Usage (MB)       200 non-null    float64\n",
      " 6   Steps_Count           200 non-null    int64  \n",
      " 7   Call_Duration (mins)  200 non-null    int64  \n",
      " 8   App_Usage (Top App)   200 non-null    object \n",
      "dtypes: float64(1), int64(4), object(4)\n",
      "memory usage: 14.2+ KB\n"
     ]
    }
   ],
   "source": [
    "# Pegamos informações como colunas, tipo de dados em cada coluna e a quantidade de linhas preenchidas em cada coluna\n",
    "df.info()"
   ]
  },
  {
   "cell_type": "code",
   "execution_count": 5,
   "id": "2e38efa9",
   "metadata": {
    "execution": {
     "iopub.execute_input": "2025-02-09T15:59:35.273770Z",
     "iopub.status.busy": "2025-02-09T15:59:35.273434Z",
     "iopub.status.idle": "2025-02-09T15:59:35.281068Z",
     "shell.execute_reply": "2025-02-09T15:59:35.279943Z"
    },
    "papermill": {
     "duration": 0.016199,
     "end_time": "2025-02-09T15:59:35.282860",
     "exception": false,
     "start_time": "2025-02-09T15:59:35.266661",
     "status": "completed"
    },
    "tags": []
   },
   "outputs": [
    {
     "data": {
      "text/plain": [
       "User_ID                 0\n",
       "Date                    0\n",
       "Screen_Time (mins)      0\n",
       "Battery_Level (%)       0\n",
       "Network_Type            0\n",
       "Data_Usage (MB)         0\n",
       "Steps_Count             0\n",
       "Call_Duration (mins)    0\n",
       "App_Usage (Top App)     0\n",
       "dtype: int64"
      ]
     },
     "execution_count": 5,
     "metadata": {},
     "output_type": "execute_result"
    }
   ],
   "source": [
    "# Somamos as linhas nulas das colunas\n",
    "df.isnull().sum()"
   ]
  },
  {
   "cell_type": "code",
   "execution_count": 6,
   "id": "d01da754",
   "metadata": {
    "execution": {
     "iopub.execute_input": "2025-02-09T15:59:35.297065Z",
     "iopub.status.busy": "2025-02-09T15:59:35.296730Z",
     "iopub.status.idle": "2025-02-09T15:59:35.322669Z",
     "shell.execute_reply": "2025-02-09T15:59:35.321347Z"
    },
    "papermill": {
     "duration": 0.034712,
     "end_time": "2025-02-09T15:59:35.324492",
     "exception": false,
     "start_time": "2025-02-09T15:59:35.289780",
     "status": "completed"
    },
    "tags": []
   },
   "outputs": [
    {
     "data": {
      "text/html": [
       "<div>\n",
       "<style scoped>\n",
       "    .dataframe tbody tr th:only-of-type {\n",
       "        vertical-align: middle;\n",
       "    }\n",
       "\n",
       "    .dataframe tbody tr th {\n",
       "        vertical-align: top;\n",
       "    }\n",
       "\n",
       "    .dataframe thead th {\n",
       "        text-align: right;\n",
       "    }\n",
       "</style>\n",
       "<table border=\"1\" class=\"dataframe\">\n",
       "  <thead>\n",
       "    <tr style=\"text-align: right;\">\n",
       "      <th></th>\n",
       "      <th>Screen_Time (mins)</th>\n",
       "      <th>Battery_Level (%)</th>\n",
       "      <th>Data_Usage (MB)</th>\n",
       "      <th>Steps_Count</th>\n",
       "      <th>Call_Duration (mins)</th>\n",
       "    </tr>\n",
       "  </thead>\n",
       "  <tbody>\n",
       "    <tr>\n",
       "      <th>count</th>\n",
       "      <td>200.000000</td>\n",
       "      <td>200.000000</td>\n",
       "      <td>200.000000</td>\n",
       "      <td>200.000000</td>\n",
       "      <td>200.000000</td>\n",
       "    </tr>\n",
       "    <tr>\n",
       "      <th>mean</th>\n",
       "      <td>314.980000</td>\n",
       "      <td>53.325000</td>\n",
       "      <td>1033.853800</td>\n",
       "      <td>10714.570000</td>\n",
       "      <td>58.220000</td>\n",
       "    </tr>\n",
       "    <tr>\n",
       "      <th>std</th>\n",
       "      <td>175.156211</td>\n",
       "      <td>30.029958</td>\n",
       "      <td>608.628191</td>\n",
       "      <td>5241.048629</td>\n",
       "      <td>34.271479</td>\n",
       "    </tr>\n",
       "    <tr>\n",
       "      <th>min</th>\n",
       "      <td>32.000000</td>\n",
       "      <td>5.000000</td>\n",
       "      <td>68.570000</td>\n",
       "      <td>1039.000000</td>\n",
       "      <td>0.000000</td>\n",
       "    </tr>\n",
       "    <tr>\n",
       "      <th>25%</th>\n",
       "      <td>160.000000</td>\n",
       "      <td>27.000000</td>\n",
       "      <td>508.450000</td>\n",
       "      <td>7007.500000</td>\n",
       "      <td>26.500000</td>\n",
       "    </tr>\n",
       "    <tr>\n",
       "      <th>50%</th>\n",
       "      <td>329.500000</td>\n",
       "      <td>54.000000</td>\n",
       "      <td>1050.370000</td>\n",
       "      <td>11140.500000</td>\n",
       "      <td>57.500000</td>\n",
       "    </tr>\n",
       "    <tr>\n",
       "      <th>75%</th>\n",
       "      <td>480.000000</td>\n",
       "      <td>82.000000</td>\n",
       "      <td>1619.402500</td>\n",
       "      <td>15009.500000</td>\n",
       "      <td>87.250000</td>\n",
       "    </tr>\n",
       "    <tr>\n",
       "      <th>max</th>\n",
       "      <td>600.000000</td>\n",
       "      <td>100.000000</td>\n",
       "      <td>1998.990000</td>\n",
       "      <td>19850.000000</td>\n",
       "      <td>120.000000</td>\n",
       "    </tr>\n",
       "  </tbody>\n",
       "</table>\n",
       "</div>"
      ],
      "text/plain": [
       "       Screen_Time (mins)  Battery_Level (%)  Data_Usage (MB)   Steps_Count  \\\n",
       "count          200.000000         200.000000       200.000000    200.000000   \n",
       "mean           314.980000          53.325000      1033.853800  10714.570000   \n",
       "std            175.156211          30.029958       608.628191   5241.048629   \n",
       "min             32.000000           5.000000        68.570000   1039.000000   \n",
       "25%            160.000000          27.000000       508.450000   7007.500000   \n",
       "50%            329.500000          54.000000      1050.370000  11140.500000   \n",
       "75%            480.000000          82.000000      1619.402500  15009.500000   \n",
       "max            600.000000         100.000000      1998.990000  19850.000000   \n",
       "\n",
       "       Call_Duration (mins)  \n",
       "count            200.000000  \n",
       "mean              58.220000  \n",
       "std               34.271479  \n",
       "min                0.000000  \n",
       "25%               26.500000  \n",
       "50%               57.500000  \n",
       "75%               87.250000  \n",
       "max              120.000000  "
      ]
     },
     "execution_count": 6,
     "metadata": {},
     "output_type": "execute_result"
    }
   ],
   "source": [
    "# Vamos obter algumas estatísticas dos dados\n",
    "df.describe()"
   ]
  },
  {
   "cell_type": "markdown",
   "id": "5620d0ab",
   "metadata": {
    "papermill": {
     "duration": 0.006157,
     "end_time": "2025-02-09T15:59:35.337106",
     "exception": false,
     "start_time": "2025-02-09T15:59:35.330949",
     "status": "completed"
    },
    "tags": []
   },
   "source": [
    "# Analise das frequências dos dados\n",
    "Vou fazer um gráfico para verificar a frequência de alguns dados, depois vou apresentar as quantidades analisadas por categória"
   ]
  },
  {
   "cell_type": "code",
   "execution_count": 7,
   "id": "22b45617",
   "metadata": {
    "execution": {
     "iopub.execute_input": "2025-02-09T15:59:35.352652Z",
     "iopub.status.busy": "2025-02-09T15:59:35.352273Z",
     "iopub.status.idle": "2025-02-09T15:59:35.358325Z",
     "shell.execute_reply": "2025-02-09T15:59:35.356613Z"
    },
    "papermill": {
     "duration": 0.016673,
     "end_time": "2025-02-09T15:59:35.360509",
     "exception": false,
     "start_time": "2025-02-09T15:59:35.343836",
     "status": "completed"
    },
    "tags": []
   },
   "outputs": [],
   "source": [
    "# Estou usando para não precisar fazer as grids nos gráficos ao longo dos códigos\n",
    "sns.set_style(\"whitegrid\")"
   ]
  },
  {
   "cell_type": "markdown",
   "id": "94e14c42",
   "metadata": {
    "papermill": {
     "duration": 0.005929,
     "end_time": "2025-02-09T15:59:35.373769",
     "exception": false,
     "start_time": "2025-02-09T15:59:35.367840",
     "status": "completed"
    },
    "tags": []
   },
   "source": [
    "# Screen_Time (mins)"
   ]
  },
  {
   "cell_type": "code",
   "execution_count": 8,
   "id": "954581d8",
   "metadata": {
    "execution": {
     "iopub.execute_input": "2025-02-09T15:59:35.389101Z",
     "iopub.status.busy": "2025-02-09T15:59:35.388755Z",
     "iopub.status.idle": "2025-02-09T15:59:35.904434Z",
     "shell.execute_reply": "2025-02-09T15:59:35.903068Z"
    },
    "papermill": {
     "duration": 0.524832,
     "end_time": "2025-02-09T15:59:35.906233",
     "exception": false,
     "start_time": "2025-02-09T15:59:35.381401",
     "status": "completed"
    },
    "tags": []
   },
   "outputs": [
    {
     "data": {
      "image/png": "[encoded data removed]",
      "text/plain": [
       "<Figure size 2000x1000 with 1 Axes>"
      ]
     },
     "metadata": {},
     "output_type": "display_data"
    }
   ],
   "source": [
    "plt.figure(figsize=(20, 10))\n",
    "sns.histplot(df['Screen_Time (mins)'], bins=30, kde=False, color='blue')\n",
    "plt.title('Frequência do tempo em minutos')\n",
    "plt.xlabel(\"Screen_Time (mins)\")\n",
    "plt.ylabel(\"Frequência\")\n",
    "plt.show()"
   ]
  },
  {
   "cell_type": "code",
   "execution_count": 9,
   "id": "b6b2a3e3",
   "metadata": {
    "execution": {
     "iopub.execute_input": "2025-02-09T15:59:35.923076Z",
     "iopub.status.busy": "2025-02-09T15:59:35.922739Z",
     "iopub.status.idle": "2025-02-09T15:59:35.938088Z",
     "shell.execute_reply": "2025-02-09T15:59:35.937129Z"
    },
    "papermill": {
     "duration": 0.025193,
     "end_time": "2025-02-09T15:59:35.939889",
     "exception": false,
     "start_time": "2025-02-09T15:59:35.914696",
     "status": "completed"
    },
    "tags": []
   },
   "outputs": [
    {
     "data": {
      "text/html": [
       "<div>\n",
       "<style scoped>\n",
       "    .dataframe tbody tr th:only-of-type {\n",
       "        vertical-align: middle;\n",
       "    }\n",
       "\n",
       "    .dataframe tbody tr th {\n",
       "        vertical-align: top;\n",
       "    }\n",
       "\n",
       "    .dataframe thead th {\n",
       "        text-align: right;\n",
       "    }\n",
       "</style>\n",
       "<table border=\"1\" class=\"dataframe\">\n",
       "  <thead>\n",
       "    <tr style=\"text-align: right;\">\n",
       "      <th></th>\n",
       "      <th>Screen_Time (mins)</th>\n",
       "      <th>Frequencia</th>\n",
       "    </tr>\n",
       "  </thead>\n",
       "  <tbody>\n",
       "    <tr>\n",
       "      <th>0</th>\n",
       "      <td>131</td>\n",
       "      <td>5</td>\n",
       "    </tr>\n",
       "    <tr>\n",
       "      <th>1</th>\n",
       "      <td>75</td>\n",
       "      <td>3</td>\n",
       "    </tr>\n",
       "    <tr>\n",
       "      <th>2</th>\n",
       "      <td>115</td>\n",
       "      <td>3</td>\n",
       "    </tr>\n",
       "    <tr>\n",
       "      <th>3</th>\n",
       "      <td>388</td>\n",
       "      <td>3</td>\n",
       "    </tr>\n",
       "    <tr>\n",
       "      <th>4</th>\n",
       "      <td>536</td>\n",
       "      <td>2</td>\n",
       "    </tr>\n",
       "    <tr>\n",
       "      <th>...</th>\n",
       "      <td>...</td>\n",
       "      <td>...</td>\n",
       "    </tr>\n",
       "    <tr>\n",
       "      <th>163</th>\n",
       "      <td>108</td>\n",
       "      <td>1</td>\n",
       "    </tr>\n",
       "    <tr>\n",
       "      <th>164</th>\n",
       "      <td>517</td>\n",
       "      <td>1</td>\n",
       "    </tr>\n",
       "    <tr>\n",
       "      <th>165</th>\n",
       "      <td>490</td>\n",
       "      <td>1</td>\n",
       "    </tr>\n",
       "    <tr>\n",
       "      <th>166</th>\n",
       "      <td>83</td>\n",
       "      <td>1</td>\n",
       "    </tr>\n",
       "    <tr>\n",
       "      <th>167</th>\n",
       "      <td>212</td>\n",
       "      <td>1</td>\n",
       "    </tr>\n",
       "  </tbody>\n",
       "</table>\n",
       "<p>168 rows × 2 columns</p>\n",
       "</div>"
      ],
      "text/plain": [
       "     Screen_Time (mins)  Frequencia\n",
       "0                   131           5\n",
       "1                    75           3\n",
       "2                   115           3\n",
       "3                   388           3\n",
       "4                   536           2\n",
       "..                  ...         ...\n",
       "163                 108           1\n",
       "164                 517           1\n",
       "165                 490           1\n",
       "166                  83           1\n",
       "167                 212           1\n",
       "\n",
       "[168 rows x 2 columns]"
      ]
     },
     "execution_count": 9,
     "metadata": {},
     "output_type": "execute_result"
    }
   ],
   "source": [
    "qtd = df['Screen_Time (mins)'].value_counts().reset_index(name='Frequencia')\n",
    "qtd.columns = ['Screen_Time (mins)', 'Frequencia']\n",
    "qtd"
   ]
  },
  {
   "cell_type": "markdown",
   "id": "17b80b54",
   "metadata": {
    "papermill": {
     "duration": 0.006692,
     "end_time": "2025-02-09T15:59:35.953788",
     "exception": false,
     "start_time": "2025-02-09T15:59:35.947096",
     "status": "completed"
    },
    "tags": []
   },
   "source": [
    "# Battery_Level (%)"
   ]
  },
  {
   "cell_type": "code",
   "execution_count": 10,
   "id": "824d6ecb",
   "metadata": {
    "execution": {
     "iopub.execute_input": "2025-02-09T15:59:35.969997Z",
     "iopub.status.busy": "2025-02-09T15:59:35.969652Z",
     "iopub.status.idle": "2025-02-09T15:59:36.372798Z",
     "shell.execute_reply": "2025-02-09T15:59:36.371508Z"
    },
    "papermill": {
     "duration": 0.413957,
     "end_time": "2025-02-09T15:59:36.375116",
     "exception": false,
     "start_time": "2025-02-09T15:59:35.961159",
     "status": "completed"
    },
    "tags": []
   },
   "outputs": [
    {
     "data": {
      "image/png": "[encoded data removed]",
      "text/plain": [
       "<Figure size 2000x1000 with 1 Axes>"
      ]
     },
     "metadata": {},
     "output_type": "display_data"
    }
   ],
   "source": [
    "plt.figure(figsize=(20, 10))\n",
    "sns.histplot(df['Battery_Level (%)'], bins=30, kde=False, color='blue')\n",
    "plt.title('Frequência da porcentagem de batéria')\n",
    "plt.xlabel(\"Battery_Level (%)\")\n",
    "plt.ylabel(\"Frequência\")\n",
    "plt.show()"
   ]
  },
  {
   "cell_type": "code",
   "execution_count": 11,
   "id": "7bdefe93",
   "metadata": {
    "execution": {
     "iopub.execute_input": "2025-02-09T15:59:36.392399Z",
     "iopub.status.busy": "2025-02-09T15:59:36.391888Z",
     "iopub.status.idle": "2025-02-09T15:59:36.404264Z",
     "shell.execute_reply": "2025-02-09T15:59:36.403132Z"
    },
    "papermill": {
     "duration": 0.022872,
     "end_time": "2025-02-09T15:59:36.405883",
     "exception": false,
     "start_time": "2025-02-09T15:59:36.383011",
     "status": "completed"
    },
    "tags": []
   },
   "outputs": [
    {
     "data": {
      "text/html": [
       "<div>\n",
       "<style scoped>\n",
       "    .dataframe tbody tr th:only-of-type {\n",
       "        vertical-align: middle;\n",
       "    }\n",
       "\n",
       "    .dataframe tbody tr th {\n",
       "        vertical-align: top;\n",
       "    }\n",
       "\n",
       "    .dataframe thead th {\n",
       "        text-align: right;\n",
       "    }\n",
       "</style>\n",
       "<table border=\"1\" class=\"dataframe\">\n",
       "  <thead>\n",
       "    <tr style=\"text-align: right;\">\n",
       "      <th></th>\n",
       "      <th>Battery_Level (%)</th>\n",
       "      <th>Frequencia</th>\n",
       "    </tr>\n",
       "  </thead>\n",
       "  <tbody>\n",
       "    <tr>\n",
       "      <th>0</th>\n",
       "      <td>91</td>\n",
       "      <td>6</td>\n",
       "    </tr>\n",
       "    <tr>\n",
       "      <th>1</th>\n",
       "      <td>33</td>\n",
       "      <td>6</td>\n",
       "    </tr>\n",
       "    <tr>\n",
       "      <th>2</th>\n",
       "      <td>15</td>\n",
       "      <td>6</td>\n",
       "    </tr>\n",
       "    <tr>\n",
       "      <th>3</th>\n",
       "      <td>75</td>\n",
       "      <td>6</td>\n",
       "    </tr>\n",
       "    <tr>\n",
       "      <th>4</th>\n",
       "      <td>9</td>\n",
       "      <td>5</td>\n",
       "    </tr>\n",
       "    <tr>\n",
       "      <th>...</th>\n",
       "      <td>...</td>\n",
       "      <td>...</td>\n",
       "    </tr>\n",
       "    <tr>\n",
       "      <th>78</th>\n",
       "      <td>65</td>\n",
       "      <td>1</td>\n",
       "    </tr>\n",
       "    <tr>\n",
       "      <th>79</th>\n",
       "      <td>38</td>\n",
       "      <td>1</td>\n",
       "    </tr>\n",
       "    <tr>\n",
       "      <th>80</th>\n",
       "      <td>78</td>\n",
       "      <td>1</td>\n",
       "    </tr>\n",
       "    <tr>\n",
       "      <th>81</th>\n",
       "      <td>52</td>\n",
       "      <td>1</td>\n",
       "    </tr>\n",
       "    <tr>\n",
       "      <th>82</th>\n",
       "      <td>63</td>\n",
       "      <td>1</td>\n",
       "    </tr>\n",
       "  </tbody>\n",
       "</table>\n",
       "<p>83 rows × 2 columns</p>\n",
       "</div>"
      ],
      "text/plain": [
       "    Battery_Level (%)  Frequencia\n",
       "0                  91           6\n",
       "1                  33           6\n",
       "2                  15           6\n",
       "3                  75           6\n",
       "4                   9           5\n",
       "..                ...         ...\n",
       "78                 65           1\n",
       "79                 38           1\n",
       "80                 78           1\n",
       "81                 52           1\n",
       "82                 63           1\n",
       "\n",
       "[83 rows x 2 columns]"
      ]
     },
     "execution_count": 11,
     "metadata": {},
     "output_type": "execute_result"
    }
   ],
   "source": [
    "qtd = df['Battery_Level (%)'].value_counts().reset_index(name='Frequencia')\n",
    "qtd.columns = ['Battery_Level (%)', 'Frequencia']\n",
    "qtd"
   ]
  },
  {
   "cell_type": "markdown",
   "id": "9940b455",
   "metadata": {
    "papermill": {
     "duration": 0.008254,
     "end_time": "2025-02-09T15:59:36.422006",
     "exception": false,
     "start_time": "2025-02-09T15:59:36.413752",
     "status": "completed"
    },
    "tags": []
   },
   "source": [
    "# Network_Type"
   ]
  },
  {
   "cell_type": "code",
   "execution_count": 12,
   "id": "7ae65570",
   "metadata": {
    "execution": {
     "iopub.execute_input": "2025-02-09T15:59:36.439262Z",
     "iopub.status.busy": "2025-02-09T15:59:36.438725Z",
     "iopub.status.idle": "2025-02-09T15:59:36.723124Z",
     "shell.execute_reply": "2025-02-09T15:59:36.721987Z"
    },
    "papermill": {
     "duration": 0.295071,
     "end_time": "2025-02-09T15:59:36.725005",
     "exception": false,
     "start_time": "2025-02-09T15:59:36.429934",
     "status": "completed"
    },
    "tags": []
   },
   "outputs": [
    {
     "data": {
      "image/png": "[encoded data removed]",
      "text/plain": [
       "<Figure size 2000x1000 with 1 Axes>"
      ]
     },
     "metadata": {},
     "output_type": "display_data"
    }
   ],
   "source": [
    "plt.figure(figsize=(20, 10))\n",
    "sns.histplot(df['Network_Type'], bins=30, kde=False, color='blue')\n",
    "plt.title('Frequência do tipo de conexão')\n",
    "plt.xlabel(\"Network_Type\")\n",
    "plt.ylabel(\"Frequência\")\n",
    "plt.show()"
   ]
  },
  {
   "cell_type": "code",
   "execution_count": 13,
   "id": "d551a83f",
   "metadata": {
    "execution": {
     "iopub.execute_input": "2025-02-09T15:59:36.743550Z",
     "iopub.status.busy": "2025-02-09T15:59:36.743116Z",
     "iopub.status.idle": "2025-02-09T15:59:36.754489Z",
     "shell.execute_reply": "2025-02-09T15:59:36.753276Z"
    },
    "papermill": {
     "duration": 0.022658,
     "end_time": "2025-02-09T15:59:36.756236",
     "exception": false,
     "start_time": "2025-02-09T15:59:36.733578",
     "status": "completed"
    },
    "tags": []
   },
   "outputs": [
    {
     "data": {
      "text/html": [
       "<div>\n",
       "<style scoped>\n",
       "    .dataframe tbody tr th:only-of-type {\n",
       "        vertical-align: middle;\n",
       "    }\n",
       "\n",
       "    .dataframe tbody tr th {\n",
       "        vertical-align: top;\n",
       "    }\n",
       "\n",
       "    .dataframe thead th {\n",
       "        text-align: right;\n",
       "    }\n",
       "</style>\n",
       "<table border=\"1\" class=\"dataframe\">\n",
       "  <thead>\n",
       "    <tr style=\"text-align: right;\">\n",
       "      <th></th>\n",
       "      <th>Network_Type</th>\n",
       "      <th>Frequencia</th>\n",
       "    </tr>\n",
       "  </thead>\n",
       "  <tbody>\n",
       "    <tr>\n",
       "      <th>0</th>\n",
       "      <td>4G</td>\n",
       "      <td>68</td>\n",
       "    </tr>\n",
       "    <tr>\n",
       "      <th>1</th>\n",
       "      <td>WiFi</td>\n",
       "      <td>67</td>\n",
       "    </tr>\n",
       "    <tr>\n",
       "      <th>2</th>\n",
       "      <td>5G</td>\n",
       "      <td>65</td>\n",
       "    </tr>\n",
       "  </tbody>\n",
       "</table>\n",
       "</div>"
      ],
      "text/plain": [
       "  Network_Type  Frequencia\n",
       "0           4G          68\n",
       "1         WiFi          67\n",
       "2           5G          65"
      ]
     },
     "execution_count": 13,
     "metadata": {},
     "output_type": "execute_result"
    }
   ],
   "source": [
    "qtd = df['Network_Type'].value_counts().reset_index(name='Frequencia')\n",
    "qtd.columns = ['Network_Type', 'Frequencia']\n",
    "qtd"
   ]
  },
  {
   "cell_type": "markdown",
   "id": "ba901e27",
   "metadata": {
    "papermill": {
     "duration": 0.008509,
     "end_time": "2025-02-09T15:59:36.773592",
     "exception": false,
     "start_time": "2025-02-09T15:59:36.765083",
     "status": "completed"
    },
    "tags": []
   },
   "source": [
    "# Data_Usage (MB)"
   ]
  },
  {
   "cell_type": "code",
   "execution_count": 14,
   "id": "51c624cf",
   "metadata": {
    "execution": {
     "iopub.execute_input": "2025-02-09T15:59:36.792414Z",
     "iopub.status.busy": "2025-02-09T15:59:36.791997Z",
     "iopub.status.idle": "2025-02-09T15:59:37.274034Z",
     "shell.execute_reply": "2025-02-09T15:59:37.272805Z"
    },
    "papermill": {
     "duration": 0.493572,
     "end_time": "2025-02-09T15:59:37.275930",
     "exception": false,
     "start_time": "2025-02-09T15:59:36.782358",
     "status": "completed"
    },
    "tags": []
   },
   "outputs": [
    {
     "data": {
      "image/png": "[encoded data removed]",
      "text/plain": [
       "<Figure size 2000x1000 with 1 Axes>"
      ]
     },
     "metadata": {},
     "output_type": "display_data"
    }
   ],
   "source": [
    "plt.figure(figsize=(20, 10))\n",
    "sns.histplot(df['Data_Usage (MB)'], bins=30, kde=False, color='blue')\n",
    "plt.title(\"Frequência do da quantidade dados usados em MB\")\n",
    "plt.xlabel(\"Data_Usage (MB)\")\n",
    "plt.ylabel(\"Frequência\")\n",
    "plt.show()"
   ]
  },
  {
   "cell_type": "code",
   "execution_count": 15,
   "id": "50fa6d1c",
   "metadata": {
    "execution": {
     "iopub.execute_input": "2025-02-09T15:59:37.296862Z",
     "iopub.status.busy": "2025-02-09T15:59:37.296519Z",
     "iopub.status.idle": "2025-02-09T15:59:37.317296Z",
     "shell.execute_reply": "2025-02-09T15:59:37.316226Z"
    },
    "papermill": {
     "duration": 0.03364,
     "end_time": "2025-02-09T15:59:37.319295",
     "exception": false,
     "start_time": "2025-02-09T15:59:37.285655",
     "status": "completed"
    },
    "tags": []
   },
   "outputs": [
    {
     "data": {
      "text/html": [
       "<div>\n",
       "<style scoped>\n",
       "    .dataframe tbody tr th:only-of-type {\n",
       "        vertical-align: middle;\n",
       "    }\n",
       "\n",
       "    .dataframe tbody tr th {\n",
       "        vertical-align: top;\n",
       "    }\n",
       "\n",
       "    .dataframe thead th {\n",
       "        text-align: right;\n",
       "    }\n",
       "</style>\n",
       "<table border=\"1\" class=\"dataframe\">\n",
       "  <thead>\n",
       "    <tr style=\"text-align: right;\">\n",
       "      <th></th>\n",
       "      <th>Data_Usage (MB)</th>\n",
       "      <th>Frequencia</th>\n",
       "    </tr>\n",
       "  </thead>\n",
       "  <tbody>\n",
       "    <tr>\n",
       "      <th>0</th>\n",
       "      <td>1983.64</td>\n",
       "      <td>1</td>\n",
       "    </tr>\n",
       "    <tr>\n",
       "      <th>1</th>\n",
       "      <td>1480.20</td>\n",
       "      <td>1</td>\n",
       "    </tr>\n",
       "    <tr>\n",
       "      <th>2</th>\n",
       "      <td>1545.12</td>\n",
       "      <td>1</td>\n",
       "    </tr>\n",
       "    <tr>\n",
       "      <th>3</th>\n",
       "      <td>757.16</td>\n",
       "      <td>1</td>\n",
       "    </tr>\n",
       "    <tr>\n",
       "      <th>4</th>\n",
       "      <td>277.47</td>\n",
       "      <td>1</td>\n",
       "    </tr>\n",
       "    <tr>\n",
       "      <th>...</th>\n",
       "      <td>...</td>\n",
       "      <td>...</td>\n",
       "    </tr>\n",
       "    <tr>\n",
       "      <th>195</th>\n",
       "      <td>1439.52</td>\n",
       "      <td>1</td>\n",
       "    </tr>\n",
       "    <tr>\n",
       "      <th>196</th>\n",
       "      <td>1157.34</td>\n",
       "      <td>1</td>\n",
       "    </tr>\n",
       "    <tr>\n",
       "      <th>197</th>\n",
       "      <td>579.27</td>\n",
       "      <td>1</td>\n",
       "    </tr>\n",
       "    <tr>\n",
       "      <th>198</th>\n",
       "      <td>140.53</td>\n",
       "      <td>1</td>\n",
       "    </tr>\n",
       "    <tr>\n",
       "      <th>199</th>\n",
       "      <td>138.11</td>\n",
       "      <td>1</td>\n",
       "    </tr>\n",
       "  </tbody>\n",
       "</table>\n",
       "<p>200 rows × 2 columns</p>\n",
       "</div>"
      ],
      "text/plain": [
       "     Data_Usage (MB)  Frequencia\n",
       "0            1983.64           1\n",
       "1            1480.20           1\n",
       "2            1545.12           1\n",
       "3             757.16           1\n",
       "4             277.47           1\n",
       "..               ...         ...\n",
       "195          1439.52           1\n",
       "196          1157.34           1\n",
       "197           579.27           1\n",
       "198           140.53           1\n",
       "199           138.11           1\n",
       "\n",
       "[200 rows x 2 columns]"
      ]
     },
     "execution_count": 15,
     "metadata": {},
     "output_type": "execute_result"
    }
   ],
   "source": [
    "qtd = df['Data_Usage (MB)'].value_counts().reset_index(name='Frequencia')\n",
    "qtd.columns = ['Data_Usage (MB)', 'Frequencia']\n",
    "qtd"
   ]
  },
  {
   "cell_type": "markdown",
   "id": "f559b5ef",
   "metadata": {
    "papermill": {
     "duration": 0.009038,
     "end_time": "2025-02-09T15:59:37.337840",
     "exception": false,
     "start_time": "2025-02-09T15:59:37.328802",
     "status": "completed"
    },
    "tags": []
   },
   "source": [
    "# Steps_Count"
   ]
  },
  {
   "cell_type": "code",
   "execution_count": 16,
   "id": "8b133b72",
   "metadata": {
    "execution": {
     "iopub.execute_input": "2025-02-09T15:59:37.359708Z",
     "iopub.status.busy": "2025-02-09T15:59:37.359349Z",
     "iopub.status.idle": "2025-02-09T15:59:37.760685Z",
     "shell.execute_reply": "2025-02-09T15:59:37.759500Z"
    },
    "papermill": {
     "duration": 0.414571,
     "end_time": "2025-02-09T15:59:37.762644",
     "exception": false,
     "start_time": "2025-02-09T15:59:37.348073",
     "status": "completed"
    },
    "tags": []
   },
   "outputs": [
    {
     "data": {
      "image/png": "[encoded data removed]",
      "text/plain": [
       "<Figure size 2000x1000 with 1 Axes>"
      ]
     },
     "metadata": {},
     "output_type": "display_data"
    }
   ],
   "source": [
    "plt.figure(figsize=(20, 10))\n",
    "sns.histplot(df['Steps_Count'], bins=30, kde=False, color='blue')\n",
    "plt.title('Frequência dos Steps_Count')\n",
    "plt.xlabel(\"Steps_Count\")\n",
    "plt.ylabel(\"Frequência\")\n",
    "plt.show()"
   ]
  },
  {
   "cell_type": "code",
   "execution_count": 17,
   "id": "265a302f",
   "metadata": {
    "execution": {
     "iopub.execute_input": "2025-02-09T15:59:37.785450Z",
     "iopub.status.busy": "2025-02-09T15:59:37.785007Z",
     "iopub.status.idle": "2025-02-09T15:59:37.796801Z",
     "shell.execute_reply": "2025-02-09T15:59:37.795657Z"
    },
    "papermill": {
     "duration": 0.02481,
     "end_time": "2025-02-09T15:59:37.798497",
     "exception": false,
     "start_time": "2025-02-09T15:59:37.773687",
     "status": "completed"
    },
    "tags": []
   },
   "outputs": [
    {
     "data": {
      "text/html": [
       "<div>\n",
       "<style scoped>\n",
       "    .dataframe tbody tr th:only-of-type {\n",
       "        vertical-align: middle;\n",
       "    }\n",
       "\n",
       "    .dataframe tbody tr th {\n",
       "        vertical-align: top;\n",
       "    }\n",
       "\n",
       "    .dataframe thead th {\n",
       "        text-align: right;\n",
       "    }\n",
       "</style>\n",
       "<table border=\"1\" class=\"dataframe\">\n",
       "  <thead>\n",
       "    <tr style=\"text-align: right;\">\n",
       "      <th></th>\n",
       "      <th>Steps_Count</th>\n",
       "      <th>Frequencia</th>\n",
       "    </tr>\n",
       "  </thead>\n",
       "  <tbody>\n",
       "    <tr>\n",
       "      <th>0</th>\n",
       "      <td>4299</td>\n",
       "      <td>1</td>\n",
       "    </tr>\n",
       "    <tr>\n",
       "      <th>1</th>\n",
       "      <td>7016</td>\n",
       "      <td>1</td>\n",
       "    </tr>\n",
       "    <tr>\n",
       "      <th>2</th>\n",
       "      <td>8023</td>\n",
       "      <td>1</td>\n",
       "    </tr>\n",
       "    <tr>\n",
       "      <th>3</th>\n",
       "      <td>10562</td>\n",
       "      <td>1</td>\n",
       "    </tr>\n",
       "    <tr>\n",
       "      <th>4</th>\n",
       "      <td>1101</td>\n",
       "      <td>1</td>\n",
       "    </tr>\n",
       "    <tr>\n",
       "      <th>...</th>\n",
       "      <td>...</td>\n",
       "      <td>...</td>\n",
       "    </tr>\n",
       "    <tr>\n",
       "      <th>195</th>\n",
       "      <td>6019</td>\n",
       "      <td>1</td>\n",
       "    </tr>\n",
       "    <tr>\n",
       "      <th>196</th>\n",
       "      <td>8274</td>\n",
       "      <td>1</td>\n",
       "    </tr>\n",
       "    <tr>\n",
       "      <th>197</th>\n",
       "      <td>7030</td>\n",
       "      <td>1</td>\n",
       "    </tr>\n",
       "    <tr>\n",
       "      <th>198</th>\n",
       "      <td>12287</td>\n",
       "      <td>1</td>\n",
       "    </tr>\n",
       "    <tr>\n",
       "      <th>199</th>\n",
       "      <td>1319</td>\n",
       "      <td>1</td>\n",
       "    </tr>\n",
       "  </tbody>\n",
       "</table>\n",
       "<p>200 rows × 2 columns</p>\n",
       "</div>"
      ],
      "text/plain": [
       "     Steps_Count  Frequencia\n",
       "0           4299           1\n",
       "1           7016           1\n",
       "2           8023           1\n",
       "3          10562           1\n",
       "4           1101           1\n",
       "..           ...         ...\n",
       "195         6019           1\n",
       "196         8274           1\n",
       "197         7030           1\n",
       "198        12287           1\n",
       "199         1319           1\n",
       "\n",
       "[200 rows x 2 columns]"
      ]
     },
     "execution_count": 17,
     "metadata": {},
     "output_type": "execute_result"
    }
   ],
   "source": [
    "qtd = df['Steps_Count'].value_counts().reset_index(name='Frequencia')\n",
    "qtd.columns = ['Steps_Count', 'Frequencia']\n",
    "qtd"
   ]
  },
  {
   "cell_type": "markdown",
   "id": "a8f07260",
   "metadata": {
    "papermill": {
     "duration": 0.009956,
     "end_time": "2025-02-09T15:59:37.818815",
     "exception": false,
     "start_time": "2025-02-09T15:59:37.808859",
     "status": "completed"
    },
    "tags": []
   },
   "source": [
    "# Call_Duration (mins)"
   ]
  },
  {
   "cell_type": "code",
   "execution_count": 18,
   "id": "5da00e50",
   "metadata": {
    "execution": {
     "iopub.execute_input": "2025-02-09T15:59:37.841764Z",
     "iopub.status.busy": "2025-02-09T15:59:37.841412Z",
     "iopub.status.idle": "2025-02-09T15:59:38.334836Z",
     "shell.execute_reply": "2025-02-09T15:59:38.333706Z"
    },
    "papermill": {
     "duration": 0.507582,
     "end_time": "2025-02-09T15:59:38.337129",
     "exception": false,
     "start_time": "2025-02-09T15:59:37.829547",
     "status": "completed"
    },
    "tags": []
   },
   "outputs": [
    {
     "data": {
      "image/png": "[encoded data removed]",
      "text/plain": [
       "<Figure size 2000x1000 with 1 Axes>"
      ]
     },
     "metadata": {},
     "output_type": "display_data"
    }
   ],
   "source": [
    "plt.figure(figsize=(20, 10))\n",
    "sns.histplot(df['Call_Duration (mins)'], bins=30, kde=False, color='blue')\n",
    "plt.title('Frequência da duração das ligações em minutos')\n",
    "plt.xlabel(\"Call_Duration (mins)\")\n",
    "plt.ylabel(\"Frequência\")\n",
    "plt.show()"
   ]
  },
  {
   "cell_type": "code",
   "execution_count": 19,
   "id": "fd5331a7",
   "metadata": {
    "execution": {
     "iopub.execute_input": "2025-02-09T15:59:38.361320Z",
     "iopub.status.busy": "2025-02-09T15:59:38.360909Z",
     "iopub.status.idle": "2025-02-09T15:59:38.373092Z",
     "shell.execute_reply": "2025-02-09T15:59:38.372076Z"
    },
    "papermill": {
     "duration": 0.026526,
     "end_time": "2025-02-09T15:59:38.374794",
     "exception": false,
     "start_time": "2025-02-09T15:59:38.348268",
     "status": "completed"
    },
    "tags": []
   },
   "outputs": [
    {
     "data": {
      "text/html": [
       "<div>\n",
       "<style scoped>\n",
       "    .dataframe tbody tr th:only-of-type {\n",
       "        vertical-align: middle;\n",
       "    }\n",
       "\n",
       "    .dataframe tbody tr th {\n",
       "        vertical-align: top;\n",
       "    }\n",
       "\n",
       "    .dataframe thead th {\n",
       "        text-align: right;\n",
       "    }\n",
       "</style>\n",
       "<table border=\"1\" class=\"dataframe\">\n",
       "  <thead>\n",
       "    <tr style=\"text-align: right;\">\n",
       "      <th></th>\n",
       "      <th>Call_Duration (mins)</th>\n",
       "      <th>Frequencia</th>\n",
       "    </tr>\n",
       "  </thead>\n",
       "  <tbody>\n",
       "    <tr>\n",
       "      <th>0</th>\n",
       "      <td>17</td>\n",
       "      <td>5</td>\n",
       "    </tr>\n",
       "    <tr>\n",
       "      <th>1</th>\n",
       "      <td>25</td>\n",
       "      <td>5</td>\n",
       "    </tr>\n",
       "    <tr>\n",
       "      <th>2</th>\n",
       "      <td>50</td>\n",
       "      <td>5</td>\n",
       "    </tr>\n",
       "    <tr>\n",
       "      <th>3</th>\n",
       "      <td>31</td>\n",
       "      <td>5</td>\n",
       "    </tr>\n",
       "    <tr>\n",
       "      <th>4</th>\n",
       "      <td>27</td>\n",
       "      <td>4</td>\n",
       "    </tr>\n",
       "    <tr>\n",
       "      <th>...</th>\n",
       "      <td>...</td>\n",
       "      <td>...</td>\n",
       "    </tr>\n",
       "    <tr>\n",
       "      <th>87</th>\n",
       "      <td>35</td>\n",
       "      <td>1</td>\n",
       "    </tr>\n",
       "    <tr>\n",
       "      <th>88</th>\n",
       "      <td>42</td>\n",
       "      <td>1</td>\n",
       "    </tr>\n",
       "    <tr>\n",
       "      <th>89</th>\n",
       "      <td>81</td>\n",
       "      <td>1</td>\n",
       "    </tr>\n",
       "    <tr>\n",
       "      <th>90</th>\n",
       "      <td>75</td>\n",
       "      <td>1</td>\n",
       "    </tr>\n",
       "    <tr>\n",
       "      <th>91</th>\n",
       "      <td>115</td>\n",
       "      <td>1</td>\n",
       "    </tr>\n",
       "  </tbody>\n",
       "</table>\n",
       "<p>92 rows × 2 columns</p>\n",
       "</div>"
      ],
      "text/plain": [
       "    Call_Duration (mins)  Frequencia\n",
       "0                     17           5\n",
       "1                     25           5\n",
       "2                     50           5\n",
       "3                     31           5\n",
       "4                     27           4\n",
       "..                   ...         ...\n",
       "87                    35           1\n",
       "88                    42           1\n",
       "89                    81           1\n",
       "90                    75           1\n",
       "91                   115           1\n",
       "\n",
       "[92 rows x 2 columns]"
      ]
     },
     "execution_count": 19,
     "metadata": {},
     "output_type": "execute_result"
    }
   ],
   "source": [
    "qtd = df['Call_Duration (mins)'].value_counts().reset_index(name='Frequencia')\n",
    "qtd.columns = ['Call_Duration (mins)', 'Frequencia']\n",
    "qtd"
   ]
  },
  {
   "cell_type": "markdown",
   "id": "46176d11",
   "metadata": {
    "papermill": {
     "duration": 0.011528,
     "end_time": "2025-02-09T15:59:38.397786",
     "exception": false,
     "start_time": "2025-02-09T15:59:38.386258",
     "status": "completed"
    },
    "tags": []
   },
   "source": [
    "# App_Usage (Top App)"
   ]
  },
  {
   "cell_type": "code",
   "execution_count": 20,
   "id": "d697795a",
   "metadata": {
    "execution": {
     "iopub.execute_input": "2025-02-09T15:59:38.422072Z",
     "iopub.status.busy": "2025-02-09T15:59:38.421723Z",
     "iopub.status.idle": "2025-02-09T15:59:38.755429Z",
     "shell.execute_reply": "2025-02-09T15:59:38.754021Z"
    },
    "papermill": {
     "duration": 0.347675,
     "end_time": "2025-02-09T15:59:38.757315",
     "exception": false,
     "start_time": "2025-02-09T15:59:38.409640",
     "status": "completed"
    },
    "tags": []
   },
   "outputs": [
    {
     "data": {
      "image/png": "[encoded data removed]",
      "text/plain": [
       "<Figure size 2000x1000 with 1 Axes>"
      ]
     },
     "metadata": {},
     "output_type": "display_data"
    }
   ],
   "source": [
    "plt.figure(figsize=(20, 10))\n",
    "sns.histplot(df['App_Usage (Top App)'], bins=30, kde=False, color='blue')\n",
    "plt.title('Frequência do uso dos Apps')\n",
    "plt.xlabel(\"App_Usage (Top App)\")\n",
    "plt.ylabel(\"Frequência\")\n",
    "plt.show()"
   ]
  },
  {
   "cell_type": "code",
   "execution_count": 21,
   "id": "61de66e8",
   "metadata": {
    "execution": {
     "iopub.execute_input": "2025-02-09T15:59:38.782525Z",
     "iopub.status.busy": "2025-02-09T15:59:38.782085Z",
     "iopub.status.idle": "2025-02-09T15:59:38.793052Z",
     "shell.execute_reply": "2025-02-09T15:59:38.791964Z"
    },
    "papermill": {
     "duration": 0.025497,
     "end_time": "2025-02-09T15:59:38.794782",
     "exception": false,
     "start_time": "2025-02-09T15:59:38.769285",
     "status": "completed"
    },
    "tags": []
   },
   "outputs": [
    {
     "data": {
      "text/html": [
       "<div>\n",
       "<style scoped>\n",
       "    .dataframe tbody tr th:only-of-type {\n",
       "        vertical-align: middle;\n",
       "    }\n",
       "\n",
       "    .dataframe tbody tr th {\n",
       "        vertical-align: top;\n",
       "    }\n",
       "\n",
       "    .dataframe thead th {\n",
       "        text-align: right;\n",
       "    }\n",
       "</style>\n",
       "<table border=\"1\" class=\"dataframe\">\n",
       "  <thead>\n",
       "    <tr style=\"text-align: right;\">\n",
       "      <th></th>\n",
       "      <th>App_Usage (Top App)</th>\n",
       "      <th>Frequencia</th>\n",
       "    </tr>\n",
       "  </thead>\n",
       "  <tbody>\n",
       "    <tr>\n",
       "      <th>0</th>\n",
       "      <td>Twitter</td>\n",
       "      <td>31</td>\n",
       "    </tr>\n",
       "    <tr>\n",
       "      <th>1</th>\n",
       "      <td>YouTube</td>\n",
       "      <td>28</td>\n",
       "    </tr>\n",
       "    <tr>\n",
       "      <th>2</th>\n",
       "      <td>Spotify</td>\n",
       "      <td>27</td>\n",
       "    </tr>\n",
       "    <tr>\n",
       "      <th>3</th>\n",
       "      <td>WhatsApp</td>\n",
       "      <td>27</td>\n",
       "    </tr>\n",
       "    <tr>\n",
       "      <th>4</th>\n",
       "      <td>TikTok</td>\n",
       "      <td>25</td>\n",
       "    </tr>\n",
       "    <tr>\n",
       "      <th>5</th>\n",
       "      <td>Snapchat</td>\n",
       "      <td>22</td>\n",
       "    </tr>\n",
       "    <tr>\n",
       "      <th>6</th>\n",
       "      <td>Facebook</td>\n",
       "      <td>21</td>\n",
       "    </tr>\n",
       "    <tr>\n",
       "      <th>7</th>\n",
       "      <td>Instagram</td>\n",
       "      <td>19</td>\n",
       "    </tr>\n",
       "  </tbody>\n",
       "</table>\n",
       "</div>"
      ],
      "text/plain": [
       "  App_Usage (Top App)  Frequencia\n",
       "0             Twitter          31\n",
       "1             YouTube          28\n",
       "2             Spotify          27\n",
       "3            WhatsApp          27\n",
       "4              TikTok          25\n",
       "5            Snapchat          22\n",
       "6            Facebook          21\n",
       "7           Instagram          19"
      ]
     },
     "execution_count": 21,
     "metadata": {},
     "output_type": "execute_result"
    }
   ],
   "source": [
    "qtd = df['App_Usage (Top App)'].value_counts().reset_index(name='Frequencia')\n",
    "qtd.columns = ['App_Usage (Top App)', 'Frequencia']\n",
    "qtd"
   ]
  }
 ],
 "metadata": {
  "kaggle": {
   "accelerator": "none",
   "dataSources": [
    {
     "datasetId": 6632707,
     "sourceId": 10702630,
     "sourceType": "datasetVersion"
    }
   ],
   "dockerImageVersionId": 30886,
   "isGpuEnabled": false,
   "isInternetEnabled": true,
   "language": "python",
   "sourceType": "notebook"
  },
  "kernelspec": {
   "display_name": "Python 3",
   "language": "python",
   "name": "python3"
  },
  "language_info": {
   "codemirror_mode": {
    "name": "ipython",
    "version": 3
   },
   "file_extension": ".py",
   "mimetype": "text/x-python",
   "name": "python",
   "nbconvert_exporter": "python",
   "pygments_lexer": "ipython3",
   "version": "3.10.12"
  },
  "papermill": {
   "default_parameters": {},
   "duration": 10.714327,
   "end_time": "2025-02-09T15:59:39.629371",
   "environment_variables": {},
   "exception": null,
   "input_path": "__notebook__.ipynb",
   "output_path": "__notebook__.ipynb",
   "parameters": {},
   "start_time": "2025-02-09T15:59:28.915044",
   "version": "2.6.0"
  }
 },
 "nbformat": 4,
 "nbformat_minor": 5
}
